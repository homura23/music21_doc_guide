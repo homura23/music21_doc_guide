{
 "cells": [
  {
   "cell_type": "markdown",
   "id": "ea6ffd89",
   "metadata": {},
   "source": [
    "# Chapter 12: Getting Back to Basics: The Music21Object"
   ]
  },
  {
   "cell_type": "code",
   "execution_count": 1,
   "id": "a0550e2c",
   "metadata": {},
   "outputs": [],
   "source": [
    "from music21 import *"
   ]
  },
  {
   "cell_type": "markdown",
   "id": "f11ff28e",
   "metadata": {},
   "source": [
    "## Music21Object"
   ]
  },
  {
   "cell_type": "markdown",
   "id": "f81336c4",
   "metadata": {},
   "source": [
    "Def: A ***Music21Object*** is something that can go in a *Stream*, knows where it is in a Stream, and has a *Duration* at *.duration*"
   ]
  },
  {
   "cell_type": "markdown",
   "id": "e24e093a",
   "metadata": {},
   "source": [
    "But, not every object in *music21* is a “Music21Object”"
   ]
  },
  {
   "cell_type": "code",
   "execution_count": 2,
   "id": "52dbad00",
   "metadata": {},
   "outputs": [],
   "source": [
    "p = pitch.Pitch(\"A-2\")\n",
    "s = stream.Stream()\n",
    "d = duration.Duration('half')\n",
    "#  the Pitch object and the Duration object are not Music21Object"
   ]
  },
  {
   "cell_type": "markdown",
   "id": "55edb45e",
   "metadata": {},
   "source": [
    "If you run the following codes, you would get an error!!! Thus I add a \"#\" here. "
   ]
  },
  {
   "cell_type": "code",
   "execution_count": 3,
   "id": "8b7037e8",
   "metadata": {},
   "outputs": [],
   "source": [
    "# s.insert(0, p)\n",
    "# s.insert(0, d)"
   ]
  },
  {
   "cell_type": "markdown",
   "id": "45d0d8f4",
   "metadata": {},
   "source": [
    "Why not make everything a Music21Object : The overhead is time consuming\n",
    "\n",
    "The *Note* object is suitable "
   ]
  },
  {
   "cell_type": "code",
   "execution_count": 4,
   "id": "2cb90e14",
   "metadata": {},
   "outputs": [
    {
     "name": "stdout",
     "output_type": "stream",
     "text": [
      "{0.0} <music21.note.Note A->\n"
     ]
    }
   ],
   "source": [
    "n = note.Note('A-2', type='half')\n",
    "s.insert(0, n)\n",
    "s.show('text')"
   ]
  },
  {
   "cell_type": "markdown",
   "id": "52096828",
   "metadata": {},
   "source": [
    "The class of an object cannot (well, should not) change after it’s been created."
   ]
  },
  {
   "cell_type": "code",
   "execution_count": 5,
   "id": "dab76439",
   "metadata": {},
   "outputs": [
    {
     "data": {
      "text/plain": [
       "('Note', 'NotRest', 'GeneralNote', 'Music21Object', 'ProtoM21Object', 'object')"
      ]
     },
     "execution_count": 5,
     "metadata": {},
     "output_type": "execute_result"
    }
   ],
   "source": [
    "note.Note().classes"
   ]
  },
  {
   "cell_type": "code",
   "execution_count": 6,
   "id": "6355c3af",
   "metadata": {},
   "outputs": [
    {
     "data": {
      "text/plain": [
       "('Rest', 'GeneralNote', 'Music21Object', 'ProtoM21Object', 'object')"
      ]
     },
     "execution_count": 6,
     "metadata": {},
     "output_type": "execute_result"
    }
   ],
   "source": [
    "note.Rest().classes"
   ]
  },
  {
   "cell_type": "markdown",
   "id": "fc76675a",
   "metadata": {},
   "source": [
    "Streams have many ways of filtering out Music21Objects according to class. The easiest way is with ***.getElementsByClass***"
   ]
  },
  {
   "cell_type": "code",
   "execution_count": 7,
   "id": "231ffacd",
   "metadata": {},
   "outputs": [
    {
     "name": "stdout",
     "output_type": "stream",
     "text": [
      "<music21.note.Note A>\n",
      "<music21.note.Note B>\n"
     ]
    }
   ],
   "source": [
    "s = stream.Stream()\n",
    "s.append(clef.TrebleClef())\n",
    "s.append(meter.TimeSignature('3/4'))\n",
    "s.append(note.Note(\"A\"))\n",
    "s.append(note.Rest())\n",
    "s.append(note.Note(\"B\"))\n",
    "\n",
    "for element in s.getElementsByClass('Note'):\n",
    "    print(element)"
   ]
  },
  {
   "cell_type": "markdown",
   "id": "6ab97e79",
   "metadata": {},
   "source": [
    "The common ancestor class of Notes and Rests is *GeneralNote* so we will filter on this:"
   ]
  },
  {
   "cell_type": "code",
   "execution_count": 8,
   "id": "8684c112",
   "metadata": {},
   "outputs": [
    {
     "name": "stdout",
     "output_type": "stream",
     "text": [
      "<music21.note.Note A>\n",
      "<music21.note.Rest quarter>\n",
      "<music21.note.Note B>\n"
     ]
    }
   ],
   "source": [
    "for element in s.getElementsByClass('GeneralNote'):\n",
    "    print(element)"
   ]
  },
  {
   "cell_type": "markdown",
   "id": "b7948b02",
   "metadata": {},
   "source": [
    "## Attributes and Properties"
   ]
  },
  {
   "cell_type": "markdown",
   "id": "aa4c89f7",
   "metadata": {},
   "source": [
    "Once you know that something is a *music21Object* you can exploit the attributes of the object for musical purposes."
   ]
  },
  {
   "cell_type": "markdown",
   "id": "16dd59b0",
   "metadata": {},
   "source": [
    "### id"
   ]
  },
  {
   "cell_type": "code",
   "execution_count": 9,
   "id": "63302fa4",
   "metadata": {},
   "outputs": [
    {
     "data": {
      "text/plain": [
       "2889428776560"
      ]
     },
     "execution_count": 9,
     "metadata": {},
     "output_type": "execute_result"
    }
   ],
   "source": [
    "n = note.Note(\"C#4\")\n",
    "n.id"
   ]
  },
  {
   "cell_type": "code",
   "execution_count": 10,
   "id": "d7d79fa6",
   "metadata": {},
   "outputs": [
    {
     "data": {
      "text/plain": [
       "2889428776560"
      ]
     },
     "execution_count": 10,
     "metadata": {},
     "output_type": "execute_result"
    }
   ],
   "source": [
    "id(n)"
   ]
  },
  {
   "cell_type": "markdown",
   "id": "d6927289",
   "metadata": {},
   "source": [
    "But we can set it **manually** so that the object is easier to find later"
   ]
  },
  {
   "cell_type": "code",
   "execution_count": 11,
   "id": "47264819",
   "metadata": {},
   "outputs": [
    {
     "data": {
      "text/plain": [
       "'first_note'"
      ]
     },
     "execution_count": 11,
     "metadata": {},
     "output_type": "execute_result"
    }
   ],
   "source": [
    "n.id = 'first_note'\n",
    "n.id"
   ]
  },
  {
   "cell_type": "markdown",
   "id": "0239175d",
   "metadata": {},
   "source": [
    "This *.id* is especially useful for *Stream* objects because it will be displayed in the representation of the Stream"
   ]
  },
  {
   "cell_type": "code",
   "execution_count": 12,
   "id": "931e940b",
   "metadata": {},
   "outputs": [
    {
     "data": {
      "text/plain": [
       "<music21.stream.Stream empty_stream>"
      ]
     },
     "execution_count": 12,
     "metadata": {},
     "output_type": "execute_result"
    }
   ],
   "source": [
    "s = stream.Stream()\n",
    "s.id = 'empty_stream'\n",
    "s"
   ]
  },
  {
   "cell_type": "markdown",
   "id": "4460c34d",
   "metadata": {},
   "source": [
    "Parts can be retrieved from the ***.parts*** attribute of a score by id."
   ]
  },
  {
   "cell_type": "code",
   "execution_count": 13,
   "id": "17bda7ac",
   "metadata": {},
   "outputs": [
    {
     "data": {
      "text/plain": [
       "<music21.stream.Part Soprano>"
      ]
     },
     "execution_count": 13,
     "metadata": {},
     "output_type": "execute_result"
    }
   ],
   "source": [
    "bach = corpus.parse('bwv66.6')\n",
    "sopr = bach.parts['soprano']\n",
    "sopr"
   ]
  },
  {
   "cell_type": "code",
   "execution_count": 14,
   "id": "9776efa4",
   "metadata": {},
   "outputs": [
    {
     "data": {
      "text/plain": [
       "'Soprano'"
      ]
     },
     "execution_count": 14,
     "metadata": {},
     "output_type": "execute_result"
    }
   ],
   "source": [
    "sopr.id"
   ]
  },
  {
   "cell_type": "markdown",
   "id": "29303f67",
   "metadata": {},
   "source": [
    "There are some properties such as ***.getElementById()*** that retrieve objects by *.id*"
   ]
  },
  {
   "cell_type": "code",
   "execution_count": 15,
   "id": "b61a8005",
   "metadata": {},
   "outputs": [
    {
     "name": "stdout",
     "output_type": "stream",
     "text": [
      "<music21.note.Note C#> first_note\n"
     ]
    }
   ],
   "source": [
    "s.append(n)\n",
    "x = s.getElementById('first_note')\n",
    "print(x, x.id)"
   ]
  },
  {
   "cell_type": "markdown",
   "id": "8a63edfa",
   "metadata": {},
   "source": [
    "### Groups"
   ]
  },
  {
   "cell_type": "markdown",
   "id": "46ad9bd7",
   "metadata": {},
   "source": [
    "A group is a collection of labels for an object\n",
    "\n",
    "(1) each Music21Object can have zero, one, or multiple Groups – but it has exactly one .id\n",
    "\n",
    "(2) a single group label can belong to multiple Music21Objects."
   ]
  },
  {
   "cell_type": "code",
   "execution_count": 16,
   "id": "fd6beaaa",
   "metadata": {},
   "outputs": [
    {
     "data": {
      "text/plain": [
       "[]"
      ]
     },
     "execution_count": 16,
     "metadata": {},
     "output_type": "execute_result"
    }
   ],
   "source": [
    "n.groups"
   ]
  },
  {
   "cell_type": "markdown",
   "id": "263aa6e6",
   "metadata": {},
   "source": [
    "*Groups* are wrappers around lists that enforce the restriction that the label must be a **string**"
   ]
  },
  {
   "cell_type": "code",
   "execution_count": 17,
   "id": "70a1c0ca",
   "metadata": {},
   "outputs": [
    {
     "data": {
      "text/plain": [
       "['black_key', 'sharped']"
      ]
     },
     "execution_count": 17,
     "metadata": {},
     "output_type": "execute_result"
    }
   ],
   "source": [
    "n.groups.append('black_key')\n",
    "n.groups.append('sharped')\n",
    "n.groups"
   ]
  },
  {
   "cell_type": "markdown",
   "id": "2ebc5d08",
   "metadata": {},
   "source": [
    "use ***Stream.getElementsByGroup()*** to search through Streams"
   ]
  },
  {
   "cell_type": "code",
   "execution_count": 18,
   "id": "33f0979b",
   "metadata": {},
   "outputs": [
    {
     "name": "stdout",
     "output_type": "stream",
     "text": [
      "<music21.note.Note C#> first_note\n"
     ]
    }
   ],
   "source": [
    "for x in s.getElementsByGroup('sharped'):\n",
    "    print(x, x.id)"
   ]
  },
  {
   "cell_type": "markdown",
   "id": "26ce7969",
   "metadata": {},
   "source": [
    "*Groups* will be able to be used in styling objects automatically"
   ]
  },
  {
   "cell_type": "code",
   "execution_count": 19,
   "id": "e5a58e78",
   "metadata": {},
   "outputs": [],
   "source": [
    "for x in s.getElementsByGroup('black_key'):\n",
    "    x.notehead = 'circle-x'\n",
    "\n",
    "s.show('xml')"
   ]
  },
  {
   "attachments": {
    "image.png": {
     "image/png": "[encoded data removed]"
    }
   },
   "cell_type": "markdown",
   "id": "eaa61a86",
   "metadata": {},
   "source": [
    "![image.png](attachment:image.png)"
   ]
  },
  {
   "cell_type": "markdown",
   "id": "f990d2b8",
   "metadata": {},
   "source": [
    "## ActiveSite"
   ]
  },
  {
   "cell_type": "markdown",
   "id": "e6e102fc",
   "metadata": {},
   "source": [
    "A *Music21Object* that is inside one or more Streams should be able to get its most recently referenced stream via its ***.activeSite*** attribute"
   ]
  },
  {
   "cell_type": "code",
   "execution_count": 20,
   "id": "31111754",
   "metadata": {},
   "outputs": [
    {
     "data": {
      "text/plain": [
       "<music21.stream.Stream empty_stream>"
      ]
     },
     "execution_count": 20,
     "metadata": {},
     "output_type": "execute_result"
    }
   ],
   "source": [
    "n.activeSite\n",
    "# We’ve put n in s, which is called 'empty stream', so n’s .activeSite should be s"
   ]
  },
  {
   "cell_type": "markdown",
   "id": "39ec9e3c",
   "metadata": {},
   "source": [
    "The activeSite may change over time"
   ]
  },
  {
   "cell_type": "code",
   "execution_count": 21,
   "id": "20b93cf2",
   "metadata": {},
   "outputs": [
    {
     "data": {
      "text/plain": [
       "<music21.stream.Stream new_stream>"
      ]
     },
     "execution_count": 21,
     "metadata": {},
     "output_type": "execute_result"
    }
   ],
   "source": [
    "t = stream.Stream()\n",
    "t.id = 'new_stream'\n",
    "t.insert(4.0, n)\n",
    "\n",
    "n.activeSite"
   ]
  },
  {
   "cell_type": "markdown",
   "id": "4058470b",
   "metadata": {},
   "source": [
    "We can also change the activeSite"
   ]
  },
  {
   "cell_type": "code",
   "execution_count": 22,
   "id": "2294ce3e",
   "metadata": {},
   "outputs": [
    {
     "data": {
      "text/plain": [
       "<music21.stream.Stream empty_stream>"
      ]
     },
     "execution_count": 22,
     "metadata": {},
     "output_type": "execute_result"
    }
   ],
   "source": [
    "n.activeSite = s\n",
    "n.activeSite"
   ]
  },
  {
   "cell_type": "markdown",
   "id": "b3bd96db",
   "metadata": {},
   "source": [
    "Newly created objects have an *.activeSite* of *None*"
   ]
  },
  {
   "cell_type": "code",
   "execution_count": 23,
   "id": "fd4beab9",
   "metadata": {},
   "outputs": [
    {
     "data": {
      "text/plain": [
       "True"
      ]
     },
     "execution_count": 23,
     "metadata": {},
     "output_type": "execute_result"
    }
   ],
   "source": [
    "m = note.Rest()\n",
    "m.activeSite is None"
   ]
  },
  {
   "cell_type": "markdown",
   "id": "72bd9125",
   "metadata": {},
   "source": [
    "## offset"
   ]
  },
  {
   "cell_type": "markdown",
   "id": "c9d98cbb",
   "metadata": {},
   "source": [
    "The *.offset* of a *Music21Object* is the number of quarter notes from the start of the Stream it is a part of.\n",
    "\n",
    "The Stream that is referenced is the *.activeSite*"
   ]
  },
  {
   "cell_type": "code",
   "execution_count": 24,
   "id": "e354cba0",
   "metadata": {},
   "outputs": [
    {
     "data": {
      "text/plain": [
       "0.0"
      ]
     },
     "execution_count": 24,
     "metadata": {},
     "output_type": "execute_result"
    }
   ],
   "source": [
    "n.activeSite = s\n",
    "# n was inserted at offset 0 of s ('empty stream') \n",
    "n.offset"
   ]
  },
  {
   "cell_type": "code",
   "execution_count": 25,
   "id": "f9134dae",
   "metadata": {},
   "outputs": [
    {
     "data": {
      "text/plain": [
       "4.0"
      ]
     },
     "execution_count": 25,
     "metadata": {},
     "output_type": "execute_result"
    }
   ],
   "source": [
    "n.activeSite = t\n",
    "# and n was inserted at offset 4 of t ('new stream')\n",
    "n.offset"
   ]
  },
  {
   "cell_type": "markdown",
   "id": "de6735e3",
   "metadata": {},
   "source": [
    "A newly created *Music21Object* can set its offset"
   ]
  },
  {
   "cell_type": "code",
   "execution_count": 26,
   "id": "34a94233",
   "metadata": {},
   "outputs": [
    {
     "data": {
      "text/plain": [
       "<music21.stream.Stream empty_stream>"
      ]
     },
     "execution_count": 26,
     "metadata": {},
     "output_type": "execute_result"
    }
   ],
   "source": [
    "n2 = note.Note('G-2')\n",
    "n2.offset = 20.0\n",
    "s.insert(n2)\n",
    "n2.activeSite"
   ]
  },
  {
   "cell_type": "code",
   "execution_count": 27,
   "id": "a2edcaad",
   "metadata": {},
   "outputs": [
    {
     "data": {
      "text/plain": [
       "20.0"
      ]
     },
     "execution_count": 27,
     "metadata": {},
     "output_type": "execute_result"
    }
   ],
   "source": [
    "n2.offset"
   ]
  },
  {
   "cell_type": "markdown",
   "id": "bdfb876e",
   "metadata": {},
   "source": [
    "## priority"
   ]
  },
  {
   "cell_type": "markdown",
   "id": "042ef3ae",
   "metadata": {},
   "source": [
    "If you have a Stream with two elements at the same offset, how can you know which one of them should come first? "
   ]
  },
  {
   "cell_type": "code",
   "execution_count": 28,
   "id": "3753629f",
   "metadata": {},
   "outputs": [
    {
     "name": "stdout",
     "output_type": "stream",
     "text": [
      "{0.0} <music21.note.Note D>\n",
      "{0.0} <music21.note.Note E>\n"
     ]
    }
   ],
   "source": [
    "s = stream.Stream()\n",
    "d = note.Note('D4')\n",
    "e = note.Note('E4')\n",
    "s.insert(0.0, d)\n",
    "s.insert(0.0, e)\n",
    "s.show('text')\n",
    "# D was inserted first, so it comes first"
   ]
  },
  {
   "cell_type": "code",
   "execution_count": 29,
   "id": "eb0e3c5a",
   "metadata": {},
   "outputs": [
    {
     "data": {
      "text/plain": [
       "0"
      ]
     },
     "execution_count": 29,
     "metadata": {},
     "output_type": "execute_result"
    }
   ],
   "source": [
    "d.priority\n",
    "# .priority is any integer, with a default of zero"
   ]
  },
  {
   "cell_type": "code",
   "execution_count": 30,
   "id": "7eda61e7",
   "metadata": {},
   "outputs": [
    {
     "name": "stdout",
     "output_type": "stream",
     "text": [
      "{0.0} <music21.note.Note E>\n",
      "{0.0} <music21.note.Note D>\n"
     ]
    }
   ],
   "source": [
    "e.priority = -1\n",
    "s.show('text')"
   ]
  },
  {
   "cell_type": "markdown",
   "id": "72de8ebf",
   "metadata": {},
   "source": [
    "If we return *e*'s priority to the default of 0, it will again appear after *d*"
   ]
  },
  {
   "cell_type": "code",
   "execution_count": 31,
   "id": "227dd028",
   "metadata": {},
   "outputs": [
    {
     "name": "stdout",
     "output_type": "stream",
     "text": [
      "{0.0} <music21.note.Note D>\n",
      "{0.0} <music21.note.Note E>\n"
     ]
    }
   ],
   "source": [
    "e.priority = 0\n",
    "s.show('text')"
   ]
  },
  {
   "cell_type": "markdown",
   "id": "b1ff10c4",
   "metadata": {},
   "source": [
    "## classSortOrder"
   ]
  },
  {
   "cell_type": "markdown",
   "id": "5050a74d",
   "metadata": {},
   "source": [
    "Sorted special objects to show fristly"
   ]
  },
  {
   "cell_type": "code",
   "execution_count": 32,
   "id": "94ae7e2f",
   "metadata": {},
   "outputs": [
    {
     "name": "stdout",
     "output_type": "stream",
     "text": [
      "{0.0} <music21.clef.TrebleClef>\n",
      "{0.0} <music21.note.Note D>\n",
      "{0.0} <music21.note.Note E>\n"
     ]
    }
   ],
   "source": [
    "tc = clef.TrebleClef()\n",
    "s.insert(0.0, tc)\n",
    "s.show('text')"
   ]
  },
  {
   "cell_type": "markdown",
   "id": "8d95d970",
   "metadata": {},
   "source": [
    "Why the treble clef comes first?"
   ]
  },
  {
   "cell_type": "code",
   "execution_count": 33,
   "id": "cb596428",
   "metadata": {},
   "outputs": [
    {
     "data": {
      "text/plain": [
       "(0, 0, 0)"
      ]
     },
     "execution_count": 33,
     "metadata": {},
     "output_type": "execute_result"
    }
   ],
   "source": [
    "(tc.priority, d.priority, e.priority)"
   ]
  },
  {
   "cell_type": "markdown",
   "id": "c4f77c16",
   "metadata": {},
   "source": [
    "It's not because the *Offset*. But the *classSortOrder*"
   ]
  },
  {
   "cell_type": "code",
   "execution_count": 35,
   "id": "ec51d9c7",
   "metadata": {},
   "outputs": [
    {
     "data": {
      "text/plain": [
       "(0, 20, 20)"
      ]
     },
     "execution_count": 35,
     "metadata": {},
     "output_type": "execute_result"
    }
   ],
   "source": [
    "(tc.classSortOrder, d.classSortOrder, e.classSortOrder)\n",
    "# lower numbers come first"
   ]
  },
  {
   "cell_type": "markdown",
   "id": "e0753b4e",
   "metadata": {},
   "source": [
    "We’ve arbitrarily placed Clef at 0 and Note at 20 and lots of other Classes in between."
   ]
  },
  {
   "cell_type": "code",
   "execution_count": 36,
   "id": "18b4cdf9",
   "metadata": {},
   "outputs": [
    {
     "data": {
      "text/plain": [
       "(0, 20)"
      ]
     },
     "execution_count": 36,
     "metadata": {},
     "output_type": "execute_result"
    }
   ],
   "source": [
    "(clef.TrebleClef.classSortOrder, note.Note.classSortOrder)"
   ]
  }
 ],
 "metadata": {
  "kernelspec": {
   "display_name": "music21_doc",
   "language": "python",
   "name": "music21_doc"
  },
  "language_info": {
   "codemirror_mode": {
    "name": "ipython",
    "version": 3
   },
   "file_extension": ".py",
   "mimetype": "text/x-python",
   "name": "python",
   "nbconvert_exporter": "python",
   "pygments_lexer": "ipython3",
   "version": "3.8.16"
  }
 },
 "nbformat": 4,
 "nbformat_minor": 5
}
