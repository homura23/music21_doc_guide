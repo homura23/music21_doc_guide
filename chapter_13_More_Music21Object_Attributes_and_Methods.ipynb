{
 "cells": [
  {
   "cell_type": "markdown",
   "id": "f69c3b9c",
   "metadata": {},
   "source": [
    "# Chapter 13: More Music21Object Attributes and Properties"
   ]
  },
  {
   "cell_type": "markdown",
   "id": "b69898f6",
   "metadata": {},
   "source": [
    "This section gets first into some more advanced things that Music21Objects have, then some more fun things"
   ]
  },
  {
   "cell_type": "code",
   "execution_count": 1,
   "id": "ed0bd837",
   "metadata": {},
   "outputs": [],
   "source": [
    "from music21 import *"
   ]
  },
  {
   "cell_type": "markdown",
   "id": "687994cf",
   "metadata": {},
   "source": [
    "## Sites and the storing of elements"
   ]
  },
  {
   "cell_type": "code",
   "execution_count": 2,
   "id": "e260e1f4",
   "metadata": {},
   "outputs": [
    {
     "name": "stdout",
     "output_type": "stream",
     "text": [
      "<music21.stream.Stream s1> 10.0\n",
      "<music21.stream.Stream s2> 20.0\n"
     ]
    }
   ],
   "source": [
    "n = note.Note()\n",
    "s1 = stream.Stream(id='s1')\n",
    "s2 = stream.Stream(id='s2')\n",
    "s1.insert(10, n)\n",
    "s2.insert(20, n)\n",
    "\n",
    "for s in n.sites:\n",
    "    print(s, s.elementOffset(n))"
   ]
  },
  {
   "cell_type": "markdown",
   "id": "4448935c",
   "metadata": {},
   "source": [
    "## Derivations"
   ]
  },
  {
   "cell_type": "code",
   "execution_count": 3,
   "id": "0546a8c5",
   "metadata": {},
   "outputs": [
    {
     "data": {
      "text/plain": [
       "<Derivation of <music21.note.Note C> from None>"
      ]
     },
     "execution_count": 3,
     "metadata": {},
     "output_type": "execute_result"
    }
   ],
   "source": [
    "#  A Derivation object is a pointer to an object that this object is derived from in some way\n",
    "c = note.Note('C4')\n",
    "c.derivation"
   ]
  },
  {
   "cell_type": "markdown",
   "id": "ec0693dc",
   "metadata": {},
   "source": [
    "It starts from *None*. But we can create new notes from it."
   ]
  },
  {
   "cell_type": "code",
   "execution_count": 4,
   "id": "bde3106b",
   "metadata": {},
   "outputs": [
    {
     "data": {
      "text/plain": [
       "<music21.note.Note F>"
      ]
     },
     "execution_count": 4,
     "metadata": {},
     "output_type": "execute_result"
    }
   ],
   "source": [
    "f = c.transpose('P4')\n",
    "f"
   ]
  },
  {
   "cell_type": "code",
   "execution_count": 5,
   "id": "7bcdd67f",
   "metadata": {},
   "outputs": [
    {
     "data": {
      "text/plain": [
       "<Derivation of <music21.note.Note F> from <music21.note.Note C> via 'transpose'>"
      ]
     },
     "execution_count": 5,
     "metadata": {},
     "output_type": "execute_result"
    }
   ],
   "source": [
    "f.derivation"
   ]
  },
  {
   "cell_type": "markdown",
   "id": "f8f886e1",
   "metadata": {},
   "source": [
    "if *f* wants to do something to *c*, it can by changing itself and every element of its *.derivation.chain()*"
   ]
  },
  {
   "cell_type": "code",
   "execution_count": 6,
   "id": "e3c9a6bd",
   "metadata": {},
   "outputs": [
    {
     "data": {
      "text/plain": [
       "('diamond', 'diamond')"
      ]
     },
     "execution_count": 6,
     "metadata": {},
     "output_type": "execute_result"
    }
   ],
   "source": [
    "f.notehead = 'diamond'\n",
    "for n in f.derivation.chain():\n",
    "    n.notehead = 'diamond'\n",
    "\n",
    "(f.notehead, c.notehead)"
   ]
  },
  {
   "cell_type": "markdown",
   "id": "c32cf186",
   "metadata": {},
   "source": [
    "## Context attributes"
   ]
  },
  {
   "cell_type": "markdown",
   "id": "02eb30e2",
   "metadata": {},
   "source": [
    "### *.measureNumber* which finds the *.number* value of the measure that an object is placed in"
   ]
  },
  {
   "cell_type": "code",
   "execution_count": 7,
   "id": "31371824",
   "metadata": {},
   "outputs": [
    {
     "data": {
      "text/plain": [
       "7"
      ]
     },
     "execution_count": 7,
     "metadata": {},
     "output_type": "execute_result"
    }
   ],
   "source": [
    "n = note.Note('C')\n",
    "m = stream.Measure()\n",
    "m.number = 7\n",
    "m.append(n)\n",
    "n.measureNumber"
   ]
  },
  {
   "cell_type": "markdown",
   "id": "b9045cae",
   "metadata": {},
   "source": [
    "Without a context, you’ll get None"
   ]
  },
  {
   "cell_type": "code",
   "execution_count": 8,
   "id": "2244ad55",
   "metadata": {},
   "outputs": [
    {
     "data": {
      "text/plain": [
       "True"
      ]
     },
     "execution_count": 8,
     "metadata": {},
     "output_type": "execute_result"
    }
   ],
   "source": [
    "n3 = note.Note()\n",
    "n3.measureNumber is None"
   ]
  },
  {
   "cell_type": "markdown",
   "id": "5779d1a1",
   "metadata": {},
   "source": [
    "### *.seconds* will calculate how many seconds the object lasts at that tempo"
   ]
  },
  {
   "cell_type": "code",
   "execution_count": 9,
   "id": "67149808",
   "metadata": {},
   "outputs": [
    {
     "name": "stdout",
     "output_type": "stream",
     "text": [
      "1.0 0.5\n"
     ]
    }
   ],
   "source": [
    "m.insert(0, tempo.MetronomeMark('Allegro', 120))\n",
    "print (n.quarterLength, n.seconds)"
   ]
  },
  {
   "cell_type": "markdown",
   "id": "4d535de9",
   "metadata": {},
   "source": [
    "you can change *.seconds* to reflect exact timing you might have from audio or MIDI data"
   ]
  },
  {
   "cell_type": "code",
   "execution_count": 10,
   "id": "d94a71e0",
   "metadata": {},
   "outputs": [
    {
     "data": {
      "text/plain": [
       "0.6"
      ]
     },
     "execution_count": 10,
     "metadata": {},
     "output_type": "execute_result"
    }
   ],
   "source": [
    "n.seconds = 0.6\n",
    "n.seconds"
   ]
  },
  {
   "cell_type": "markdown",
   "id": "fa560395",
   "metadata": {},
   "source": [
    "An object with no tempo information in its surrounding context returns the special ***nan*** meaning “not a number”"
   ]
  },
  {
   "cell_type": "code",
   "execution_count": 11,
   "id": "f3b73a60",
   "metadata": {},
   "outputs": [
    {
     "data": {
      "text/plain": [
       "nan"
      ]
     },
     "execution_count": 11,
     "metadata": {},
     "output_type": "execute_result"
    }
   ],
   "source": [
    "n3 = note.Note('E')\n",
    "n3.seconds"
   ]
  },
  {
   "cell_type": "code",
   "execution_count": 13,
   "id": "8bc3b591",
   "metadata": {},
   "outputs": [
    {
     "name": "stdout",
     "output_type": "stream",
     "text": [
      "C 0.6\n",
      "E No information\n"
     ]
    }
   ],
   "source": [
    "from math import isnan\n",
    "\n",
    "for el in (n, n3):\n",
    "    seconds = el.seconds\n",
    "    if isnan(seconds):\n",
    "        seconds = 'No information'\n",
    "    print(el.step, seconds)"
   ]
  },
  {
   "cell_type": "markdown",
   "id": "fac880a6",
   "metadata": {},
   "source": [
    "## Methods on Music21Objects"
   ]
  },
  {
   "cell_type": "markdown",
   "id": "a2dabd02",
   "metadata": {},
   "source": [
    "Unlike attributes，Methods tend to do more work and have more options, so they will always be called with () signs"
   ]
  },
  {
   "cell_type": "markdown",
   "id": "de213513",
   "metadata": {},
   "source": [
    "### *.getOffsetBySite* and *.setOffsetBySite*"
   ]
  },
  {
   "cell_type": "code",
   "execution_count": 14,
   "id": "6d0c103b",
   "metadata": {},
   "outputs": [
    {
     "data": {
      "text/plain": [
       "10.0"
      ]
     },
     "execution_count": 14,
     "metadata": {},
     "output_type": "execute_result"
    }
   ],
   "source": [
    "n = note.Note()\n",
    "s1 = stream.Stream(id='s1')\n",
    "s1.insert(10, n)\n",
    "s2 = stream.Stream(id='s2')\n",
    "s2.insert(20, n)\n",
    "n.getOffsetBySite(s1)"
   ]
  },
  {
   "cell_type": "code",
   "execution_count": 15,
   "id": "c3a85f72",
   "metadata": {},
   "outputs": [
    {
     "data": {
      "text/plain": [
       "15.0"
      ]
     },
     "execution_count": 15,
     "metadata": {},
     "output_type": "execute_result"
    }
   ],
   "source": [
    "n.setOffsetBySite(s1, 15.0)\n",
    "n.getOffsetBySite(s1)"
   ]
  },
  {
   "cell_type": "markdown",
   "id": "a2c39236",
   "metadata": {},
   "source": [
    "### *getContextByClass()*"
   ]
  },
  {
   "cell_type": "code",
   "execution_count": 17,
   "id": "ddd72c42",
   "metadata": {},
   "outputs": [
    {
     "data": {
      "text/plain": [
       "<music21.note.Note F#>"
      ]
     },
     "execution_count": 17,
     "metadata": {},
     "output_type": "execute_result"
    }
   ],
   "source": [
    "# It finds the active element matching a certain class preceeding the element\n",
    "bach = corpus.parse('bwv66.6')\n",
    "lastNote = bach.recurse().getElementsByClass(note.Note).last()\n",
    "lastNote"
   ]
  },
  {
   "cell_type": "code",
   "execution_count": 18,
   "id": "937275fc",
   "metadata": {},
   "outputs": [
    {
     "data": {
      "text/plain": [
       "<music21.stream.Part Bass>"
      ]
     },
     "execution_count": 18,
     "metadata": {},
     "output_type": "execute_result"
    }
   ],
   "source": [
    "# What part is it in?\n",
    "lastNote.getContextByClass(stream.Part)"
   ]
  },
  {
   "cell_type": "code",
   "execution_count": 19,
   "id": "f5df3057",
   "metadata": {},
   "outputs": [
    {
     "data": {
      "text/plain": [
       "<music21.key.Key of f# minor>"
      ]
     },
     "execution_count": 19,
     "metadata": {},
     "output_type": "execute_result"
    }
   ],
   "source": [
    "# What was the Key at that moment?\n",
    "lastNote.getContextByClass(key.KeySignature)"
   ]
  },
  {
   "cell_type": "code",
   "execution_count": 20,
   "id": "b3185f0d",
   "metadata": {},
   "outputs": [
    {
     "data": {
      "text/plain": [
       "<music21.meter.TimeSignature 4/4>"
      ]
     },
     "execution_count": 20,
     "metadata": {},
     "output_type": "execute_result"
    }
   ],
   "source": [
    "# What is the TimeSignature at that moment?\n",
    "lastNote.getContextByClass(meter.TimeSignature)"
   ]
  },
  {
   "cell_type": "markdown",
   "id": "71e2151a",
   "metadata": {},
   "source": [
    "It knows about the differences in different types of Streams."
   ]
  },
  {
   "cell_type": "code",
   "execution_count": 21,
   "id": "0968169f",
   "metadata": {},
   "outputs": [
    {
     "name": "stdout",
     "output_type": "stream",
     "text": [
      "<music21.meter.TimeSignature 6/8> 1\n",
      "<music21.meter.TimeSignature 2/4> 28\n",
      "<music21.meter.TimeSignature 6/8> 80\n",
      "<music21.meter.TimeSignature 3/4> 110\n"
     ]
    }
   ],
   "source": [
    "gloria = corpus.parse('luca/gloria')\n",
    "soprano = gloria.parts[0]\n",
    "\n",
    "lastTimeSignature = None\n",
    "for n in soprano.recurse().getElementsByClass(note.Note):\n",
    "    thisTimeSignature = n.getContextByClass(meter.TimeSignature)\n",
    "    if thisTimeSignature is not lastTimeSignature:\n",
    "        lastTimeSignature = thisTimeSignature\n",
    "        print(thisTimeSignature, n.measureNumber)"
   ]
  },
  {
   "cell_type": "markdown",
   "id": "fede5c89",
   "metadata": {},
   "source": [
    "## Splitting methods"
   ]
  },
  {
   "cell_type": "markdown",
   "id": "ee592b21",
   "metadata": {},
   "source": [
    "*.splitAtQuarterLength* – splits an object into two objects at the given quarter length\n",
    "\n",
    "\n",
    "*.splitByQuarterLengths* – splits an object into two or more objects according to a list of quarter lengths\n",
    "\n",
    "\n",
    "*.splitAtDurations* – takes an object with a complex duration (such as 5.0 quarters) and splits it into notatable units"
   ]
  },
  {
   "cell_type": "code",
   "execution_count": 22,
   "id": "bf416cab",
   "metadata": {},
   "outputs": [],
   "source": [
    "n = note.Note('C#5')\n",
    "n.duration.type = 'whole'\n",
    "n.articulations = [articulations.Staccato(), articulations.Accent()]\n",
    "# articulation 演奏法\n",
    "n.lyric = 'hi!'\n",
    "n.expressions = [expressions.Mordent(), expressions.Trill(), expressions.Fermata()]\n",
    "# Mordent 波音； Trill 颤音； Fermata 研音记号\n",
    "n.show('xml')"
   ]
  },
  {
   "attachments": {
    "image.png": {
     "image/png": "[encoded data removed]"
    }
   },
   "cell_type": "markdown",
   "id": "05e0ecc0",
   "metadata": {},
   "source": [
    "![image.png](attachment:image.png)"
   ]
  },
  {
   "cell_type": "markdown",
   "id": "06da98c9",
   "metadata": {},
   "source": [
    "Now let’s split this note just before beat 4"
   ]
  },
  {
   "cell_type": "code",
   "execution_count": 23,
   "id": "bd35fc2c",
   "metadata": {},
   "outputs": [],
   "source": [
    "splitTuple = n.splitAtQuarterLength(3.0)\n",
    "s = stream.Stream()\n",
    "s.append(splitTuple)\n",
    "s.show('xml')"
   ]
  },
  {
   "attachments": {
    "image.png": {
     "image/png": "[encoded data removed]"
    }
   },
   "cell_type": "markdown",
   "id": "3bcf37e5",
   "metadata": {},
   "source": [
    "![image.png](attachment:image.png)"
   ]
  }
 ],
 "metadata": {
  "kernelspec": {
   "display_name": "music21_doc",
   "language": "python",
   "name": "music21_doc"
  },
  "language_info": {
   "codemirror_mode": {
    "name": "ipython",
    "version": 3
   },
   "file_extension": ".py",
   "mimetype": "text/x-python",
   "name": "python",
   "nbconvert_exporter": "python",
   "pygments_lexer": "ipython3",
   "version": "3.8.16"
  }
 },
 "nbformat": 4,
 "nbformat_minor": 5
}
