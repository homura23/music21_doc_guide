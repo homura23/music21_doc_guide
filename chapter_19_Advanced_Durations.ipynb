{
 "cells": [
  {
   "cell_type": "markdown",
   "id": "17152bd2",
   "metadata": {},
   "source": [
    "# Chapter 19: Advanced Durations (Complex and Tuplets)"
   ]
  },
  {
   "cell_type": "code",
   "execution_count": 1,
   "id": "45f092b8",
   "metadata": {},
   "outputs": [],
   "source": [
    "from music21 import *"
   ]
  },
  {
   "cell_type": "markdown",
   "id": "28720631",
   "metadata": {},
   "source": [
    "We’ll recall that one thing that all *Music21Objects* have a *Duration* object"
   ]
  },
  {
   "cell_type": "code",
   "execution_count": 2,
   "id": "b3661922",
   "metadata": {},
   "outputs": [
    {
     "data": {
      "text/plain": [
       "<music21.duration.Duration 1.0>"
      ]
     },
     "execution_count": 2,
     "metadata": {},
     "output_type": "execute_result"
    }
   ],
   "source": [
    "n = note.Note('C#4')\n",
    "n.duration"
   ]
  },
  {
   "cell_type": "code",
   "execution_count": 3,
   "id": "6130f4f0",
   "metadata": {},
   "outputs": [
    {
     "data": {
      "text/plain": [
       "<music21.duration.Duration 4.0>"
      ]
     },
     "execution_count": 3,
     "metadata": {},
     "output_type": "execute_result"
    }
   ],
   "source": [
    "d = duration.Duration(4.0)\n",
    "d"
   ]
  },
  {
   "cell_type": "code",
   "execution_count": 4,
   "id": "e2c3e894",
   "metadata": {},
   "outputs": [
    {
     "data": {
      "text/plain": [
       "('quarter', 1, 1.5)"
      ]
     },
     "execution_count": 4,
     "metadata": {},
     "output_type": "execute_result"
    }
   ],
   "source": [
    "d = duration.Duration(1.5)\n",
    "(d.type, d.dots, d.quarterLength)"
   ]
  },
  {
   "cell_type": "markdown",
   "id": "8a657086",
   "metadata": {},
   "source": [
    "The standard *type* values range from tiny 2048th notes up through the immense duplex-maxima"
   ]
  },
  {
   "cell_type": "code",
   "execution_count": 5,
   "id": "d9e4bed1",
   "metadata": {},
   "outputs": [
    {
     "name": "stdout",
     "output_type": "stream",
     "text": [
      "2048th, 1024th, 512th, 256th, 128th, 64th, 32nd, 16th, eighth, quarter, half, whole, breve, longa, maxima, duplex-maxima, "
     ]
    }
   ],
   "source": [
    "startType = '2048th'\n",
    "try:\n",
    "    while True:\n",
    "        print(startType, end=\", \")\n",
    "        startType = duration.nextLargerType(startType)\n",
    "except duration.DurationException:\n",
    "    pass"
   ]
  },
  {
   "cell_type": "markdown",
   "id": "4fa0b370",
   "metadata": {},
   "source": [
    "## Tuplets"
   ]
  },
  {
   "cell_type": "markdown",
   "id": "0a41ea95",
   "metadata": {},
   "source": [
    "Tuplets, such as triplets(三连音), can be set by giving a fraction or close approximation to a fraction as a quarter length"
   ]
  },
  {
   "cell_type": "code",
   "execution_count": 6,
   "id": "aec08021",
   "metadata": {},
   "outputs": [
    {
     "data": {
      "text/plain": [
       "<music21.duration.Duration 1/3>"
      ]
     },
     "execution_count": 6,
     "metadata": {},
     "output_type": "execute_result"
    }
   ],
   "source": [
    "d = duration.Duration(0.3333333333333)\n",
    "d"
   ]
  },
  {
   "cell_type": "code",
   "execution_count": 7,
   "id": "6bf7ac90",
   "metadata": {},
   "outputs": [
    {
     "data": {
      "text/plain": [
       "Fraction(1, 3)"
      ]
     },
     "execution_count": 7,
     "metadata": {},
     "output_type": "execute_result"
    }
   ],
   "source": [
    "# The quarterLength of a duration will be expresssed as a fractions.Fraction class\n",
    "d.quarterLength"
   ]
  },
  {
   "cell_type": "code",
   "execution_count": 8,
   "id": "452496c6",
   "metadata": {},
   "outputs": [
    {
     "data": {
      "text/plain": [
       "0.3333333333333333"
      ]
     },
     "execution_count": 8,
     "metadata": {},
     "output_type": "execute_result"
    }
   ],
   "source": [
    "float(d.quarterLength)"
   ]
  },
  {
   "cell_type": "code",
   "execution_count": 9,
   "id": "c053a0ae",
   "metadata": {},
   "outputs": [
    {
     "data": {
      "text/plain": [
       "'Eighth Triplet (1/3 QL)'"
      ]
     },
     "execution_count": 9,
     "metadata": {},
     "output_type": "execute_result"
    }
   ],
   "source": [
    "d.fullName"
   ]
  },
  {
   "cell_type": "markdown",
   "id": "d3a011f3",
   "metadata": {},
   "source": [
    "*.tuplets* propery store the information about the triplet"
   ]
  },
  {
   "cell_type": "code",
   "execution_count": 10,
   "id": "8f55e6c7",
   "metadata": {},
   "outputs": [
    {
     "data": {
      "text/plain": [
       "(<music21.duration.Tuplet 3/2/eighth>,)"
      ]
     },
     "execution_count": 10,
     "metadata": {},
     "output_type": "execute_result"
    }
   ],
   "source": [
    "d.tuplets"
   ]
  },
  {
   "cell_type": "markdown",
   "id": "484bd21b",
   "metadata": {},
   "source": [
    "Tuplets have a *.type* which is usually None"
   ]
  },
  {
   "cell_type": "code",
   "execution_count": 11,
   "id": "06ae83ba",
   "metadata": {},
   "outputs": [
    {
     "data": {
      "text/plain": [
       "True"
      ]
     },
     "execution_count": 11,
     "metadata": {},
     "output_type": "execute_result"
    }
   ],
   "source": [
    "trip = duration.Tuplet(3, 2)\n",
    "trip.type is None"
   ]
  },
  {
   "cell_type": "markdown",
   "id": "7c562c20",
   "metadata": {},
   "source": [
    "If we wanted “3:2” then we’d set “trip.tupletNormalShow” to “number”"
   ]
  },
  {
   "cell_type": "code",
   "execution_count": 12,
   "id": "27ba4a4b",
   "metadata": {},
   "outputs": [],
   "source": [
    "n = note.Note()\n",
    "n.duration = duration.Duration(2.0/3.0)\n",
    "n.duration.tuplets[0].tupletNormalShow = 'number'\n",
    "s = stream.Stream()\n",
    "s.repeatAppend(n, 3)\n",
    "s.insert(0, meter.TimeSignature('2/4'))\n",
    "s.show('xml')"
   ]
  },
  {
   "attachments": {
    "image.png": {
     "image/png": "[encoded data removed]"
    }
   },
   "cell_type": "markdown",
   "id": "6deebd15",
   "metadata": {},
   "source": [
    "![image.png](attachment:image.png)"
   ]
  },
  {
   "cell_type": "markdown",
   "id": "78612b93",
   "metadata": {},
   "source": [
    "To add a tuplet to an existing duration, use the *.appendTuplet(t)* method"
   ]
  },
  {
   "cell_type": "code",
   "execution_count": 13,
   "id": "129d7396",
   "metadata": {},
   "outputs": [],
   "source": [
    "t = duration.Tuplet(5, 4)\n",
    "t.setDurationType('16th')\n",
    "d = duration.Duration('16th')\n",
    "d.appendTuplet(t)\n",
    "n = note.Note('E-4')\n",
    "n.duration = d\n",
    "s = stream.Stream()\n",
    "s.repeatAppend(n, 20)\n",
    "s.show('xml')"
   ]
  },
  {
   "attachments": {
    "image.png": {
     "image/png": "[encoded data removed]"
    }
   },
   "cell_type": "markdown",
   "id": "e8b1d023",
   "metadata": {},
   "source": [
    "![image.png](attachment:image.png)"
   ]
  },
  {
   "cell_type": "code",
   "execution_count": 14,
   "id": "6d0c157b",
   "metadata": {},
   "outputs": [
    {
     "data": {
      "text/plain": [
       "True"
      ]
     },
     "execution_count": 14,
     "metadata": {},
     "output_type": "execute_result"
    }
   ],
   "source": [
    "# Once a Tuplet is appended to a Duration, it becomes “frozen”(can not be changed)\n",
    "t.frozen"
   ]
  },
  {
   "cell_type": "markdown",
   "id": "b508650a",
   "metadata": {},
   "source": [
    "The effect of any set of tuplets on the overall duration of a note can be found"
   ]
  },
  {
   "cell_type": "code",
   "execution_count": 15,
   "id": "9cd50cff",
   "metadata": {},
   "outputs": [
    {
     "data": {
      "text/plain": [
       "Fraction(10, 21)"
      ]
     },
     "execution_count": 15,
     "metadata": {},
     "output_type": "execute_result"
    }
   ],
   "source": [
    "d = duration.Duration('half')\n",
    "d.appendTuplet(duration.Tuplet(3, 2))\n",
    "d.appendTuplet(duration.Tuplet(7, 5))\n",
    "d.aggregateTupletMultiplier()"
   ]
  },
  {
   "cell_type": "markdown",
   "id": "dc628433",
   "metadata": {},
   "source": [
    "## Unlinking Durations"
   ]
  },
  {
   "cell_type": "markdown",
   "id": "6cadd938",
   "metadata": {},
   "source": [
    "Each Duration object has four essential pieces of information, the *type*, the number of *dots*, zero or more tuplets, and *.quarterLength*"
   ]
  },
  {
   "cell_type": "code",
   "execution_count": 17,
   "id": "cd95a037",
   "metadata": {},
   "outputs": [
    {
     "data": {
      "text/plain": [
       "('half', 1, (), 3.0)"
      ]
     },
     "execution_count": 17,
     "metadata": {},
     "output_type": "execute_result"
    }
   ],
   "source": [
    "d = duration.Duration(3.0)\n",
    "(d.type, d.dots, d.tuplets, d.quarterLength)"
   ]
  },
  {
   "cell_type": "code",
   "execution_count": 18,
   "id": "d343cf77",
   "metadata": {},
   "outputs": [
    {
     "data": {
      "text/plain": [
       "('half', 1, (<music21.duration.Tuplet 5/4/half>,), Fraction(12, 5))"
      ]
     },
     "execution_count": 18,
     "metadata": {},
     "output_type": "execute_result"
    }
   ],
   "source": [
    "# changing one of these pieces of information changes the one or more of the others\n",
    "d.quarterLength *= 4/5\n",
    "(d.type, d.dots, d.tuplets, d.quarterLength)"
   ]
  },
  {
   "cell_type": "code",
   "execution_count": 19,
   "id": "e999411a",
   "metadata": {},
   "outputs": [
    {
     "data": {
      "text/plain": [
       "('16th', 2, (<music21.duration.Tuplet 5/4/half>,), Fraction(7, 20))"
      ]
     },
     "execution_count": 19,
     "metadata": {},
     "output_type": "execute_result"
    }
   ],
   "source": [
    "d.type = '16th'\n",
    "d.dots = 2\n",
    "(d.type, d.dots, d.tuplets, d.quarterLength)"
   ]
  },
  {
   "cell_type": "markdown",
   "id": "aa18cc59",
   "metadata": {},
   "source": [
    "However, there are times when we might want to **separate** one piece of information separate from another"
   ]
  },
  {
   "cell_type": "code",
   "execution_count": 20,
   "id": "c2773462",
   "metadata": {},
   "outputs": [
    {
     "data": {
      "text/plain": [
       "('half', 1, 3.0)"
      ]
     },
     "execution_count": 20,
     "metadata": {},
     "output_type": "execute_result"
    }
   ],
   "source": [
    "d = duration.Duration()\n",
    "d.type = 'half'\n",
    "d.dots = 1\n",
    "(d.type, d.dots, d.quarterLength)"
   ]
  },
  {
   "cell_type": "markdown",
   "id": "94b48cbb",
   "metadata": {},
   "source": [
    "setting *Duration.linked* to False"
   ]
  },
  {
   "cell_type": "code",
   "execution_count": 21,
   "id": "99fdcc36",
   "metadata": {},
   "outputs": [
    {
     "data": {
      "text/plain": [
       "True"
      ]
     },
     "execution_count": 21,
     "metadata": {},
     "output_type": "execute_result"
    }
   ],
   "source": [
    "d.linked"
   ]
  },
  {
   "cell_type": "code",
   "execution_count": 22,
   "id": "e2f3e078",
   "metadata": {},
   "outputs": [
    {
     "data": {
      "text/plain": [
       "('half', 1, 2.75)"
      ]
     },
     "execution_count": 22,
     "metadata": {},
     "output_type": "execute_result"
    }
   ],
   "source": [
    "d.linked = False\n",
    "d.quarterLength = 11/4\n",
    "(d.type, d.dots, d.quarterLength)"
   ]
  },
  {
   "cell_type": "markdown",
   "id": "4c7ae928",
   "metadata": {},
   "source": [
    "## Durations that take no time at all"
   ]
  },
  {
   "cell_type": "markdown",
   "id": "aba7ffad",
   "metadata": {},
   "source": [
    " It’s used for measuring the conceptual length of grace notes(装饰音), spaceless objects like *Clefs*, Liz Taylor’s marriages(just a joke, she married eight times)"
   ]
  },
  {
   "cell_type": "code",
   "execution_count": 23,
   "id": "4a65f6b8",
   "metadata": {},
   "outputs": [
    {
     "data": {
      "text/plain": [
       "<music21.duration.Duration 0.0>"
      ]
     },
     "execution_count": 23,
     "metadata": {},
     "output_type": "execute_result"
    }
   ],
   "source": [
    "k = key.KeySignature(3)\n",
    "k.duration"
   ]
  },
  {
   "cell_type": "code",
   "execution_count": 24,
   "id": "ad9f3794",
   "metadata": {},
   "outputs": [
    {
     "data": {
      "text/plain": [
       "'zero'"
      ]
     },
     "execution_count": 24,
     "metadata": {},
     "output_type": "execute_result"
    }
   ],
   "source": [
    "k.duration.type"
   ]
  },
  {
   "cell_type": "markdown",
   "id": "f90a9971",
   "metadata": {},
   "source": [
    "## Complex Durations"
   ]
  },
  {
   "cell_type": "markdown",
   "id": "8c1aa4c8",
   "metadata": {},
   "source": [
    "Complex *Durations* are those that can’t be expressed easily as a single written *Note* on a page"
   ]
  },
  {
   "cell_type": "code",
   "execution_count": 25,
   "id": "227aa15c",
   "metadata": {},
   "outputs": [],
   "source": [
    "# a Note lasting a half-note plus a sixteenth-note can’t be written as a single Note graphic\n",
    "# but it’s perfectly fine to use as a quarterLength\n",
    "oddDuration = duration.Duration()\n",
    "oddDuration.quarterLength = 2.25"
   ]
  },
  {
   "cell_type": "code",
   "execution_count": 26,
   "id": "b3f0a16c",
   "metadata": {},
   "outputs": [
    {
     "data": {
      "text/plain": [
       "'complex'"
      ]
     },
     "execution_count": 26,
     "metadata": {},
     "output_type": "execute_result"
    }
   ],
   "source": [
    "oddDuration.type"
   ]
  },
  {
   "cell_type": "markdown",
   "id": "7132e7d3",
   "metadata": {},
   "source": [
    "Complex types have multiple “DurationTuple” objects that represent simple durations "
   ]
  },
  {
   "cell_type": "code",
   "execution_count": 27,
   "id": "5e2350e8",
   "metadata": {},
   "outputs": [
    {
     "data": {
      "text/plain": [
       "(DurationTuple(type='half', dots=0, quarterLength=2.0),\n",
       " DurationTuple(type='16th', dots=0, quarterLength=0.25))"
      ]
     },
     "execution_count": 27,
     "metadata": {},
     "output_type": "execute_result"
    }
   ],
   "source": [
    "oddDuration.components"
   ]
  },
  {
   "cell_type": "markdown",
   "id": "a0871f8d",
   "metadata": {},
   "source": [
    "## Splitting and Tied objects"
   ]
  },
  {
   "cell_type": "code",
   "execution_count": 30,
   "id": "e6f44b22",
   "metadata": {},
   "outputs": [
    {
     "data": {
      "text/plain": [
       "'complex'"
      ]
     },
     "execution_count": 30,
     "metadata": {},
     "output_type": "execute_result"
    }
   ],
   "source": [
    "d = duration.Duration(5.0)\n",
    "d.type"
   ]
  },
  {
   "cell_type": "code",
   "execution_count": 32,
   "id": "68b91dc8",
   "metadata": {},
   "outputs": [],
   "source": [
    "n = note.Note('F#4')\n",
    "n.duration = d\n",
    "n.show('xml')"
   ]
  },
  {
   "attachments": {
    "image.png": {
     "image/png": "[encoded data removed]"
    }
   },
   "cell_type": "markdown",
   "id": "ddc3841b",
   "metadata": {},
   "source": [
    "![image.png](attachment:image.png)"
   ]
  },
  {
   "cell_type": "markdown",
   "id": "8e70e356",
   "metadata": {},
   "source": [
    "Now let’s split this Note according to its component durations"
   ]
  },
  {
   "cell_type": "code",
   "execution_count": 33,
   "id": "6ebde72e",
   "metadata": {},
   "outputs": [
    {
     "data": {
      "text/plain": [
       "(<music21.note.Note F#>, <music21.note.Note F#>)"
      ]
     },
     "execution_count": 33,
     "metadata": {},
     "output_type": "execute_result"
    }
   ],
   "source": [
    "split = n.splitAtDurations()\n",
    "split"
   ]
  },
  {
   "cell_type": "code",
   "execution_count": 34,
   "id": "2b98e3c0",
   "metadata": {},
   "outputs": [
    {
     "data": {
      "text/plain": [
       "[4.0, 1.0]"
      ]
     },
     "execution_count": 34,
     "metadata": {},
     "output_type": "execute_result"
    }
   ],
   "source": [
    "[subNote.quarterLength for subNote in split]"
   ]
  },
  {
   "cell_type": "markdown",
   "id": "dc31819b",
   "metadata": {},
   "source": [
    "So now instead of one note with the duration of 5.0 quarter notes, we have two notes"
   ]
  },
  {
   "cell_type": "code",
   "execution_count": 35,
   "id": "01aa810e",
   "metadata": {},
   "outputs": [],
   "source": [
    "s = stream.Stream()\n",
    "s.append(split)\n",
    "s.show('xml')\n",
    "# the Stream was allowed to split the notes into two measures in order to use the more common time signature of 4/4"
   ]
  },
  {
   "attachments": {
    "image.png": {
     "image/png": "[encoded data removed]"
    }
   },
   "cell_type": "markdown",
   "id": "d1244a2a",
   "metadata": {},
   "source": [
    "![image.png](attachment:image.png)"
   ]
  },
  {
   "cell_type": "markdown",
   "id": "a1965a59",
   "metadata": {},
   "source": [
    "how does the Stream know that the two notes should have a tie connecting them?"
   ]
  },
  {
   "cell_type": "code",
   "execution_count": 37,
   "id": "e05817f6",
   "metadata": {},
   "outputs": [
    {
     "data": {
      "text/plain": [
       "<music21.tie.Tie start>"
      ]
     },
     "execution_count": 37,
     "metadata": {},
     "output_type": "execute_result"
    }
   ],
   "source": [
    "# check the .tie attribute on each of the notes\n",
    "split[0].tie"
   ]
  },
  {
   "cell_type": "code",
   "execution_count": 38,
   "id": "d2cc7673",
   "metadata": {},
   "outputs": [
    {
     "data": {
      "text/plain": [
       "<music21.tie.Tie stop>"
      ]
     },
     "execution_count": 38,
     "metadata": {},
     "output_type": "execute_result"
    }
   ],
   "source": [
    "split[1].tie"
   ]
  }
 ],
 "metadata": {
  "kernelspec": {
   "display_name": "music21_doc",
   "language": "python",
   "name": "music21_doc"
  },
  "language_info": {
   "codemirror_mode": {
    "name": "ipython",
    "version": 3
   },
   "file_extension": ".py",
   "mimetype": "text/x-python",
   "name": "python",
   "nbconvert_exporter": "python",
   "pygments_lexer": "ipython3",
   "version": "3.8.16"
  }
 },
 "nbformat": 4,
 "nbformat_minor": 5
}
