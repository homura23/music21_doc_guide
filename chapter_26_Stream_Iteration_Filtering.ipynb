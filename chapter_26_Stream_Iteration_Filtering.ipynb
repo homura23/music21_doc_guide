{
 "cells": [
  {
   "cell_type": "markdown",
   "id": "f1536df0",
   "metadata": {},
   "source": [
    "# Chapter 26: Stream Iteration and Filtering"
   ]
  },
  {
   "cell_type": "markdown",
   "id": "70109b83",
   "metadata": {},
   "source": [
    "this chapter will delve deeper into the concept of iteration, and filtering out elements so only those in classes or areas you want are found"
   ]
  },
  {
   "cell_type": "code",
   "execution_count": 1,
   "id": "daf69ffe",
   "metadata": {},
   "outputs": [],
   "source": [
    "from music21 import *"
   ]
  },
  {
   "cell_type": "markdown",
   "id": "1693ebd1",
   "metadata": {},
   "source": [
    "**Streams**, as we have seen, are iterable"
   ]
  },
  {
   "cell_type": "code",
   "execution_count": 2,
   "id": "7cbe03de",
   "metadata": {},
   "outputs": [
    {
     "name": "stdout",
     "output_type": "stream",
     "text": [
      "<music21.note.Note C#> 1.0\n",
      "<music21.note.Rest half> 2.0\n",
      "<music21.note.Note D> 1.5\n",
      "<music21.note.Rest quarter> 1.0\n"
     ]
    }
   ],
   "source": [
    "s = stream.Part(id='restyStream')\n",
    "s.append(note.Note('C#'))\n",
    "s.append(note.Rest(quarterLength=2.0))\n",
    "s.append(note.Note('D', quarterLength=1.5))\n",
    "s.append(note.Rest(quarterLength=1.0))\n",
    "\n",
    "for thing in s:\n",
    "    print(thing, thing.quarterLength)"
   ]
  },
  {
   "cell_type": "markdown",
   "id": "9252bdb4",
   "metadata": {},
   "source": [
    "We can create one directly by calling ***.iter()*** on any stream"
   ]
  },
  {
   "cell_type": "code",
   "execution_count": 3,
   "id": "4ea4c811",
   "metadata": {},
   "outputs": [
    {
     "data": {
      "text/plain": [
       "<music21.stream.iterator.StreamIterator for Part:restyStream @:0>"
      ]
     },
     "execution_count": 3,
     "metadata": {},
     "output_type": "execute_result"
    }
   ],
   "source": [
    "sIter = s.iter()\n",
    "sIter"
   ]
  },
  {
   "cell_type": "markdown",
   "id": "a1aab983",
   "metadata": {},
   "source": [
    "We can get the next thing in the Stream by calling ***next()*** on the Stream"
   ]
  },
  {
   "cell_type": "code",
   "execution_count": 4,
   "id": "e0be8433",
   "metadata": {},
   "outputs": [
    {
     "data": {
      "text/plain": [
       "<music21.note.Note C#>"
      ]
     },
     "execution_count": 4,
     "metadata": {},
     "output_type": "execute_result"
    }
   ],
   "source": [
    "next(sIter)"
   ]
  },
  {
   "cell_type": "code",
   "execution_count": 5,
   "id": "b98b50e7",
   "metadata": {},
   "outputs": [
    {
     "data": {
      "text/plain": [
       "<music21.note.Rest half>"
      ]
     },
     "execution_count": 5,
     "metadata": {},
     "output_type": "execute_result"
    }
   ],
   "source": [
    "next(sIter)"
   ]
  },
  {
   "cell_type": "code",
   "execution_count": 6,
   "id": "3142d58a",
   "metadata": {},
   "outputs": [
    {
     "data": {
      "text/plain": [
       "<music21.stream.iterator.StreamIterator for Part:restyStream @:2>"
      ]
     },
     "execution_count": 6,
     "metadata": {},
     "output_type": "execute_result"
    }
   ],
   "source": [
    "sIter"
   ]
  },
  {
   "cell_type": "markdown",
   "id": "5e7d5a63",
   "metadata": {},
   "source": [
    "built in way of going through an iterable"
   ]
  },
  {
   "cell_type": "code",
   "execution_count": 7,
   "id": "658db480",
   "metadata": {},
   "outputs": [
    {
     "name": "stdout",
     "output_type": "stream",
     "text": [
      "<music21.note.Note C#> 1.0\n",
      "<music21.note.Rest half> 2.0\n",
      "<music21.note.Note D> 1.5\n",
      "<music21.note.Rest quarter> 1.0\n"
     ]
    }
   ],
   "source": [
    "for el in sIter:\n",
    "    print(el, el.quarterLength)"
   ]
  },
  {
   "cell_type": "markdown",
   "id": "da0d3286",
   "metadata": {},
   "source": [
    "## Filtering elements in iteration"
   ]
  },
  {
   "cell_type": "markdown",
   "id": "cbc06bfc",
   "metadata": {},
   "source": [
    "Most importantly, a *StreamIterator* can add **filters** to it"
   ]
  },
  {
   "cell_type": "code",
   "execution_count": 8,
   "id": "f8535e74",
   "metadata": {},
   "outputs": [
    {
     "name": "stdout",
     "output_type": "stream",
     "text": [
      "<music21.note.Rest half> 2.0\n",
      "<music21.note.Rest quarter> 1.0\n"
     ]
    }
   ],
   "source": [
    "restFilter = stream.filters.ClassFilter('Rest')\n",
    "restIterator = sIter.addFilter(restFilter)\n",
    "for el in restIterator:\n",
    "    print(el, el.quarterLength)"
   ]
  },
  {
   "cell_type": "markdown",
   "id": "6ad9f843",
   "metadata": {},
   "source": [
    "We can also filter by offset"
   ]
  },
  {
   "cell_type": "code",
   "execution_count": 9,
   "id": "f6e9ca94",
   "metadata": {},
   "outputs": [
    {
     "name": "stdout",
     "output_type": "stream",
     "text": [
      "<music21.note.Rest half> 1.0\n",
      "<music21.note.Note D> 3.0\n"
     ]
    }
   ],
   "source": [
    "sIter2 = s.iter()\n",
    "offsetFilter = stream.filters.OffsetFilter(offsetStart=0.5, offsetEnd=4.0)\n",
    "offsetIterator = sIter2.addFilter(offsetFilter)\n",
    "for el in offsetIterator:\n",
    "    print(el, el.offset)"
   ]
  },
  {
   "cell_type": "markdown",
   "id": "4aba0703",
   "metadata": {},
   "source": [
    "**Multiple filters** can be chained together to get something more powerful"
   ]
  },
  {
   "cell_type": "code",
   "execution_count": 10,
   "id": "0487886d",
   "metadata": {},
   "outputs": [
    {
     "name": "stdout",
     "output_type": "stream",
     "text": [
      "<music21.note.Rest half> 1.0\n"
     ]
    }
   ],
   "source": [
    "for el in s.iter().addFilter(restFilter).addFilter(offsetFilter):\n",
    "    print(el, el.offset)"
   ]
  },
  {
   "cell_type": "markdown",
   "id": "344e0fce",
   "metadata": {},
   "source": [
    "## Filter Shortcuts"
   ]
  },
  {
   "cell_type": "markdown",
   "id": "e263ed43",
   "metadata": {},
   "source": [
    "Filtering elements by offset or by class is so common, that *music21* has some shortcuts for adding filters to it, like this"
   ]
  },
  {
   "cell_type": "code",
   "execution_count": 11,
   "id": "3242dc71",
   "metadata": {},
   "outputs": [
    {
     "name": "stdout",
     "output_type": "stream",
     "text": [
      "<music21.note.Rest half> 1.0\n"
     ]
    }
   ],
   "source": [
    "sIter4 = s.iter()\n",
    "restIterator = sIter4.getElementsByClass('Rest')\n",
    "restOffsetIterator = restIterator.getElementsByOffset(0.5, 4.0)\n",
    "for el in restOffsetIterator:\n",
    "    print(el, el.offset)"
   ]
  },
  {
   "cell_type": "markdown",
   "id": "2d7a70dd",
   "metadata": {},
   "source": [
    "you can chain them right in the for loop"
   ]
  },
  {
   "cell_type": "code",
   "execution_count": 12,
   "id": "4793b381",
   "metadata": {},
   "outputs": [
    {
     "name": "stdout",
     "output_type": "stream",
     "text": [
      "<music21.note.Rest half> 1.0\n"
     ]
    }
   ],
   "source": [
    "for el in s.iter().getElementsByClass('Rest').getElementsByOffset(0.5, 4.0):\n",
    "    print(el, el.offset)"
   ]
  },
  {
   "cell_type": "markdown",
   "id": "c0b5aa67",
   "metadata": {},
   "source": [
    "you can even **skip** the *s.iter()* step for getting an iterator for the most common of these filters"
   ]
  },
  {
   "cell_type": "code",
   "execution_count": 13,
   "id": "0bc13754",
   "metadata": {},
   "outputs": [
    {
     "name": "stdout",
     "output_type": "stream",
     "text": [
      "<music21.note.Rest half> 1.0\n"
     ]
    }
   ],
   "source": [
    "for el in s.getElementsByClass('Rest').getElementsByOffset(0.5, 4.0):\n",
    "    print(el, el.offset)"
   ]
  },
  {
   "cell_type": "markdown",
   "id": "5bf2b608",
   "metadata": {},
   "source": [
    "The shortcut methods that music21 exposes on Iterators include\n",
    "\n",
    "**getElementById()** which adds an IdFilter\n",
    "\n",
    "**getElementsByClass()** which adds a ClassFilter\n",
    "\n",
    "**getElementsByGroup()** which adds a GroupFilter\n",
    "\n",
    "**getElementsByOffset()** which adds an OffsetFilter"
   ]
  },
  {
   "cell_type": "markdown",
   "id": "e990b016",
   "metadata": {},
   "source": [
    "And there are also properties which add certain filters:\n",
    "\n",
    "**notes** which filters out everything but Note and Chord objects\n",
    "\n",
    "**notesAndRests** which filters out everything except GeneralNote objects\n",
    "\n",
    "**parts** which returns all the Part objects"
   ]
  },
  {
   "cell_type": "markdown",
   "id": "3c398635",
   "metadata": {},
   "source": [
    "## Custom Filters"
   ]
  },
  {
   "cell_type": "markdown",
   "id": "d2db4236",
   "metadata": {},
   "source": [
    "Creating your own filter is pretty easy too.\n",
    "\n",
    "The easiest way is to create a function that takes in an element and returns **True or False**"
   ]
  },
  {
   "cell_type": "code",
   "execution_count": 14,
   "id": "35c511b5",
   "metadata": {},
   "outputs": [
    {
     "name": "stdout",
     "output_type": "stream",
     "text": [
      "<music21.note.Note C#>\n"
     ]
    }
   ],
   "source": [
    "# create a filter to see if the element has a .pitch attribute\n",
    "# then if that pitch attribute has a sharp on it\n",
    "\n",
    "def sharpFilter(el):\n",
    "    if (hasattr(el, 'pitch')\n",
    "            and el.pitch.accidental is not None\n",
    "            and el.pitch.accidental.alter > 0):\n",
    "        return True\n",
    "    else:\n",
    "        return False\n",
    "\n",
    "sharpIterator = s.iter().addFilter(sharpFilter)\n",
    "\n",
    "for el in sharpIterator:\n",
    "    print(el)"
   ]
  },
  {
   "cell_type": "markdown",
   "id": "55bfb5bc",
   "metadata": {},
   "source": [
    "## Recursive and Offset Iterators"
   ]
  },
  {
   "cell_type": "markdown",
   "id": "bff6cd62",
   "metadata": {},
   "source": [
    " The most commonly used is the **RecursiveIterator** which burrows down into nested Streams to get whatever you want"
   ]
  },
  {
   "cell_type": "code",
   "execution_count": 15,
   "id": "7e22297d",
   "metadata": {},
   "outputs": [
    {
     "name": "stdout",
     "output_type": "stream",
     "text": [
      "<music21.metadata.Metadata object at 0x23925da3880>\n",
      "<music21.stream.Part Soprano>\n",
      "<music21.stream.Part Alto>\n",
      "<music21.stream.Part Tenor>\n",
      "<music21.stream.Part Bass>\n",
      "<music21.layout.StaffGroup <music21.stream.Part Soprano><music21.stream.Part Alto><music21.stream.Part Tenor><music21.stream.Part Bass>>\n"
     ]
    }
   ],
   "source": [
    "bach = corpus.parse('bwv66.6')\n",
    "for thing in bach:\n",
    "    print(thing)"
   ]
  },
  {
   "cell_type": "markdown",
   "id": "f62739d2",
   "metadata": {},
   "source": [
    "we remember that often the actual notes of a piece can be hidden inside Parts, Measures, and Voices. A recursive iterator gets to them:"
   ]
  },
  {
   "cell_type": "code",
   "execution_count": 16,
   "id": "a6dc0352",
   "metadata": {},
   "outputs": [
    {
     "data": {
      "text/plain": [
       "<music21.stream.iterator.RecursiveIterator for Score:0x23925da39d0 @:0>"
      ]
     },
     "execution_count": 16,
     "metadata": {},
     "output_type": "execute_result"
    }
   ],
   "source": [
    "recurseIter = bach.recurse()\n",
    "recurseIter"
   ]
  },
  {
   "cell_type": "markdown",
   "id": "4ad259e3",
   "metadata": {},
   "source": [
    "Let’s add a filter for only E#s to it, and look into it.\n",
    "\n",
    "we’ll put a ***try...except*** clause around it instead of checking to see if each element has a *.name* attribute"
   ]
  },
  {
   "cell_type": "code",
   "execution_count": 17,
   "id": "95eeba54",
   "metadata": {},
   "outputs": [
    {
     "name": "stdout",
     "output_type": "stream",
     "text": [
      "<music21.note.Note E#> 9\n",
      "<music21.note.Note E#> 3\n",
      "<music21.note.Note E#> 7\n",
      "<music21.note.Note E#> 7\n",
      "<music21.note.Note E#> 2\n",
      "<music21.note.Note E#> 6\n"
     ]
    }
   ],
   "source": [
    "def eSharpFilter(el):\n",
    "    try:\n",
    "        if el.name == 'E#':\n",
    "            return True\n",
    "        else:\n",
    "            return False\n",
    "    except AttributeError:\n",
    "        return False\n",
    "\n",
    "eSharpIterator = recurseIter.addFilter(eSharpFilter)\n",
    "\n",
    "for el in eSharpIterator:\n",
    "    print(el, el.measureNumber)"
   ]
  },
  {
   "cell_type": "markdown",
   "id": "18bdbc20",
   "metadata": {},
   "source": [
    "Note that the measure numbers don’t keep increasing. That’s because the recurse iterator finishes one **part** before returning to the next.\n",
    "\n",
    "use the fancy ***.getContextByClass*** to figure out what part it is in"
   ]
  },
  {
   "cell_type": "code",
   "execution_count": 18,
   "id": "b9a5bee2",
   "metadata": {},
   "outputs": [
    {
     "name": "stdout",
     "output_type": "stream",
     "text": [
      "<music21.note.Note E#> 9 Soprano\n",
      "<music21.note.Note E#> 3 Alto\n",
      "<music21.note.Note E#> 7 Alto\n",
      "<music21.note.Note E#> 7 Tenor\n",
      "<music21.note.Note E#> 2 Bass\n",
      "<music21.note.Note E#> 6 Bass\n"
     ]
    }
   ],
   "source": [
    "for el in eSharpIterator:\n",
    "    pId = el.getContextByClass(stream.Part).id\n",
    "    print(el, el.measureNumber, pId)"
   ]
  },
  {
   "cell_type": "markdown",
   "id": "68ce9df8",
   "metadata": {},
   "source": [
    "*s.recurse().getElementsByClass(chord.Chord)* is a good way to get chords, but **s\\[chord.Chord\\]** is more easier"
   ]
  },
  {
   "cell_type": "code",
   "execution_count": 19,
   "id": "3bccee49",
   "metadata": {},
   "outputs": [
    {
     "name": "stdout",
     "output_type": "stream",
     "text": [
      "<music21.chord.Chord G#2 D#3>\n",
      "<music21.chord.Chord G#2 D#3>\n",
      "<music21.chord.Chord G#2 D#3>\n",
      "<music21.chord.Chord G#2 D#3>\n",
      "<music21.chord.Chord G#2 D#3>\n",
      "<music21.chord.Chord G#2 D#3>\n",
      "<music21.chord.Chord G#2 D#3>\n",
      "<music21.chord.Chord G#2 D#3>\n",
      "<music21.chord.Chord G#2 D#3>\n",
      "<music21.chord.Chord G#2 D#3>\n",
      "<music21.chord.Chord G#2 D#3>\n"
     ]
    }
   ],
   "source": [
    "chopin = corpus.parse('chopin/mazurka06-2')\n",
    "for ch in chopin.measures(1, 5)[chord.Chord]:\n",
    "    print(ch)"
   ]
  },
  {
   "cell_type": "markdown",
   "id": "cfb5f3fd",
   "metadata": {},
   "source": [
    "Another great iterator is the **OffsetIterator**, which returns lists of elements grouped by offset"
   ]
  },
  {
   "cell_type": "code",
   "execution_count": 20,
   "id": "43d114e2",
   "metadata": {},
   "outputs": [
    {
     "name": "stdout",
     "output_type": "stream",
     "text": [
      "<music21.clef.TrebleClef> 0.0\n",
      "<music21.key.KeySignature of 3 sharps> 0.0\n",
      "<music21.note.Note C#> 0.0\n",
      "Trumpet 1.0\n",
      "<music21.note.Rest half> 1.0\n",
      "<music21.note.Note D> 3.0\n",
      "<music21.note.Rest quarter> 4.5\n"
     ]
    }
   ],
   "source": [
    "s.insert(0, clef.TrebleClef())\n",
    "s.insert(0, key.KeySignature(3))\n",
    "s.insert(1, instrument.Trumpet())\n",
    "\n",
    "# normal iterator\n",
    "for el in s:\n",
    "    print(el, el.offset)"
   ]
  },
  {
   "cell_type": "markdown",
   "id": "87df4a5d",
   "metadata": {},
   "source": [
    "there is no method on *Stream* to create an **offset iterator**, so we will create one directly"
   ]
  },
  {
   "cell_type": "code",
   "execution_count": 21,
   "id": "6e5d1538",
   "metadata": {},
   "outputs": [
    {
     "name": "stdout",
     "output_type": "stream",
     "text": [
      "0.0 [<music21.clef.TrebleClef>, <music21.key.KeySignature of 3 sharps>, <music21.note.Note C#>]\n",
      "1.0 [<music21.instrument.Trumpet 'Trumpet'>, <music21.note.Rest half>]\n",
      "3.0 [<music21.note.Note D>]\n",
      "4.5 [<music21.note.Rest quarter>]\n"
     ]
    }
   ],
   "source": [
    "oIter = stream.iterator.OffsetIterator(s)\n",
    "for elementGroup in oIter:\n",
    "    print(elementGroup[0].offset, elementGroup)"
   ]
  },
  {
   "cell_type": "markdown",
   "id": "395cc421",
   "metadata": {},
   "source": [
    "## From Iterator to Stream"
   ]
  },
  {
   "cell_type": "markdown",
   "id": "44457ad3",
   "metadata": {},
   "source": [
    "From either a *StreamIterator* or a *RecursiveIterator* a new Stream object can be generated by calling ***.stream()*** on it."
   ]
  },
  {
   "cell_type": "code",
   "execution_count": 22,
   "id": "8b031f24",
   "metadata": {},
   "outputs": [
    {
     "name": "stdout",
     "output_type": "stream",
     "text": [
      "{8.0} <music21.note.Note E#>\n",
      "{10.0} <music21.note.Note E#>\n",
      "{23.0} <music21.note.Note E#>\n",
      "{25.5} <music21.note.Note E#>\n",
      "{27.0} <music21.note.Note E#>\n",
      "{34.5} <music21.note.Note E#>\n"
     ]
    }
   ],
   "source": [
    "onlyESharps = bach.recurse().addFilter(eSharpFilter)\n",
    "esharpStream = onlyESharps.stream()\n",
    "esharpStream.show('text')"
   ]
  },
  {
   "cell_type": "code",
   "execution_count": 23,
   "id": "861696e9",
   "metadata": {},
   "outputs": [
    {
     "data": {
      "text/plain": [
       "<Derivation of <music21.stream.Score 0x239268514f0> from <music21.stream.Score 0x23925da39d0> via 'eSharpFilter'>"
      ]
     },
     "execution_count": 23,
     "metadata": {},
     "output_type": "execute_result"
    }
   ],
   "source": [
    "esharpStream.derivation"
   ]
  },
  {
   "cell_type": "code",
   "execution_count": 24,
   "id": "803a91d0",
   "metadata": {},
   "outputs": [
    {
     "data": {
      "text/plain": [
       "<music21.graph.plot.HorizontalBarPitchSpaceOffset for <music21.stream.Score 0x239268514f0>>"
      ]
     },
     "execution_count": 24,
     "metadata": {},
     "output_type": "execute_result"
    },
    {
     "data": {
      "image/png": "[encoded data removed]",
      "text/plain": [
       "<Figure size 1000x600 with 1 Axes>"
      ]
     },
     "metadata": {
      "image/png": {
       "height": 540,
       "width": 816
      }
     },
     "output_type": "display_data"
    }
   ],
   "source": [
    "esharpStream.plot('pianoroll')"
   ]
  }
 ],
 "metadata": {
  "kernelspec": {
   "display_name": "music21_doc",
   "language": "python",
   "name": "music21_doc"
  },
  "language_info": {
   "codemirror_mode": {
    "name": "ipython",
    "version": 3
   },
   "file_extension": ".py",
   "mimetype": "text/x-python",
   "name": "python",
   "nbconvert_exporter": "python",
   "pygments_lexer": "ipython3",
   "version": "3.8.16"
  }
 },
 "nbformat": 4,
 "nbformat_minor": 5
}
