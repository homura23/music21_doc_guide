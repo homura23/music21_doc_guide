{
 "cells": [
  {
   "cell_type": "markdown",
   "id": "a578989a",
   "metadata": {},
   "source": [
    "# Chapter 18: Intervals"
   ]
  },
  {
   "cell_type": "markdown",
   "id": "a8a8bccb",
   "metadata": {},
   "source": [
    "Intervals, or **distances** in pitch space between two pitches, are fundamental concepts of music theory.\n",
    "\n",
    "This chapter of the User’s Guide explains how to create and use Interval objects."
   ]
  },
  {
   "cell_type": "code",
   "execution_count": 1,
   "id": "8ca39f9e",
   "metadata": {},
   "outputs": [],
   "source": [
    "from music21 import *"
   ]
  },
  {
   "cell_type": "markdown",
   "id": "3659f6cf",
   "metadata": {},
   "source": [
    "## The *Interval* Class"
   ]
  },
  {
   "cell_type": "markdown",
   "id": "3c67cde1",
   "metadata": {},
   "source": [
    "create an *Interval* object by giving an abbreviation for the interval as a string"
   ]
  },
  {
   "cell_type": "code",
   "execution_count": 2,
   "id": "7d2296a9",
   "metadata": {},
   "outputs": [
    {
     "data": {
      "text/plain": [
       "<music21.interval.Interval P5>"
      ]
     },
     "execution_count": 2,
     "metadata": {},
     "output_type": "execute_result"
    }
   ],
   "source": [
    "#  if we want to model a perfect fifth(纯五度), we’ll use the string \"P5\"\n",
    "i = interval.Interval('P5')\n",
    "i"
   ]
  },
  {
   "cell_type": "markdown",
   "id": "9fa799ed",
   "metadata": {},
   "source": [
    "Now we can see some properties of Interval objects"
   ]
  },
  {
   "cell_type": "code",
   "execution_count": 3,
   "id": "bbeb78f0",
   "metadata": {},
   "outputs": [
    {
     "data": {
      "text/plain": [
       "'Perfect Fifth'"
      ]
     },
     "execution_count": 3,
     "metadata": {},
     "output_type": "execute_result"
    }
   ],
   "source": [
    "i.niceName"
   ]
  },
  {
   "cell_type": "code",
   "execution_count": 4,
   "id": "b7ab5af5",
   "metadata": {},
   "outputs": [
    {
     "data": {
      "text/plain": [
       "7"
      ]
     },
     "execution_count": 4,
     "metadata": {},
     "output_type": "execute_result"
    }
   ],
   "source": [
    "i.semitones"
   ]
  },
  {
   "cell_type": "code",
   "execution_count": 5,
   "id": "49853dee",
   "metadata": {},
   "outputs": [
    {
     "data": {
      "text/plain": [
       "False"
      ]
     },
     "execution_count": 5,
     "metadata": {},
     "output_type": "execute_result"
    }
   ],
   "source": [
    "# step :  the interval between two consecutive scale degrees\n",
    "i.isStep"
   ]
  },
  {
   "cell_type": "markdown",
   "id": "546a199d",
   "metadata": {},
   "source": [
    "What do we need to make this interval add up to an octave? That's the **complement**"
   ]
  },
  {
   "attachments": {
    "image.png": {
     "image/png": "[encoded data removed]"
    }
   },
   "cell_type": "markdown",
   "id": "85d6bba2",
   "metadata": {},
   "source": [
    "![image.png](attachment:image.png)"
   ]
  },
  {
   "cell_type": "code",
   "execution_count": 6,
   "id": "dfa7012b",
   "metadata": {},
   "outputs": [
    {
     "data": {
      "text/plain": [
       "<music21.interval.Interval P4>"
      ]
     },
     "execution_count": 6,
     "metadata": {},
     "output_type": "execute_result"
    }
   ],
   "source": [
    "i.complement"
   ]
  },
  {
   "cell_type": "code",
   "execution_count": 7,
   "id": "3865ba47",
   "metadata": {},
   "outputs": [
    {
     "data": {
      "text/plain": [
       "5"
      ]
     },
     "execution_count": 7,
     "metadata": {},
     "output_type": "execute_result"
    }
   ],
   "source": [
    "i.intervalClass"
   ]
  },
  {
   "cell_type": "markdown",
   "id": "8ad95f41",
   "metadata": {},
   "source": [
    "A cent(音分) is 1/100th of a semitone(半音)"
   ]
  },
  {
   "cell_type": "code",
   "execution_count": 8,
   "id": "5f3c2dc4",
   "metadata": {},
   "outputs": [
    {
     "data": {
      "text/plain": [
       "700.0"
      ]
     },
     "execution_count": 8,
     "metadata": {},
     "output_type": "execute_result"
    }
   ],
   "source": [
    "i.cents"
   ]
  },
  {
   "cell_type": "code",
   "execution_count": 10,
   "id": "fac00778",
   "metadata": {},
   "outputs": [
    {
     "data": {
      "text/plain": [
       "<music21.interval.Interval P-5>"
      ]
     },
     "execution_count": 10,
     "metadata": {},
     "output_type": "execute_result"
    }
   ],
   "source": [
    "# We can get a descending form of the Interval\n",
    "i.reverse()"
   ]
  },
  {
   "cell_type": "code",
   "execution_count": 12,
   "id": "d402f64d",
   "metadata": {},
   "outputs": [
    {
     "data": {
      "text/plain": [
       "<music21.note.Note F#>"
      ]
     },
     "execution_count": 12,
     "metadata": {},
     "output_type": "execute_result"
    }
   ],
   "source": [
    "i.noteStart = note.Note('B4')\n",
    "i.noteEnd"
   ]
  },
  {
   "cell_type": "markdown",
   "id": "3d77de69",
   "metadata": {},
   "source": [
    "we can use this interval to transpose any given Note"
   ]
  },
  {
   "cell_type": "code",
   "execution_count": 13,
   "id": "51015bb5",
   "metadata": {},
   "outputs": [
    {
     "data": {
      "text/plain": [
       "<music21.note.Note G>"
      ]
     },
     "execution_count": 13,
     "metadata": {},
     "output_type": "execute_result"
    }
   ],
   "source": [
    "i.transposeNote(note.Note('C5'))"
   ]
  },
  {
   "cell_type": "markdown",
   "id": "e4800478",
   "metadata": {},
   "source": [
    "Or we can use intervals to transpose pitches"
   ]
  },
  {
   "cell_type": "code",
   "execution_count": 14,
   "id": "4fafc11e",
   "metadata": {},
   "outputs": [
    {
     "data": {
      "text/plain": [
       "<music21.pitch.Pitch G5>"
      ]
     },
     "execution_count": 14,
     "metadata": {},
     "output_type": "execute_result"
    }
   ],
   "source": [
    "i.transposePitch(pitch.Pitch('C5'))"
   ]
  },
  {
   "cell_type": "markdown",
   "id": "ee3f36ac",
   "metadata": {},
   "source": [
    "*.transpose()* method takes *Interval* objects as arguments"
   ]
  },
  {
   "cell_type": "code",
   "execution_count": 15,
   "id": "271bf727",
   "metadata": {},
   "outputs": [
    {
     "data": {
      "text/plain": [
       "<music21.pitch.Pitch B3>"
      ]
     },
     "execution_count": 15,
     "metadata": {},
     "output_type": "execute_result"
    }
   ],
   "source": [
    "pitch.Pitch('E3').transpose(i)"
   ]
  },
  {
   "cell_type": "code",
   "execution_count": 16,
   "id": "84d88a5b",
   "metadata": {},
   "outputs": [
    {
     "data": {
      "text/plain": [
       "<music21.chord.Chord C E G>"
      ]
     },
     "execution_count": 16,
     "metadata": {},
     "output_type": "execute_result"
    }
   ],
   "source": [
    "chord.Chord(\"F A C\").transpose(i)"
   ]
  },
  {
   "cell_type": "code",
   "execution_count": 17,
   "id": "de64d2b1",
   "metadata": {},
   "outputs": [],
   "source": [
    "s = converter.parse('tinyNotation: 4/4 c4 d e8 f# g4')\n",
    "s2 = s.transpose(i)\n",
    "s2.show('xml')"
   ]
  },
  {
   "attachments": {
    "image.png": {
     "image/png": "[encoded data removed]"
    }
   },
   "cell_type": "markdown",
   "id": "58978f95",
   "metadata": {},
   "source": [
    "![image.png](attachment:image.png)"
   ]
  },
  {
   "cell_type": "markdown",
   "id": "62b06dfa",
   "metadata": {},
   "source": [
    "All intervals have properties called “simpleName” and “semiSimpleName” for reducing compound intervals (those over an octave) to smaller forms"
   ]
  },
  {
   "cell_type": "code",
   "execution_count": 18,
   "id": "c915f761",
   "metadata": {},
   "outputs": [
    {
     "data": {
      "text/plain": [
       "'P5'"
      ]
     },
     "execution_count": 18,
     "metadata": {},
     "output_type": "execute_result"
    }
   ],
   "source": [
    "i2 = interval.Interval('P-12')\n",
    "i2.simpleName"
   ]
  },
  {
   "cell_type": "code",
   "execution_count": 19,
   "id": "a8530d1f",
   "metadata": {},
   "outputs": [
    {
     "data": {
      "text/plain": [
       "'P-5'"
      ]
     },
     "execution_count": 19,
     "metadata": {},
     "output_type": "execute_result"
    }
   ],
   "source": [
    "i2.directedSimpleName"
   ]
  },
  {
   "cell_type": "code",
   "execution_count": 20,
   "id": "d2c5d8de",
   "metadata": {},
   "outputs": [
    {
     "data": {
      "text/plain": [
       "('Perfect Unison', 'Minor Third')"
      ]
     },
     "execution_count": 20,
     "metadata": {},
     "output_type": "execute_result"
    }
   ],
   "source": [
    "p8 = interval.Interval('P8')\n",
    "m10 = interval.Interval('m10')\n",
    "(p8.simpleNiceName, m10.simpleNiceName)"
   ]
  },
  {
   "cell_type": "markdown",
   "id": "2334f18a",
   "metadata": {},
   "source": [
    "Note that capitalization makes a difference in determining Major and minor"
   ]
  },
  {
   "cell_type": "code",
   "execution_count": 21,
   "id": "d77a228f",
   "metadata": {},
   "outputs": [
    {
     "data": {
      "text/plain": [
       "'Minor Third'"
      ]
     },
     "execution_count": 21,
     "metadata": {},
     "output_type": "execute_result"
    }
   ],
   "source": [
    "interval.Interval('m3').niceName"
   ]
  },
  {
   "cell_type": "code",
   "execution_count": 22,
   "id": "535e2201",
   "metadata": {},
   "outputs": [
    {
     "data": {
      "text/plain": [
       "'Major Third'"
      ]
     },
     "execution_count": 22,
     "metadata": {},
     "output_type": "execute_result"
    }
   ],
   "source": [
    "interval.Interval('M3').niceName"
   ]
  },
  {
   "cell_type": "markdown",
   "id": "5c3cff21",
   "metadata": {},
   "source": [
    "Creating diminished(减) and Augmented(增) intervals"
   ]
  },
  {
   "cell_type": "code",
   "execution_count": 23,
   "id": "0441ac6d",
   "metadata": {},
   "outputs": [
    {
     "data": {
      "text/plain": [
       "'Diminished Fifth'"
      ]
     },
     "execution_count": 23,
     "metadata": {},
     "output_type": "execute_result"
    }
   ],
   "source": [
    "interval.Interval('d5').niceName"
   ]
  },
  {
   "cell_type": "code",
   "execution_count": 24,
   "id": "ab1626a2",
   "metadata": {},
   "outputs": [
    {
     "data": {
      "text/plain": [
       "'Augmented Fourth'"
      ]
     },
     "execution_count": 24,
     "metadata": {},
     "output_type": "execute_result"
    }
   ],
   "source": [
    "interval.Interval('A4').niceName"
   ]
  },
  {
   "cell_type": "markdown",
   "id": "f2de9bbd",
   "metadata": {},
   "source": [
    "multiple letters can get certain obscure intervals"
   ]
  },
  {
   "cell_type": "code",
   "execution_count": 25,
   "id": "765080fb",
   "metadata": {},
   "outputs": [
    {
     "name": "stdout",
     "output_type": "stream",
     "text": [
      "Diminished Fifth\n",
      "Doubly-Diminished Fifth\n",
      "Triply-Diminished Fifth\n",
      "Augmented Fourth\n",
      "Doubly-Augmented Fourth\n",
      "Triply-Augmented Fourth\n"
     ]
    }
   ],
   "source": [
    "for intName in ['d5', 'dd5', 'ddd5', 'A4', 'AA4', 'AAA4']:\n",
    "    iTemp = interval.Interval(intName)\n",
    "    print(iTemp.niceName)"
   ]
  },
  {
   "cell_type": "markdown",
   "id": "aeb6f434",
   "metadata": {},
   "source": [
    "## Other ways of constructing Interval objects"
   ]
  },
  {
   "cell_type": "markdown",
   "id": "99b9def5",
   "metadata": {},
   "source": [
    "Create interval when you don't know the interval's name in advance"
   ]
  },
  {
   "cell_type": "code",
   "execution_count": 26,
   "id": "1d83e32d",
   "metadata": {},
   "outputs": [
    {
     "data": {
      "text/plain": [
       "'Perfect Fourth'"
      ]
     },
     "execution_count": 26,
     "metadata": {},
     "output_type": "execute_result"
    }
   ],
   "source": [
    "e = note.Note('E4')\n",
    "a = note.Note('A4')\n",
    "p4 = interval.Interval(e, a)\n",
    "p4.niceName"
   ]
  },
  {
   "cell_type": "markdown",
   "id": "74292feb",
   "metadata": {},
   "source": [
    "you can create intervals from an integer, representing the number of half-steps"
   ]
  },
  {
   "cell_type": "code",
   "execution_count": 27,
   "id": "5ab0563f",
   "metadata": {},
   "outputs": [
    {
     "data": {
      "text/plain": [
       "<music21.interval.Interval P5>"
      ]
     },
     "execution_count": 27,
     "metadata": {},
     "output_type": "execute_result"
    }
   ],
   "source": [
    "interval.Interval(7)"
   ]
  },
  {
   "cell_type": "code",
   "execution_count": 28,
   "id": "f054bc05",
   "metadata": {},
   "outputs": [
    {
     "name": "stdout",
     "output_type": "stream",
     "text": [
      "0 Perfect Unison\n",
      "1 Minor Second\n",
      "2 Major Second\n",
      "3 Minor Third\n",
      "4 Major Third\n",
      "5 Perfect Fourth\n",
      "6 Diminished Fifth\n",
      "7 Perfect Fifth\n",
      "8 Minor Sixth\n",
      "9 Major Sixth\n",
      "10 Minor Seventh\n",
      "11 Major Seventh\n",
      "12 Perfect Octave\n",
      "13 Minor Ninth\n"
     ]
    }
   ],
   "source": [
    "for semitones in range(14):\n",
    "    tempInt = interval.Interval(semitones)\n",
    "    print(semitones, tempInt.niceName)"
   ]
  },
  {
   "cell_type": "markdown",
   "id": "46332bc8",
   "metadata": {},
   "source": [
    "We can create new intervals by adding existing Intervals together"
   ]
  },
  {
   "cell_type": "code",
   "execution_count": 29,
   "id": "63ac1113",
   "metadata": {},
   "outputs": [
    {
     "data": {
      "text/plain": [
       "<music21.interval.Interval M7>"
      ]
     },
     "execution_count": 29,
     "metadata": {},
     "output_type": "execute_result"
    }
   ],
   "source": [
    "i1 = interval.Interval('P5')\n",
    "i2 = interval.Interval('M3')\n",
    "i3 = interval.add([i1, i2])\n",
    "i3"
   ]
  },
  {
   "cell_type": "markdown",
   "id": "1ce95b27",
   "metadata": {},
   "source": [
    "Here’s a nice way of making sure that a **major scale** actually does repeat at an **octave**"
   ]
  },
  {
   "cell_type": "code",
   "execution_count": 30,
   "id": "ba26aba3",
   "metadata": {},
   "outputs": [
    {
     "data": {
      "text/plain": [
       "<music21.interval.Interval P8>"
      ]
     },
     "execution_count": 30,
     "metadata": {},
     "output_type": "execute_result"
    }
   ],
   "source": [
    "# and a demo that “W” and “H” are synonyms for whole and half steps\n",
    "interval.add([\"W\", \"W\", \"H\", \"W\", \"W\", \"W\", \"H\"])"
   ]
  },
  {
   "cell_type": "markdown",
   "id": "5fbc3919",
   "metadata": {},
   "source": [
    "We can create new intervals by subtracting old ones"
   ]
  },
  {
   "cell_type": "code",
   "execution_count": 31,
   "id": "95ef9386",
   "metadata": {},
   "outputs": [
    {
     "data": {
      "text/plain": [
       "<music21.interval.Interval m3>"
      ]
     },
     "execution_count": 31,
     "metadata": {},
     "output_type": "execute_result"
    }
   ],
   "source": [
    "interval.subtract([i1, i2])"
   ]
  },
  {
   "cell_type": "markdown",
   "id": "679f124f",
   "metadata": {},
   "source": [
    "Subtraction, of course, is not commutative(可交换的)"
   ]
  },
  {
   "cell_type": "code",
   "execution_count": 32,
   "id": "80b33303",
   "metadata": {},
   "outputs": [
    {
     "data": {
      "text/plain": [
       "'Descending Minor Third'"
      ]
     },
     "execution_count": 32,
     "metadata": {},
     "output_type": "execute_result"
    }
   ],
   "source": [
    "iDown = interval.subtract([i2, i1])\n",
    "iDown.directedNiceName"
   ]
  },
  {
   "cell_type": "markdown",
   "id": "79556281",
   "metadata": {},
   "source": [
    "know the range from the lowest to the highest note in a piece"
   ]
  },
  {
   "cell_type": "code",
   "execution_count": 34,
   "id": "b4feabd2",
   "metadata": {},
   "outputs": [],
   "source": [
    "s = converter.parse('4/4 c4 d e f# g# a# g f e1', format=\"tinyNotation\")\n",
    "s.show('xml')"
   ]
  },
  {
   "attachments": {
    "image.png": {
     "image/png": "[encoded data removed]"
    }
   },
   "cell_type": "markdown",
   "id": "0a6b8606",
   "metadata": {},
   "source": [
    "![image.png](attachment:image.png)"
   ]
  },
  {
   "cell_type": "code",
   "execution_count": 35,
   "id": "f1e336bb",
   "metadata": {},
   "outputs": [
    {
     "data": {
      "text/plain": [
       "<music21.interval.Interval A6>"
      ]
     },
     "execution_count": 35,
     "metadata": {},
     "output_type": "execute_result"
    }
   ],
   "source": [
    "s.analyze('range')"
   ]
  },
  {
   "cell_type": "code",
   "execution_count": 36,
   "id": "82ffca96",
   "metadata": {},
   "outputs": [
    {
     "data": {
      "text/plain": [
       "10"
      ]
     },
     "execution_count": 36,
     "metadata": {},
     "output_type": "execute_result"
    }
   ],
   "source": [
    "a6 = s.analyze('range')\n",
    "a6.semitones"
   ]
  },
  {
   "cell_type": "markdown",
   "id": "2be993d0",
   "metadata": {},
   "source": [
    "## Related Interval Classes"
   ]
  },
  {
   "cell_type": "markdown",
   "id": "ac7578b5",
   "metadata": {},
   "source": [
    "the *GenericInterval* part is omitted ! "
   ]
  }
 ],
 "metadata": {
  "kernelspec": {
   "display_name": "music21_doc",
   "language": "python",
   "name": "music21_doc"
  },
  "language_info": {
   "codemirror_mode": {
    "name": "ipython",
    "version": 3
   },
   "file_extension": ".py",
   "mimetype": "text/x-python",
   "name": "python",
   "nbconvert_exporter": "python",
   "pygments_lexer": "ipython3",
   "version": "3.8.16"
  }
 },
 "nbformat": 4,
 "nbformat_minor": 5
}
