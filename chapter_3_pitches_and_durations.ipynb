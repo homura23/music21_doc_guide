{
 "cells": [
  {
   "cell_type": "markdown",
   "id": "4bcc3e55",
   "metadata": {},
   "source": [
    "# Chapter 3: Pitches, Durations, and Notes"
   ]
  },
  {
   "cell_type": "code",
   "execution_count": 1,
   "id": "f1c94dec",
   "metadata": {},
   "outputs": [],
   "source": [
    "from music21 import*"
   ]
  },
  {
   "cell_type": "markdown",
   "id": "6f34eac9",
   "metadata": {},
   "source": [
    "## The Pitch object"
   ]
  },
  {
   "cell_type": "code",
   "execution_count": 2,
   "id": "fe9db76f",
   "metadata": {},
   "outputs": [],
   "source": [
    "p1 = pitch.Pitch('b-4')"
   ]
  },
  {
   "cell_type": "markdown",
   "id": "85292d1d",
   "metadata": {},
   "source": [
    " The first three will be old hat from *Note* objects"
   ]
  },
  {
   "cell_type": "code",
   "execution_count": 3,
   "id": "5a8bc2be",
   "metadata": {},
   "outputs": [
    {
     "data": {
      "text/plain": [
       "4"
      ]
     },
     "execution_count": 3,
     "metadata": {},
     "output_type": "execute_result"
    }
   ],
   "source": [
    "p1.octave"
   ]
  },
  {
   "cell_type": "code",
   "execution_count": 4,
   "id": "a5923f77",
   "metadata": {},
   "outputs": [
    {
     "data": {
      "text/plain": [
       "10"
      ]
     },
     "execution_count": 4,
     "metadata": {},
     "output_type": "execute_result"
    }
   ],
   "source": [
    "p1.pitchClass"
   ]
  },
  {
   "cell_type": "code",
   "execution_count": 5,
   "id": "2b6af823",
   "metadata": {},
   "outputs": [
    {
     "data": {
      "text/plain": [
       "'B-'"
      ]
     },
     "execution_count": 5,
     "metadata": {},
     "output_type": "execute_result"
    }
   ],
   "source": [
    "p1.name"
   ]
  },
  {
   "cell_type": "code",
   "execution_count": 6,
   "id": "130d6f53",
   "metadata": {},
   "outputs": [
    {
     "data": {
      "text/plain": [
       "-1.0"
      ]
     },
     "execution_count": 6,
     "metadata": {},
     "output_type": "execute_result"
    }
   ],
   "source": [
    "p1.accidental.alter"
   ]
  },
  {
   "cell_type": "markdown",
   "id": "48497f8b",
   "metadata": {},
   "source": [
    "New attributes"
   ]
  },
  {
   "cell_type": "code",
   "execution_count": 7,
   "id": "5edc6d48",
   "metadata": {},
   "outputs": [
    {
     "data": {
      "text/plain": [
       "'B-4'"
      ]
     },
     "execution_count": 7,
     "metadata": {},
     "output_type": "execute_result"
    }
   ],
   "source": [
    "p1.nameWithOctave"
   ]
  },
  {
   "cell_type": "code",
   "execution_count": 8,
   "id": "124e3374",
   "metadata": {},
   "outputs": [
    {
     "data": {
      "text/plain": [
       "70"
      ]
     },
     "execution_count": 8,
     "metadata": {},
     "output_type": "execute_result"
    }
   ],
   "source": [
    "p1.midi"
   ]
  },
  {
   "cell_type": "raw",
   "id": "03048afc",
   "metadata": {},
   "source": [
    "MIDI numbers' range between 0 and 127 where middle C (C4) is 60"
   ]
  },
  {
   "cell_type": "markdown",
   "id": "8f44d004",
   "metadata": {},
   "source": [
    "Most of these attributes can be changed"
   ]
  },
  {
   "cell_type": "code",
   "execution_count": 24,
   "id": "0fc4afb6",
   "metadata": {},
   "outputs": [
    {
     "data": {
      "text/plain": [
       "'D#3'"
      ]
     },
     "execution_count": 24,
     "metadata": {},
     "output_type": "execute_result"
    }
   ],
   "source": [
    "p1.name = 'd#'\n",
    "p1.octave = 3\n",
    "p1.nameWithOctave"
   ]
  },
  {
   "cell_type": "markdown",
   "id": "365b561a",
   "metadata": {},
   "source": [
    "*.transpose()* method also appears on *Pitch* as well"
   ]
  },
  {
   "cell_type": "code",
   "execution_count": 10,
   "id": "cc617e0b",
   "metadata": {},
   "outputs": [
    {
     "data": {
      "text/plain": [
       "<music21.pitch.Pitch A5>"
      ]
     },
     "execution_count": 10,
     "metadata": {},
     "output_type": "execute_result"
    }
   ],
   "source": [
    "p2 = p1.transpose('M7')\n",
    "p2"
   ]
  },
  {
   "cell_type": "code",
   "execution_count": 11,
   "id": "1602aec4",
   "metadata": {},
   "outputs": [
    {
     "data": {
      "text/plain": [
       "'<music21.pitch.Pitch A5>'"
      ]
     },
     "execution_count": 11,
     "metadata": {},
     "output_type": "execute_result"
    }
   ],
   "source": [
    "repr(p2)"
   ]
  },
  {
   "cell_type": "markdown",
   "id": "226511e2",
   "metadata": {},
   "source": [
    "every *Note* object has a *Pitch* object inside it"
   ]
  },
  {
   "cell_type": "code",
   "execution_count": 13,
   "id": "f4cdbe98",
   "metadata": {},
   "outputs": [
    {
     "data": {
      "text/plain": [
       "'C#'"
      ]
     },
     "execution_count": 13,
     "metadata": {},
     "output_type": "execute_result"
    }
   ],
   "source": [
    "csharp = note.Note('C#4')\n",
    "csharp.name"
   ]
  },
  {
   "cell_type": "code",
   "execution_count": 14,
   "id": "73775d35",
   "metadata": {},
   "outputs": [
    {
     "data": {
      "text/plain": [
       "'C#'"
      ]
     },
     "execution_count": 14,
     "metadata": {},
     "output_type": "execute_result"
    }
   ],
   "source": [
    "csharp.pitch.name"
   ]
  },
  {
   "cell_type": "code",
   "execution_count": 15,
   "id": "f6f389d0",
   "metadata": {},
   "outputs": [
    {
     "data": {
      "text/plain": [
       "4"
      ]
     },
     "execution_count": 15,
     "metadata": {},
     "output_type": "execute_result"
    }
   ],
   "source": [
    "csharp.octave"
   ]
  },
  {
   "cell_type": "code",
   "execution_count": 18,
   "id": "06bd800e",
   "metadata": {},
   "outputs": [
    {
     "data": {
      "text/plain": [
       "4"
      ]
     },
     "execution_count": 18,
     "metadata": {},
     "output_type": "execute_result"
    }
   ],
   "source": [
    "csharp.pitch.octave"
   ]
  },
  {
   "cell_type": "markdown",
   "id": "874176d5",
   "metadata": {},
   "source": [
    "*pitch* objects have a lot more to offer for more technical working"
   ]
  },
  {
   "cell_type": "code",
   "execution_count": 22,
   "id": "df08a40b",
   "metadata": {},
   "outputs": [
    {
     "data": {
      "text/plain": [
       "'do sostenido'"
      ]
     },
     "execution_count": 22,
     "metadata": {},
     "output_type": "execute_result"
    }
   ],
   "source": [
    "csharp.pitch.spanish\n",
    "# name in spanish. \"Notes\" objects don't have this attributes"
   ]
  },
  {
   "cell_type": "code",
   "execution_count": 25,
   "id": "2f3ddd53",
   "metadata": {},
   "outputs": [
    {
     "data": {
      "text/plain": [
       "'C♯'"
      ]
     },
     "execution_count": 25,
     "metadata": {},
     "output_type": "execute_result"
    }
   ],
   "source": [
    "csharp.pitch.unicodeName\n",
    "# Get the \"sharp\" printed nicely"
   ]
  },
  {
   "cell_type": "code",
   "execution_count": 27,
   "id": "234edd8b",
   "metadata": {},
   "outputs": [
    {
     "name": "stdout",
     "output_type": "stream",
     "text": [
      "D-4\n",
      "B##3\n"
     ]
    }
   ],
   "source": [
    "print( csharp.pitch.getEnharmonic() )\n",
    "print( csharp.pitch.getLowerEnharmonic() )\n",
    "#异名同音 (Enharmonic) \n",
    "#two notes sound the same but are written as two different notes on the staff"
   ]
  },
  {
   "cell_type": "markdown",
   "id": "ac791fbe",
   "metadata": {},
   "source": [
    "## Carving time with Duration objects"
   ]
  },
  {
   "cell_type": "markdown",
   "id": "5e97c1b5",
   "metadata": {},
   "source": [
    " duration types:“whole”,“half”,“quarter”,“eighth”,“16th”,“32nd”,“64th”"
   ]
  },
  {
   "cell_type": "code",
   "execution_count": 29,
   "id": "425b95ab",
   "metadata": {},
   "outputs": [
    {
     "data": {
      "text/plain": [
       "<music21.duration.Duration 2.0>"
      ]
     },
     "execution_count": 29,
     "metadata": {},
     "output_type": "execute_result"
    }
   ],
   "source": [
    "halfDuration = duration.Duration('half')\n",
    "halfDuration"
   ]
  },
  {
   "cell_type": "markdown",
   "id": "b5c3b242",
   "metadata": {},
   "source": [
    " “breve” (2 whole notes), “longa” (4 whole notes), and “maxima” (8 whole notes) \n",
    " \n",
    " “128th”, “256th”, etc are less commonly used types"
   ]
  },
  {
   "cell_type": "code",
   "execution_count": 30,
   "id": "42689c43",
   "metadata": {},
   "outputs": [
    {
     "data": {
      "text/plain": [
       "2.0"
      ]
     },
     "execution_count": 30,
     "metadata": {},
     "output_type": "execute_result"
    }
   ],
   "source": [
    "halfDuration.quarterLength"
   ]
  },
  {
   "cell_type": "markdown",
   "id": "54fb033c",
   "metadata": {},
   "source": [
    "Create a *Duration* by passing it a number"
   ]
  },
  {
   "cell_type": "code",
   "execution_count": 34,
   "id": "3be63781",
   "metadata": {},
   "outputs": [
    {
     "data": {
      "text/plain": [
       "1.5"
      ]
     },
     "execution_count": 34,
     "metadata": {},
     "output_type": "execute_result"
    }
   ],
   "source": [
    "dottedQuarter = duration.Duration(1.5)\n",
    "dottedQuarter.quarterLength"
   ]
  },
  {
   "cell_type": "markdown",
   "id": "0c5430af",
   "metadata": {},
   "source": [
    "The *.type* attribute tells you what general type of *Duration* you have"
   ]
  },
  {
   "cell_type": "code",
   "execution_count": 38,
   "id": "212e3688",
   "metadata": {},
   "outputs": [
    {
     "data": {
      "text/plain": [
       "'half'"
      ]
     },
     "execution_count": 38,
     "metadata": {},
     "output_type": "execute_result"
    }
   ],
   "source": [
    "halfDuration.type"
   ]
  },
  {
   "cell_type": "code",
   "execution_count": 39,
   "id": "db6e2e44",
   "metadata": {},
   "outputs": [
    {
     "data": {
      "text/plain": [
       "'quarter'"
      ]
     },
     "execution_count": 39,
     "metadata": {},
     "output_type": "execute_result"
    }
   ],
   "source": [
    "dottedQuarter.type"
   ]
  },
  {
   "cell_type": "markdown",
   "id": "5d20abd5",
   "metadata": {},
   "source": [
    "The *.dots* attributes"
   ]
  },
  {
   "cell_type": "code",
   "execution_count": 40,
   "id": "0bfca2c7",
   "metadata": {},
   "outputs": [
    {
     "data": {
      "text/plain": [
       "0"
      ]
     },
     "execution_count": 40,
     "metadata": {},
     "output_type": "execute_result"
    }
   ],
   "source": [
    "halfDuration.dots"
   ]
  },
  {
   "cell_type": "code",
   "execution_count": 41,
   "id": "6c336b31",
   "metadata": {},
   "outputs": [
    {
     "data": {
      "text/plain": [
       "1"
      ]
     },
     "execution_count": 41,
     "metadata": {},
     "output_type": "execute_result"
    }
   ],
   "source": [
    "dottedQuarter.dots"
   ]
  },
  {
   "cell_type": "markdown",
   "id": "715136ce",
   "metadata": {},
   "source": [
    "The attributes of *dots*, *type*, and *quarterLength* are actually special attributes called “**properties**|”"
   ]
  },
  {
   "cell_type": "code",
   "execution_count": 45,
   "id": "15bdc8e1",
   "metadata": {},
   "outputs": [
    {
     "data": {
      "text/plain": [
       "1.75"
      ]
     },
     "execution_count": 45,
     "metadata": {},
     "output_type": "execute_result"
    }
   ],
   "source": [
    "dottedQuarter.dots = 2\n",
    "dottedQuarter.quarterLength\n",
    "# changing one property is also changing other properties"
   ]
  },
  {
   "cell_type": "code",
   "execution_count": 46,
   "id": "9cf00d4a",
   "metadata": {},
   "outputs": [
    {
     "data": {
      "text/plain": [
       "1.875"
      ]
     },
     "execution_count": 46,
     "metadata": {},
     "output_type": "execute_result"
    }
   ],
   "source": [
    "dottedQuarter.dots = 3\n",
    "dottedQuarter.quarterLength"
   ]
  },
  {
   "cell_type": "code",
   "execution_count": 47,
   "id": "3ae84faf",
   "metadata": {},
   "outputs": [
    {
     "data": {
      "text/plain": [
       "'16th'"
      ]
     },
     "execution_count": 47,
     "metadata": {},
     "output_type": "execute_result"
    }
   ],
   "source": [
    "dottedQuarter.quarterLength = 0.25\n",
    "dottedQuarter.type"
   ]
  },
  {
   "cell_type": "code",
   "execution_count": 48,
   "id": "5072954e",
   "metadata": {},
   "outputs": [
    {
     "data": {
      "text/plain": [
       "0"
      ]
     },
     "execution_count": 48,
     "metadata": {},
     "output_type": "execute_result"
    }
   ],
   "source": [
    "dottedQuarter.dots"
   ]
  },
  {
   "cell_type": "markdown",
   "id": "93b21e15",
   "metadata": {},
   "source": [
    "## Back to Notes "
   ]
  },
  {
   "cell_type": "markdown",
   "id": "ad9338ff",
   "metadata": {},
   "source": [
    "The default *Pitch* for a *Note* is **C** (meaning C4) and the default *Duration* is **1.0**"
   ]
  },
  {
   "cell_type": "code",
   "execution_count": 50,
   "id": "fcbf38c7",
   "metadata": {},
   "outputs": [
    {
     "data": {
      "text/plain": [
       "<music21.pitch.Pitch C4>"
      ]
     },
     "execution_count": 50,
     "metadata": {},
     "output_type": "execute_result"
    }
   ],
   "source": [
    "n1 = note.Note()\n",
    "n1.pitch"
   ]
  },
  {
   "cell_type": "code",
   "execution_count": 51,
   "id": "188bfbcd",
   "metadata": {},
   "outputs": [
    {
     "data": {
      "text/plain": [
       "<music21.duration.Duration 1.0>"
      ]
     },
     "execution_count": 51,
     "metadata": {},
     "output_type": "execute_result"
    }
   ],
   "source": [
    "n1.duration"
   ]
  },
  {
   "cell_type": "code",
   "execution_count": 53,
   "id": "c7c368dd",
   "metadata": {},
   "outputs": [
    {
     "data": {
      "text/plain": [
       "60"
      ]
     },
     "execution_count": 53,
     "metadata": {},
     "output_type": "execute_result"
    }
   ],
   "source": [
    "n1.pitch.midi"
   ]
  },
  {
   "cell_type": "markdown",
   "id": "b03208a2",
   "metadata": {},
   "source": [
    "we can play around with these attributes"
   ]
  },
  {
   "cell_type": "code",
   "execution_count": 54,
   "id": "86b639cb",
   "metadata": {},
   "outputs": [],
   "source": [
    "n1.pitch.nameWithOctave = 'E-5'\n",
    "n1.duration.quarterLength = 3.0"
   ]
  },
  {
   "cell_type": "markdown",
   "id": "a353da02",
   "metadata": {},
   "source": [
    " then the other properties change **accordingly**"
   ]
  },
  {
   "cell_type": "code",
   "execution_count": 55,
   "id": "302a9edd",
   "metadata": {},
   "outputs": [
    {
     "data": {
      "text/plain": [
       "'half'"
      ]
     },
     "execution_count": 55,
     "metadata": {},
     "output_type": "execute_result"
    }
   ],
   "source": [
    "n1.duration.type"
   ]
  },
  {
   "cell_type": "code",
   "execution_count": 56,
   "id": "24f9d114",
   "metadata": {},
   "outputs": [
    {
     "data": {
      "text/plain": [
       "1"
      ]
     },
     "execution_count": 56,
     "metadata": {},
     "output_type": "execute_result"
    }
   ],
   "source": [
    "n1.duration.dots"
   ]
  },
  {
   "cell_type": "code",
   "execution_count": 57,
   "id": "7203bc62",
   "metadata": {},
   "outputs": [
    {
     "data": {
      "text/plain": [
       "'E-'"
      ]
     },
     "execution_count": 57,
     "metadata": {},
     "output_type": "execute_result"
    }
   ],
   "source": [
    "n1.pitch.name"
   ]
  },
  {
   "cell_type": "code",
   "execution_count": 58,
   "id": "ffb09726",
   "metadata": {},
   "outputs": [
    {
     "data": {
      "text/plain": [
       "<music21.pitch.Accidental flat>"
      ]
     },
     "execution_count": 58,
     "metadata": {},
     "output_type": "execute_result"
    }
   ],
   "source": [
    "n1.pitch.accidental"
   ]
  },
  {
   "cell_type": "code",
   "execution_count": 59,
   "id": "a3b45f55",
   "metadata": {},
   "outputs": [
    {
     "data": {
      "text/plain": [
       "5"
      ]
     },
     "execution_count": 59,
     "metadata": {},
     "output_type": "execute_result"
    }
   ],
   "source": [
    "n1.pitch.octave"
   ]
  },
  {
   "cell_type": "markdown",
   "id": "ad14541e",
   "metadata": {},
   "source": [
    "Some of the attributes of *Pitch* and *duration* can also be called on the *Note* object itself"
   ]
  },
  {
   "cell_type": "code",
   "execution_count": 60,
   "id": "0066cc2b",
   "metadata": {},
   "outputs": [
    {
     "data": {
      "text/plain": [
       "'E-'"
      ]
     },
     "execution_count": 60,
     "metadata": {},
     "output_type": "execute_result"
    }
   ],
   "source": [
    "n1.name"
   ]
  },
  {
   "cell_type": "code",
   "execution_count": 62,
   "id": "5548155e",
   "metadata": {},
   "outputs": [
    {
     "data": {
      "text/plain": [
       "3.0"
      ]
     },
     "execution_count": 62,
     "metadata": {},
     "output_type": "execute_result"
    }
   ],
   "source": [
    "n1.quarterLength"
   ]
  },
  {
   "cell_type": "markdown",
   "id": "e1f41df4",
   "metadata": {},
   "source": [
    "###  *Notes* can do things that neither *Pitch* or *Duration* objects can do"
   ]
  },
  {
   "cell_type": "markdown",
   "id": "fdb0bf14",
   "metadata": {},
   "source": [
    "They can have lyrics"
   ]
  },
  {
   "cell_type": "code",
   "execution_count": 63,
   "id": "c06d823b",
   "metadata": {},
   "outputs": [
    {
     "data": {
      "text/plain": [
       "1.0"
      ]
     },
     "execution_count": 63,
     "metadata": {},
     "output_type": "execute_result"
    }
   ],
   "source": [
    "n1.quarterLength = 1.0\n",
    "n1.quarterLength"
   ]
  },
  {
   "cell_type": "code",
   "execution_count": 65,
   "id": "dffe9ef0",
   "metadata": {},
   "outputs": [
    {
     "data": {
      "text/plain": [
       "\"I'm the Queen of the Night!\""
      ]
     },
     "execution_count": 65,
     "metadata": {},
     "output_type": "execute_result"
    }
   ],
   "source": [
    "otherNote = note.Note(\"F6\")\n",
    "otherNote.lyric = \"I'm the Queen of the Night!\"\n",
    "otherNote.lyric"
   ]
  },
  {
   "cell_type": "markdown",
   "id": "82f7b6c7",
   "metadata": {},
   "source": [
    "Add **lyrics** to notes"
   ]
  },
  {
   "cell_type": "code",
   "execution_count": 69,
   "id": "d3b1b2a7",
   "metadata": {},
   "outputs": [],
   "source": [
    "n1.addLyric(n1.nameWithOctave)\n",
    "n1.addLyric(n1.pitch.pitchClassString)\n",
    "# add multiple lyrics to n1 using the Note's addLyric() method"
   ]
  },
  {
   "cell_type": "markdown",
   "id": "72de5b3e",
   "metadata": {},
   "source": [
    "lets put the *quarterLength* of the note as a string with a preface “QL: "
   ]
  },
  {
   "cell_type": "code",
   "execution_count": 70,
   "id": "98c0de0f",
   "metadata": {},
   "outputs": [],
   "source": [
    "n1.addLyric(f'QL: {n1.quarterLength}')"
   ]
  },
  {
   "cell_type": "code",
   "execution_count": 72,
   "id": "d5fde59b",
   "metadata": {},
   "outputs": [],
   "source": [
    "n1.show(\"musicxml\")"
   ]
  },
  {
   "attachments": {
    "image.png": {
     "image/png": "[encoded data removed]"
    }
   },
   "cell_type": "markdown",
   "id": "95439c48",
   "metadata": {},
   "source": [
    "![image.png](attachment:image.png)"
   ]
  },
  {
   "cell_type": "markdown",
   "id": "3d4aa707",
   "metadata": {},
   "source": [
    "Maybe I run the addlyrics() cell three times, so there is a repeat display of octave and pitchClassString"
   ]
  }
 ],
 "metadata": {
  "kernelspec": {
   "display_name": "music21_doc",
   "language": "python",
   "name": "music21_doc"
  },
  "language_info": {
   "codemirror_mode": {
    "name": "ipython",
    "version": 3
   },
   "file_extension": ".py",
   "mimetype": "text/x-python",
   "name": "python",
   "nbconvert_exporter": "python",
   "pygments_lexer": "ipython3",
   "version": "3.8.16"
  }
 },
 "nbformat": 4,
 "nbformat_minor": 5
}
