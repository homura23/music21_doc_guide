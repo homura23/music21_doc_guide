{
 "cells": [
  {
   "cell_type": "markdown",
   "id": "4abf0270",
   "metadata": {},
   "source": [
    "# Chapter 21: Ordering and Sorting of Stream Elements|"
   ]
  },
  {
   "cell_type": "markdown",
   "id": "0d6bb70f",
   "metadata": {},
   "source": [
    "Inside a stream, each object has a position and thus an **order** in the Stream"
   ]
  },
  {
   "cell_type": "code",
   "execution_count": 1,
   "id": "6326d0cc",
   "metadata": {},
   "outputs": [],
   "source": [
    "from music21 import *"
   ]
  },
  {
   "cell_type": "markdown",
   "id": "d0ff25df",
   "metadata": {},
   "source": [
    "Let’s take a simple Stream"
   ]
  },
  {
   "cell_type": "code",
   "execution_count": 2,
   "id": "43178aee",
   "metadata": {},
   "outputs": [],
   "source": [
    "# insert three elements that take up no space (a TimeSignature, KeySignature, and a Clef)\n",
    "s = stream.Measure()\n",
    "ts1 = meter.TimeSignature('3/4')\n",
    "s.insert(0, ts1)\n",
    "s.insert(0, key.KeySignature(2))\n",
    "s.insert(0, clef.TrebleClef())\n",
    "s.insert(0, note.Note('C#4'))\n",
    "s.insert(1, note.Note('D#4'))"
   ]
  },
  {
   "cell_type": "markdown",
   "id": "d487594c",
   "metadata": {},
   "source": [
    "we can append an element to the end of the Stream"
   ]
  },
  {
   "cell_type": "code",
   "execution_count": 4,
   "id": "8029a520",
   "metadata": {},
   "outputs": [],
   "source": [
    "e = note.Note('E4')\n",
    "s.append(e)\n",
    "s.show('xml')"
   ]
  },
  {
   "attachments": {
    "image.png": {
     "image/png": "[encoded data removed]"
    }
   },
   "cell_type": "markdown",
   "id": "560f3f38",
   "metadata": {},
   "source": [
    "![image.png](attachment:image.png)"
   ]
  },
  {
   "cell_type": "code",
   "execution_count": 5,
   "id": "a790aebf",
   "metadata": {},
   "outputs": [
    {
     "data": {
      "text/plain": [
       "<music21.note.Note C#>"
      ]
     },
     "execution_count": 5,
     "metadata": {},
     "output_type": "execute_result"
    }
   ],
   "source": [
    "# the C# will be the fourth element in the Stream\n",
    "s[3]"
   ]
  },
  {
   "cell_type": "code",
   "execution_count": 6,
   "id": "efce644e",
   "metadata": {},
   "outputs": [
    {
     "data": {
      "text/plain": [
       "<music21.note.Note D#>"
      ]
     },
     "execution_count": 6,
     "metadata": {},
     "output_type": "execute_result"
    }
   ],
   "source": [
    "s[4]"
   ]
  },
  {
   "cell_type": "code",
   "execution_count": 7,
   "id": "fd1aad4d",
   "metadata": {},
   "outputs": [
    {
     "data": {
      "text/plain": [
       "<music21.note.Note E>"
      ]
     },
     "execution_count": 7,
     "metadata": {},
     "output_type": "execute_result"
    }
   ],
   "source": [
    "s[-1]"
   ]
  },
  {
   "cell_type": "code",
   "execution_count": 8,
   "id": "af7d6b1b",
   "metadata": {},
   "outputs": [
    {
     "data": {
      "text/plain": [
       "2.0"
      ]
     },
     "execution_count": 8,
     "metadata": {},
     "output_type": "execute_result"
    }
   ],
   "source": [
    "e.offset\n",
    "# e.getOffsetBySite(s) is a safer way\n",
    "# s.elementOffset(e) is faster"
   ]
  },
  {
   "cell_type": "markdown",
   "id": "4b297334",
   "metadata": {},
   "source": [
    "find all the elements at a particular offset"
   ]
  },
  {
   "cell_type": "code",
   "execution_count": 9,
   "id": "1cc90e20",
   "metadata": {},
   "outputs": [
    {
     "data": {
      "text/plain": [
       "<music21.note.Note E>"
      ]
     },
     "execution_count": 9,
     "metadata": {},
     "output_type": "execute_result"
    }
   ],
   "source": [
    "# use the square bracket index to reference it\n",
    "s.getElementsByOffset(2.0)[0]"
   ]
  },
  {
   "cell_type": "code",
   "execution_count": 10,
   "id": "1591f05e",
   "metadata": {},
   "outputs": [
    {
     "data": {
      "text/plain": [
       "(<music21.note.Note D#>, <music21.note.Note E>)"
      ]
     },
     "execution_count": 10,
     "metadata": {},
     "output_type": "execute_result"
    }
   ],
   "source": [
    "#  get multiple elements back with an offset range\n",
    "y = s.getElementsByOffset(1.0, 3.0)\n",
    "(y[0], y[1])"
   ]
  },
  {
   "cell_type": "markdown",
   "id": "9bf6ffb2",
   "metadata": {},
   "source": [
    "Let’s show the Stream as a text file"
   ]
  },
  {
   "cell_type": "code",
   "execution_count": 11,
   "id": "51f9620c",
   "metadata": {},
   "outputs": [
    {
     "name": "stdout",
     "output_type": "stream",
     "text": [
      "{0.0} <music21.clef.TrebleClef>\n",
      "{0.0} <music21.key.KeySignature of 2 sharps>\n",
      "{0.0} <music21.meter.TimeSignature 3/4>\n",
      "{0.0} <music21.note.Note C#>\n",
      "{1.0} <music21.note.Note D#>\n",
      "{2.0} <music21.note.Note E>\n"
     ]
    }
   ],
   "source": [
    "s.show('text')"
   ]
  },
  {
   "cell_type": "code",
   "execution_count": 12,
   "id": "efaa4ae5",
   "metadata": {},
   "outputs": [
    {
     "data": {
      "text/plain": [
       "(<music21.clef.TrebleClef>,\n",
       " <music21.key.KeySignature of 2 sharps>,\n",
       " <music21.meter.TimeSignature 3/4>)"
      ]
     },
     "execution_count": 12,
     "metadata": {},
     "output_type": "execute_result"
    }
   ],
   "source": [
    "# the TrebleClef object which was inserted third has now become the first element of the Stream\n",
    "# The KeySignature and TimeSignature objects have also switched position\n",
    "\n",
    "# That's what we expect to see\n",
    "(s[0], s[1], s[2])"
   ]
  },
  {
   "cell_type": "markdown",
   "id": "8e86acd7",
   "metadata": {},
   "source": [
    " each of these objects knows its place in the Stream, because of ***.classSortOrder***"
   ]
  },
  {
   "cell_type": "code",
   "execution_count": 13,
   "id": "e7838642",
   "metadata": {},
   "outputs": [
    {
     "data": {
      "text/plain": [
       "(0, 2, 4)"
      ]
     },
     "execution_count": 13,
     "metadata": {},
     "output_type": "execute_result"
    }
   ],
   "source": [
    "(s[0].classSortOrder, s[1].classSortOrder, s[2].classSortOrder)"
   ]
  },
  {
   "cell_type": "code",
   "execution_count": 14,
   "id": "7a819abd",
   "metadata": {},
   "outputs": [
    {
     "data": {
      "text/plain": [
       "(20, 20)"
      ]
     },
     "execution_count": 14,
     "metadata": {},
     "output_type": "execute_result"
    }
   ],
   "source": [
    "# Notes have a higher classSortOrder\n",
    "(note.Note.classSortOrder, base.Music21Object.classSortOrder)"
   ]
  },
  {
   "cell_type": "code",
   "execution_count": 15,
   "id": "6aef2b9c",
   "metadata": {},
   "outputs": [
    {
     "data": {
      "text/plain": [
       "(-5, -25, -30)"
      ]
     },
     "execution_count": 15,
     "metadata": {},
     "output_type": "execute_result"
    }
   ],
   "source": [
    "# There are a few elements that sort even lower than Clefs\n",
    "(bar.Barline.classSortOrder, instrument.Instrument.classSortOrder, metadata.Metadata.classSortOrder)"
   ]
  },
  {
   "cell_type": "markdown",
   "id": "04e3e4f6",
   "metadata": {},
   "source": [
    "If we put a second TimeSignature into the stream at offset 0"
   ]
  },
  {
   "cell_type": "code",
   "execution_count": 16,
   "id": "d17d2abf",
   "metadata": {},
   "outputs": [
    {
     "name": "stdout",
     "output_type": "stream",
     "text": [
      "{0.0} <music21.clef.TrebleClef>\n",
      "{0.0} <music21.key.KeySignature of 2 sharps>\n",
      "{0.0} <music21.meter.TimeSignature 3/4>\n",
      "{0.0} <music21.meter.TimeSignature 6/8>\n",
      "{0.0} <music21.note.Note C#>\n",
      "{1.0} <music21.note.Note D#>\n",
      "{2.0} <music21.note.Note E>\n"
     ]
    }
   ],
   "source": [
    "ts2 = meter.TimeSignature('6/8')\n",
    "s.insert(0, ts2)\n",
    "s.show('text')"
   ]
  },
  {
   "cell_type": "markdown",
   "id": "55899f92",
   "metadata": {},
   "source": [
    "Let us insert two more notes into the stream"
   ]
  },
  {
   "cell_type": "code",
   "execution_count": 17,
   "id": "c2f52b78",
   "metadata": {},
   "outputs": [
    {
     "name": "stdout",
     "output_type": "stream",
     "text": [
      "{0.0} <music21.clef.TrebleClef>\n",
      "{0.0} <music21.key.KeySignature of 2 sharps>\n",
      "{0.0} <music21.meter.TimeSignature 3/4>\n",
      "{0.0} <music21.meter.TimeSignature 6/8>\n",
      "{0.0} <music21.note.Note C#>\n",
      "{1.0} <music21.note.Note D>\n",
      "{1.0} <music21.note.Note D#>\n",
      "{2.0} <music21.note.Note E>\n",
      "{2.0} <music21.note.Note E#>\n"
     ]
    }
   ],
   "source": [
    "# but we’ll make the note at offset 1 come before the D# and the one at offset 2 come after the E\n",
    "# Every Music21Object has a priority attribute, and the default is 0\n",
    "d = note.Note('D')\n",
    "d.priority = -10\n",
    "eis = note.Note('E#')\n",
    "eis.priority = 10\n",
    "s.insert(1.0, d)\n",
    "s.insert(2.0, eis)\n",
    "s.show('text')"
   ]
  }
 ],
 "metadata": {
  "kernelspec": {
   "display_name": "music21_doc",
   "language": "python",
   "name": "music21_doc"
  },
  "language_info": {
   "codemirror_mode": {
    "name": "ipython",
    "version": 3
   },
   "file_extension": ".py",
   "mimetype": "text/x-python",
   "name": "python",
   "nbconvert_exporter": "python",
   "pygments_lexer": "ipython3",
   "version": "3.8.16"
  }
 },
 "nbformat": 4,
 "nbformat_minor": 5
}
