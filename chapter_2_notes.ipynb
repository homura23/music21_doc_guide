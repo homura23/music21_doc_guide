{
 "cells": [
  {
   "cell_type": "code",
   "execution_count": 3,
   "id": "c90b04c9",
   "metadata": {},
   "outputs": [],
   "source": [
    "from music21 import*"
   ]
  },
  {
   "cell_type": "code",
   "execution_count": 8,
   "id": "5ae1d5dd",
   "metadata": {},
   "outputs": [],
   "source": [
    "environment.set('musescoreDirectPNGPath', \"C:\\\\Program Files\\\\MuseScore 4\\\\bin\\\\MuseScore4.exe\")\n",
    "environment.set('musicxmlPath', \"C:\\\\Program Files\\\\MuseScore 4\\\\bin\\\\MuseScore4.exe\")\n",
    "env = environment.Environment()\n",
    "\n",
    "# check the path\n",
    "print('Environment settings:')\n",
    "print('musicXML:  ', env['musicxmlPath'])\n",
    "print('musescore: ', env['musescoreDirectPNGPath'])"
   ]
  },
  {
   "cell_type": "code",
   "execution_count": 6,
   "id": "a4faaf70",
   "metadata": {},
   "outputs": [
    {
     "name": "stdout",
     "output_type": "stream",
     "text": [
      "<music21.note.Note F>\n"
     ]
    }
   ],
   "source": [
    "f=note.Note('F5')\n",
    "print(f)"
   ]
  },
  {
   "cell_type": "code",
   "execution_count": 13,
   "id": "7bf6bb46",
   "metadata": {},
   "outputs": [],
   "source": [
    "f.show('musicxml')\n",
    "# f.show() is not available for Jupyter notebook. Add 'musicxml' into brackets \n",
    "# If you are running this cell, the musicscore 4 will be opened, but you can not run next cell unless you close the musicscore 4"
   ]
  },
  {
   "cell_type": "code",
   "execution_count": 28,
   "id": "459bb883",
   "metadata": {},
   "outputs": [
    {
     "data": {
      "text/html": [
       "\n",
       "                <div id=\"midiPlayerDiv121\"></div>\n",
       "                <link rel=\"stylesheet\" href=\"//cuthbertLab.github.io/music21j/css/m21.css\"\n",
       "                    type=\"text/css\" />\n",
       "                \n",
       "                <script>\n",
       "                require.config({\n",
       "                    paths: {'music21': '//cuthbertLab.github.io/music21j/src/music21'}\n",
       "                });\n",
       "                require(['music21'], function() {\n",
       "                               mp = new music21.miditools.MidiPlayer();\n",
       "                               mp.addPlayer(\"#midiPlayerDiv121\");\n",
       "                               mp.base64Load(\"data:audio/midi;base64,TVRoZAAAAAYAAQACBABNVHJrAAAAFAD/UQMHoSAA/1gEBAIYCIgA/y8ATVRyawAAABcA/wMAAOAAQIgAkE1aiACATQCIAP8vAA==\");\n",
       "                        });\n",
       "                </script>"
      ],
      "text/plain": [
       "<IPython.core.display.HTML object>"
      ]
     },
     "metadata": {},
     "output_type": "display_data"
    }
   ],
   "source": [
    "f.show('midi')"
   ]
  },
  {
   "cell_type": "code",
   "execution_count": 43,
   "id": "26dc9f70",
   "metadata": {},
   "outputs": [
    {
     "data": {
      "text/plain": [
       "<music21.note.Rest quarter>"
      ]
     },
     "execution_count": 43,
     "metadata": {},
     "output_type": "execute_result"
    }
   ],
   "source": [
    "r = note.Rest()\n",
    "r"
   ]
  },
  {
   "cell_type": "code",
   "execution_count": 44,
   "id": "b75a9b52",
   "metadata": {},
   "outputs": [
    {
     "ename": "AttributeError",
     "evalue": "'Rest' object has no attribute 'pitch'",
     "output_type": "error",
     "traceback": [
      "\u001b[1;31m---------------------------------------------------------------------------\u001b[0m",
      "\u001b[1;31mAttributeError\u001b[0m                            Traceback (most recent call last)",
      "Cell \u001b[1;32mIn[44], line 1\u001b[0m\n\u001b[1;32m----> 1\u001b[0m \u001b[43mr\u001b[49m\u001b[38;5;241;43m.\u001b[39;49m\u001b[43mpitch\u001b[49m\n",
      "\u001b[1;31mAttributeError\u001b[0m: 'Rest' object has no attribute 'pitch'"
     ]
    }
   ],
   "source": [
    "r.pitch\n",
    "#if you try to hear it as a ‘midi’ file, don’t expect to be overwhelmed, because a rest note have no pitch attribute."
   ]
  },
  {
   "cell_type": "markdown",
   "id": "3a2844ed",
   "metadata": {},
   "source": [
    "## The heart of music is the notes\n",
    "!! distinguish the difference between \"note\" and \"Note\", capital letter is important which represents it's a objects but not a module."
   ]
  },
  {
   "cell_type": "code",
   "execution_count": 20,
   "id": "fd80b031",
   "metadata": {},
   "outputs": [
    {
     "data": {
      "text/plain": [
       "<module 'music21.note' from 'D:\\\\Anaconda\\\\envs\\\\music21_doc\\\\lib\\\\site-packages\\\\music21\\\\note.py'>"
      ]
     },
     "execution_count": 20,
     "metadata": {},
     "output_type": "execute_result"
    }
   ],
   "source": [
    "note"
   ]
  },
  {
   "cell_type": "code",
   "execution_count": 19,
   "id": "2f1f78d7",
   "metadata": {},
   "outputs": [
    {
     "data": {
      "text/plain": [
       "['Duration',\n",
       " 'GeneralNote',\n",
       " 'Lyric',\n",
       " 'LyricException',\n",
       " 'NotRest',\n",
       " 'NotRestException',\n",
       " 'Note',\n",
       " 'NoteException',\n",
       " 'OffsetQLIn',\n",
       " 'Pitch',\n",
       " 'Rest',\n",
       " 'SYLLABIC_CHOICES',\n",
       " 'StepName',\n",
       " 'SyllabicChoices',\n",
       " 'Unpitched',\n",
       " 'annotations',\n",
       " 'base',\n",
       " 'beam',\n",
       " 'common',\n",
       " 'environLocal',\n",
       " 'environment',\n",
       " 'exceptions21',\n",
       " 'expressions',\n",
       " 'interval',\n",
       " 'noteheadTypeNames',\n",
       " 'overload',\n",
       " 'prebase',\n",
       " 'stemDirectionNames',\n",
       " 'style',\n",
       " 'tie',\n",
       " 'volume']"
      ]
     },
     "execution_count": 19,
     "metadata": {},
     "output_type": "execute_result"
    }
   ],
   "source": [
    "dir(note)"
   ]
  },
  {
   "cell_type": "code",
   "execution_count": 4,
   "id": "41c80a92",
   "metadata": {},
   "outputs": [],
   "source": [
    "c = note.Note(\"C4\")\n",
    "#We use the convention where middle-C is C4, the octave above it is C5"
   ]
  },
  {
   "cell_type": "code",
   "execution_count": 24,
   "id": "8228792c",
   "metadata": {},
   "outputs": [
    {
     "data": {
      "text/plain": [
       "'C'"
      ]
     },
     "execution_count": 24,
     "metadata": {},
     "output_type": "execute_result"
    }
   ],
   "source": [
    "c.name"
   ]
  },
  {
   "cell_type": "code",
   "execution_count": 25,
   "id": "e9118063",
   "metadata": {},
   "outputs": [
    {
     "data": {
      "text/plain": [
       "4"
      ]
     },
     "execution_count": 25,
     "metadata": {},
     "output_type": "execute_result"
    }
   ],
   "source": [
    "c.octave"
   ]
  },
  {
   "cell_type": "markdown",
   "id": "a41eaa3a",
   "metadata": {},
   "source": [
    "## The sub-attributes of note, which takes two dots"
   ]
  },
  {
   "cell_type": "code",
   "execution_count": 26,
   "id": "2d2ac8a0",
   "metadata": {},
   "outputs": [
    {
     "data": {
      "text/plain": [
       "261.6255653005985"
      ]
     },
     "execution_count": 26,
     "metadata": {},
     "output_type": "execute_result"
    }
   ],
   "source": [
    "c.pitch.frequency"
   ]
  },
  {
   "cell_type": "code",
   "execution_count": 5,
   "id": "b79d5884",
   "metadata": {},
   "outputs": [
    {
     "data": {
      "text/plain": [
       "'0'"
      ]
     },
     "execution_count": 5,
     "metadata": {},
     "output_type": "execute_result"
    }
   ],
   "source": [
    "c.pitch.pitchClassString"
   ]
  },
  {
   "cell_type": "markdown",
   "id": "f24ee395",
   "metadata": {},
   "source": [
    "音级，表示半音阶(semitones)的个数\n",
    "\n",
    "C=0, C# and Db = 1,etc. Then f' pitch class 5"
   ]
  },
  {
   "cell_type": "code",
   "execution_count": 7,
   "id": "8803c160",
   "metadata": {},
   "outputs": [
    {
     "data": {
      "text/plain": [
       "'5'"
      ]
     },
     "execution_count": 7,
     "metadata": {},
     "output_type": "execute_result"
    }
   ],
   "source": [
    "f.pitch.pitchClassString"
   ]
  },
  {
   "cell_type": "markdown",
   "id": "983b9dc2",
   "metadata": {},
   "source": [
    "The difference between the string '5' and the number 5 is essential to keep in mind"
   ]
  },
  {
   "cell_type": "code",
   "execution_count": 8,
   "id": "b922f1a7",
   "metadata": {},
   "outputs": [
    {
     "data": {
      "text/plain": [
       "True"
      ]
     },
     "execution_count": 8,
     "metadata": {},
     "output_type": "execute_result"
    }
   ],
   "source": [
    "f.octave == 5"
   ]
  },
  {
   "cell_type": "code",
   "execution_count": 9,
   "id": "381aa572",
   "metadata": {},
   "outputs": [
    {
     "data": {
      "text/plain": [
       "False"
      ]
     },
     "execution_count": 9,
     "metadata": {},
     "output_type": "execute_result"
    }
   ],
   "source": [
    "f.pitch.pitchClassString == 5"
   ]
  },
  {
   "cell_type": "code",
   "execution_count": 10,
   "id": "13d7753f",
   "metadata": {},
   "outputs": [
    {
     "data": {
      "text/plain": [
       "True"
      ]
     },
     "execution_count": 10,
     "metadata": {},
     "output_type": "execute_result"
    }
   ],
   "source": [
    "f.pitch.pitchClassString == \"5\"\n",
    "f.pitch.pitchClassString == '5'\n",
    "# In Python it doesn’t matter if you put the 5 in single or double quotes"
   ]
  },
  {
   "cell_type": "markdown",
   "id": "22a886cc",
   "metadata": {},
   "source": [
    "pitchClassString tells you that you should expect a string.  \n",
    "There’s also a .pitch.pitchClass which returns a number"
   ]
  },
  {
   "cell_type": "code",
   "execution_count": 12,
   "id": "aa337b99",
   "metadata": {},
   "outputs": [
    {
     "data": {
      "text/plain": [
       "5"
      ]
     },
     "execution_count": 12,
     "metadata": {},
     "output_type": "execute_result"
    }
   ],
   "source": [
    "f.pitch.pitchClass"
   ]
  },
  {
   "cell_type": "markdown",
   "id": "61362e2e",
   "metadata": {},
   "source": [
    "**flat** a note played a semitone/half tone lower than the note that is named.(降半音)\n",
    "\n",
    "OPP: **sharp** 升半音"
   ]
  },
  {
   "cell_type": "code",
   "execution_count": 14,
   "id": "5fe270db",
   "metadata": {},
   "outputs": [],
   "source": [
    "bflat = note.Note(\"B-2\")\n",
    "#“Bb” ，“b_flat” are fine. But  “b-flat” is not allowed!!"
   ]
  },
  {
   "cell_type": "markdown",
   "id": "010a9b2b",
   "metadata": {},
   "source": [
    "**Accidental** class, representing the symbolic and numerical representation of pitch deviation from a pitch name(临时记号)"
   ]
  },
  {
   "cell_type": "code",
   "execution_count": 15,
   "id": "73b5077f",
   "metadata": {},
   "outputs": [
    {
     "data": {
      "text/plain": [
       "<music21.pitch.Accidental flat>"
      ]
     },
     "execution_count": 15,
     "metadata": {},
     "output_type": "execute_result"
    }
   ],
   "source": [
    "bflat.pitch.accidental"
   ]
  },
  {
   "cell_type": "markdown",
   "id": "2db46e8b",
   "metadata": {},
   "source": [
    " Show how many semitones this Accidental changes the Note"
   ]
  },
  {
   "cell_type": "code",
   "execution_count": 16,
   "id": "d2bde0f6",
   "metadata": {},
   "outputs": [
    {
     "data": {
      "text/plain": [
       "-1.0"
      ]
     },
     "execution_count": 16,
     "metadata": {},
     "output_type": "execute_result"
    }
   ],
   "source": [
    "bflat.pitch.accidental.alter\n",
    "#Since this Accidental is a flat, its .alter is a negative number"
   ]
  },
  {
   "cell_type": "markdown",
   "id": "ae171da6",
   "metadata": {},
   "source": [
    ".displayLocation is still a ***confusing*** attribute "
   ]
  },
  {
   "cell_type": "code",
   "execution_count": 17,
   "id": "3ad890e5",
   "metadata": {},
   "outputs": [
    {
     "data": {
      "text/plain": [
       "'normal'"
      ]
     },
     "execution_count": 17,
     "metadata": {},
     "output_type": "execute_result"
    }
   ],
   "source": [
    "bflat.pitch.accidental.displayLocation"
   ]
  },
  {
   "cell_type": "code",
   "execution_count": 18,
   "id": "3f5f12e1",
   "metadata": {},
   "outputs": [],
   "source": [
    "bflat.show(\"musicxml\")"
   ]
  },
  {
   "attachments": {
    "image-2.png": {
     "image/png": "[encoded data removed]"
    }
   },
   "cell_type": "markdown",
   "id": "1d4ff54c",
   "metadata": {},
   "source": [
    "![image-2.png](attachment:image-2.png)"
   ]
  },
  {
   "cell_type": "code",
   "execution_count": 27,
   "id": "11f8ec6b",
   "metadata": {},
   "outputs": [
    {
     "data": {
      "text/plain": [
       "'above'"
      ]
     },
     "execution_count": 27,
     "metadata": {},
     "output_type": "execute_result"
    }
   ],
   "source": [
    "bflat.pitch.accidental.displayLocation = 'above'\n",
    "bflat.pitch.accidental.displayLocation"
   ]
  },
  {
   "cell_type": "code",
   "execution_count": 26,
   "id": "a6011fc7",
   "metadata": {},
   "outputs": [],
   "source": [
    "bflat.show(\"musicxml\")"
   ]
  },
  {
   "attachments": {
    "image.png": {
     "image/png": "[encoded data removed]"
    }
   },
   "cell_type": "markdown",
   "id": "110580be",
   "metadata": {},
   "source": [
    "![image.png](attachment:image.png)"
   ]
  },
  {
   "cell_type": "code",
   "execution_count": 32,
   "id": "7415e5ca",
   "metadata": {},
   "outputs": [],
   "source": [
    "bflat2 = note.Note(\"B\")\n",
    "bflat2.show(\"musicxml\")"
   ]
  },
  {
   "attachments": {
    "image.png": {
     "image/png": "[encoded data removed]"
    }
   },
   "cell_type": "markdown",
   "id": "e90a86de",
   "metadata": {},
   "source": [
    "![image.png](attachment:image.png)"
   ]
  },
  {
   "cell_type": "code",
   "execution_count": null,
   "id": "5974710a",
   "metadata": {},
   "outputs": [],
   "source": [
    "bflat2 = note.Note(\"B-\")\n",
    "bflat2.show(\"musicxml\")"
   ]
  },
  {
   "attachments": {
    "image.png": {
     "image/png": "[encoded data removed]"
    }
   },
   "cell_type": "markdown",
   "id": "c109d6f1",
   "metadata": {},
   "source": [
    "![image.png](attachment:image.png)"
   ]
  },
  {
   "cell_type": "markdown",
   "id": "fe175c18",
   "metadata": {},
   "source": [
    "transposing our B-flat up a major-third (“M3”)"
   ]
  },
  {
   "cell_type": "code",
   "execution_count": 37,
   "id": "aff8df4a",
   "metadata": {},
   "outputs": [
    {
     "name": "stdout",
     "output_type": "stream",
     "text": [
      "<music21.note.Note D>\n",
      "<music21.note.Note B->\n"
     ]
    }
   ],
   "source": [
    "d = bflat.transpose(\"M3\")\n",
    "print(d)\n",
    "print(bflat)"
   ]
  },
  {
   "cell_type": "markdown",
   "id": "363780f2",
   "metadata": {},
   "source": [
    "If you want to change bflat itself, you can add “inPlace = True”"
   ]
  },
  {
   "cell_type": "code",
   "execution_count": 38,
   "id": "5286d56f",
   "metadata": {},
   "outputs": [
    {
     "data": {
      "text/plain": [
       "<music21.note.Note D>"
      ]
     },
     "execution_count": 38,
     "metadata": {},
     "output_type": "execute_result"
    }
   ],
   "source": [
    "bflat.transpose(\"M3\", inPlace=True)\n",
    "bflat"
   ]
  },
  {
   "cell_type": "markdown",
   "id": "96c9385b",
   "metadata": {},
   "source": [
    "Not every note has an **accidental** !!!"
   ]
  },
  {
   "cell_type": "code",
   "execution_count": 40,
   "id": "2ef4c088",
   "metadata": {},
   "outputs": [
    {
     "name": "stdout",
     "output_type": "stream",
     "text": [
      "None\n"
     ]
    }
   ],
   "source": [
    "d.pitch.accidental\n",
    "print(d.pitch.accidental)"
   ]
  },
  {
   "cell_type": "markdown",
   "id": "1208c371",
   "metadata": {},
   "source": [
    "Since d.accidental is None does this mean that d.accidental.name is None too?"
   ]
  },
  {
   "cell_type": "code",
   "execution_count": 41,
   "id": "6e7816fb",
   "metadata": {},
   "outputs": [
    {
     "ename": "AttributeError",
     "evalue": "'NoneType' object has no attribute 'name'",
     "output_type": "error",
     "traceback": [
      "\u001b[1;31m---------------------------------------------------------------------------\u001b[0m",
      "\u001b[1;31mAttributeError\u001b[0m                            Traceback (most recent call last)",
      "Cell \u001b[1;32mIn[41], line 1\u001b[0m\n\u001b[1;32m----> 1\u001b[0m \u001b[43md\u001b[49m\u001b[38;5;241;43m.\u001b[39;49m\u001b[43mpitch\u001b[49m\u001b[38;5;241;43m.\u001b[39;49m\u001b[43maccidental\u001b[49m\u001b[38;5;241;43m.\u001b[39;49m\u001b[43mname\u001b[49m\n",
      "\u001b[1;31mAttributeError\u001b[0m: 'NoneType' object has no attribute 'name'"
     ]
    }
   ],
   "source": [
    "d.pitch.accidental.name"
   ]
  },
  {
   "cell_type": "raw",
   "id": "92af27b0",
   "metadata": {},
   "source": [
    "Nope! In fact it creates an error (which we’ll also call “raising an Exception” for reasons that will become clear soon).\n",
    "\n",
    "So, warning:\n",
    "\n",
    "when you’re running a program, Exceptions will usually cause the program to crash"
   ]
  },
  {
   "cell_type": "markdown",
   "id": "264e6a88",
   "metadata": {},
   "source": [
    "Using \"if\" statement to avoid exception."
   ]
  },
  {
   "cell_type": "raw",
   "id": "af0d6514",
   "metadata": {},
   "source": [
    "if d.pitch.accidental is not None:\n",
    "    print(d.pitch.accidental.name)"
   ]
  }
 ],
 "metadata": {
  "kernelspec": {
   "display_name": "music21_doc",
   "language": "python",
   "name": "music21_doc"
  },
  "language_info": {
   "codemirror_mode": {
    "name": "ipython",
    "version": 3
   },
   "file_extension": ".py",
   "mimetype": "text/x-python",
   "name": "python",
   "nbconvert_exporter": "python",
   "pygments_lexer": "ipython3",
   "version": "3.8.16"
  }
 },
 "nbformat": 4,
 "nbformat_minor": 5
}
