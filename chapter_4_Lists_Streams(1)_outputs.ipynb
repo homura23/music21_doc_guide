{
 "cells": [
  {
   "cell_type": "markdown",
   "id": "3bd81682",
   "metadata": {},
   "source": [
    "# Chapter 4: Lists, Streams (I) and Output"
   ]
  },
  {
   "cell_type": "code",
   "execution_count": 2,
   "id": "d6b8b479",
   "metadata": {},
   "outputs": [],
   "source": [
    "from music21 import*"
   ]
  },
  {
   "cell_type": "markdown",
   "id": "5f09c6d6",
   "metadata": {},
   "source": [
    "## Working with multiple objects via Lists"
   ]
  },
  {
   "cell_type": "code",
   "execution_count": 3,
   "id": "e5dda3f3",
   "metadata": {},
   "outputs": [],
   "source": [
    "note1 = note.Note(\"C4\")\n",
    "note2 = note.Note(\"F#4\")\n",
    "noteList = [note1, note2]"
   ]
  },
  {
   "cell_type": "code",
   "execution_count": 4,
   "id": "ac65c76d",
   "metadata": {},
   "outputs": [
    {
     "name": "stdout",
     "output_type": "stream",
     "text": [
      "[<music21.note.Note C>, <music21.note.Note F#>]\n"
     ]
    }
   ],
   "source": [
    "print(noteList)"
   ]
  },
  {
   "cell_type": "code",
   "execution_count": 5,
   "id": "4dea1338",
   "metadata": {},
   "outputs": [
    {
     "name": "stdout",
     "output_type": "stream",
     "text": [
      "C\n",
      "F\n"
     ]
    }
   ],
   "source": [
    "for thisNote in noteList:\n",
    "    print(thisNote.step)"
   ]
  },
  {
   "cell_type": "code",
   "execution_count": 6,
   "id": "d160d90f",
   "metadata": {},
   "outputs": [],
   "source": [
    "note3 = note.Note(\"B-2\")\n",
    "noteList.append(note3)"
   ]
  },
  {
   "cell_type": "code",
   "execution_count": 7,
   "id": "aca5d14b",
   "metadata": {},
   "outputs": [
    {
     "data": {
      "text/plain": [
       "<music21.note.Note B->"
      ]
     },
     "execution_count": 7,
     "metadata": {},
     "output_type": "execute_result"
    }
   ],
   "source": [
    "noteList[-1]\n",
    "# get the last element of a list"
   ]
  },
  {
   "cell_type": "markdown",
   "id": "6fd37631",
   "metadata": {},
   "source": [
    "Lists don't know anything about music, so for *music21*, **Stream** is better"
   ]
  },
  {
   "cell_type": "markdown",
   "id": "adb8ff7f",
   "metadata": {},
   "source": [
    "## Introduction to Streams "
   ]
  },
  {
   "cell_type": "markdown",
   "id": "e5b615e3",
   "metadata": {},
   "source": [
    "The ***Stream*** object and its subclasses (***Score, Part, Measure***) are the fundamental containers for music21 objects"
   ]
  },
  {
   "cell_type": "markdown",
   "id": "8cce5d7d",
   "metadata": {},
   "source": [
    " one music21 object can be simultaneously stored in more than one *Stream*"
   ]
  },
  {
   "cell_type": "markdown",
   "id": "9e8781b5",
   "metadata": {},
   "source": [
    "## Creating simple Streams"
   ]
  },
  {
   "cell_type": "code",
   "execution_count": 8,
   "id": "1ce5b613",
   "metadata": {},
   "outputs": [],
   "source": [
    "stream1 = stream.Stream()"
   ]
  },
  {
   "cell_type": "code",
   "execution_count": 9,
   "id": "4d8ce191",
   "metadata": {},
   "outputs": [],
   "source": [
    "stream1.append(note1)\n",
    "stream1.append(note2)\n",
    "stream1.append(note3)"
   ]
  },
  {
   "cell_type": "markdown",
   "id": "e7739a40",
   "metadata": {},
   "source": [
    "Use the Stream method ***repeatAppend()*** to add a number of independent, unique copies of the same Note"
   ]
  },
  {
   "cell_type": "code",
   "execution_count": 10,
   "id": "f5014af7",
   "metadata": {},
   "outputs": [],
   "source": [
    "stream2 = stream.Stream()\n",
    "n3 = note.Note('D#5')\n",
    "stream2.repeatAppend(n3,4)\n",
    "stream2.show('musicxml')"
   ]
  },
  {
   "attachments": {
    "image.png": {
     "image/png": "[encoded data removed]"
    }
   },
   "cell_type": "markdown",
   "id": "32687ae4",
   "metadata": {},
   "source": [
    "![image.png](attachment:image.png)"
   ]
  },
  {
   "cell_type": "code",
   "execution_count": 16,
   "id": "d55ed712",
   "metadata": {},
   "outputs": [
    {
     "data": {
      "text/plain": [
       "3"
      ]
     },
     "execution_count": 16,
     "metadata": {},
     "output_type": "execute_result"
    }
   ],
   "source": [
    "len(stream1)"
   ]
  },
  {
   "cell_type": "markdown",
   "id": "fd1332d2",
   "metadata": {},
   "source": [
    "Use *show('text')* to see what is in the Stream and what its offset is"
   ]
  },
  {
   "cell_type": "code",
   "execution_count": 17,
   "id": "53ae98e4",
   "metadata": {},
   "outputs": [
    {
     "name": "stdout",
     "output_type": "stream",
     "text": [
      "{0.0} <music21.note.Note C>\n",
      "{1.0} <music21.note.Note F#>\n",
      "{2.0} <music21.note.Note B->\n"
     ]
    }
   ],
   "source": [
    "stream1.show('text')"
   ]
  },
  {
   "cell_type": "code",
   "execution_count": 18,
   "id": "3515fbce",
   "metadata": {},
   "outputs": [
    {
     "data": {
      "text/plain": [
       "2.0"
      ]
     },
     "execution_count": 18,
     "metadata": {},
     "output_type": "execute_result"
    }
   ],
   "source": [
    "stream1[0].quarterLength = 2\n",
    "stream1[0].quarterLength"
   ]
  },
  {
   "cell_type": "code",
   "execution_count": 36,
   "id": "202ce584",
   "metadata": {},
   "outputs": [],
   "source": [
    "stream1.show('musicxml')"
   ]
  },
  {
   "attachments": {
    "image.png": {
     "image/png": "[encoded data removed]"
    }
   },
   "cell_type": "markdown",
   "id": "655c3f01",
   "metadata": {},
   "source": [
    "![image.png](attachment:image.png)"
   ]
  },
  {
   "cell_type": "markdown",
   "id": "0ff6c638",
   "metadata": {},
   "source": [
    "## Accessing Streams "
   ]
  },
  {
   "cell_type": "code",
   "execution_count": 19,
   "id": "b806a03b",
   "metadata": {},
   "outputs": [
    {
     "name": "stdout",
     "output_type": "stream",
     "text": [
      "C\n",
      "F\n",
      "B\n"
     ]
    }
   ],
   "source": [
    "for thisNote in stream1:\n",
    "    print(thisNote.step)"
   ]
  },
  {
   "cell_type": "code",
   "execution_count": 20,
   "id": "e647e69b",
   "metadata": {},
   "outputs": [
    {
     "data": {
      "text/plain": [
       "2"
      ]
     },
     "execution_count": 20,
     "metadata": {},
     "output_type": "execute_result"
    }
   ],
   "source": [
    "note3Index = stream1.index(note3)\n",
    "note3Index"
   ]
  },
  {
   "cell_type": "markdown",
   "id": "199bd1ea",
   "metadata": {},
   "source": [
    "Given an index, an element from the Stream can be **removed** with the *pop()* method."
   ]
  },
  {
   "cell_type": "code",
   "execution_count": 21,
   "id": "d7bf1576",
   "metadata": {},
   "outputs": [],
   "source": [
    "stream1.pop(note3Index)\n",
    "stream1.show('musicxml')"
   ]
  },
  {
   "attachments": {
    "image.png": {
     "image/png": "[encoded data removed]"
    }
   },
   "cell_type": "markdown",
   "id": "6b1e70f1",
   "metadata": {},
   "source": [
    "![image.png](attachment:image.png)"
   ]
  },
  {
   "cell_type": "code",
   "execution_count": 22,
   "id": "ddceb1af",
   "metadata": {},
   "outputs": [],
   "source": [
    "stream1.append(note3)"
   ]
  },
  {
   "cell_type": "markdown",
   "id": "4c0f0434",
   "metadata": {},
   "source": [
    "## Separating out elements by class  "
   ]
  },
  {
   "cell_type": "code",
   "execution_count": 23,
   "id": "66db8495",
   "metadata": {},
   "outputs": [
    {
     "name": "stdout",
     "output_type": "stream",
     "text": [
      "<music21.note.Note C> 0.0\n",
      "<music21.note.Note F#> 1.0\n",
      "<music21.note.Note B-> 2.0\n"
     ]
    }
   ],
   "source": [
    "for thisNote in stream1.getElementsByClass(note.Note):\n",
    "    print(thisNote, thisNote.offset)"
   ]
  },
  {
   "cell_type": "code",
   "execution_count": 24,
   "id": "214b89e1",
   "metadata": {},
   "outputs": [
    {
     "name": "stdout",
     "output_type": "stream",
     "text": [
      "<music21.note.Note C> 0.0\n",
      "<music21.note.Note F#> 1.0\n",
      "<music21.note.Note B-> 2.0\n"
     ]
    }
   ],
   "source": [
    "for thisNote in stream1.getElementsByClass('Note'):\n",
    "    print(thisNote, thisNote.offset)"
   ]
  },
  {
   "cell_type": "markdown",
   "id": "9551f847",
   "metadata": {},
   "source": [
    "It is also possible to pass in a list of classes or strings of class names"
   ]
  },
  {
   "cell_type": "code",
   "execution_count": 25,
   "id": "a3a5c612",
   "metadata": {},
   "outputs": [
    {
     "name": "stdout",
     "output_type": "stream",
     "text": [
      "<music21.note.Note C> 0.0\n",
      "<music21.note.Note F#> 1.0\n",
      "<music21.note.Note B-> 2.0\n"
     ]
    }
   ],
   "source": [
    "for thisNote in stream1.getElementsByClass(['Note', 'Rest']):\n",
    "    print(thisNote, thisNote.offset)\n",
    "# 此处虽然是多重条件检索，但由于stream1中并无 Rest objects, 因此结果与上述无异。 "
   ]
  },
  {
   "cell_type": "markdown",
   "id": "6595c438",
   "metadata": {},
   "source": [
    "music21 has a couple of **shortcuts** that are equivalent to *.getElementsByClass*"
   ]
  },
  {
   "cell_type": "code",
   "execution_count": 26,
   "id": "cd557466",
   "metadata": {},
   "outputs": [
    {
     "name": "stdout",
     "output_type": "stream",
     "text": [
      "<music21.note.Note C>\n",
      "<music21.note.Note F#>\n",
      "<music21.note.Note B->\n"
     ]
    }
   ],
   "source": [
    "# .notes is equivalent to .getElementsByClass(['Note', 'Chord'])\n",
    "for thisNote in stream1.notes:\n",
    "    print(thisNote)"
   ]
  },
  {
   "cell_type": "code",
   "execution_count": 27,
   "id": "1c2d4913",
   "metadata": {},
   "outputs": [
    {
     "name": "stdout",
     "output_type": "stream",
     "text": [
      "<music21.note.Note C>\n",
      "<music21.note.Note F#>\n",
      "<music21.note.Note B->\n"
     ]
    }
   ],
   "source": [
    "# .notesAndRests is equivalent to .getElementsByClass(['Note', 'Chord', 'Rest'])\n",
    "for thisNote in stream1.notesAndRests:\n",
    "    print(thisNote)"
   ]
  },
  {
   "cell_type": "code",
   "execution_count": 28,
   "id": "4a501f44",
   "metadata": {},
   "outputs": [
    {
     "data": {
      "text/plain": [
       "[<music21.pitch.Pitch C4>,\n",
       " <music21.pitch.Pitch F#4>,\n",
       " <music21.pitch.Pitch B-2>]"
      ]
     },
     "execution_count": 28,
     "metadata": {},
     "output_type": "execute_result"
    }
   ],
   "source": [
    "listOut = stream1.pitches\n",
    "listOut"
   ]
  },
  {
   "cell_type": "code",
   "execution_count": 29,
   "id": "8b7c84c5",
   "metadata": {},
   "outputs": [
    {
     "name": "stdout",
     "output_type": "stream",
     "text": [
      "{0.0} <music21.note.Note C>\n",
      "{1.0} <music21.note.Note F#>\n",
      "{2.0} <music21.note.Note B->\n"
     ]
    }
   ],
   "source": [
    "# Convert the result of .getElementsByClass to a stream with .stream()\n",
    "sIterator = stream1.getElementsByClass(note.Note)\n",
    "sOut = sIterator.stream()\n",
    "sOut.show('text')"
   ]
  },
  {
   "cell_type": "markdown",
   "id": "5641cce5",
   "metadata": {},
   "source": [
    "## Separating out elements by offset "
   ]
  },
  {
   "cell_type": "code",
   "execution_count": 32,
   "id": "7b6d0731",
   "metadata": {},
   "outputs": [
    {
     "data": {
      "text/plain": [
       "1"
      ]
     },
     "execution_count": 32,
     "metadata": {},
     "output_type": "execute_result"
    }
   ],
   "source": [
    "sOut = stream1.getElementsByOffset(2)\n",
    "len(sOut)"
   ]
  },
  {
   "cell_type": "code",
   "execution_count": 33,
   "id": "0a157798",
   "metadata": {},
   "outputs": [
    {
     "data": {
      "text/plain": [
       "<music21.note.Note B->"
      ]
     },
     "execution_count": 33,
     "metadata": {},
     "output_type": "execute_result"
    }
   ],
   "source": [
    "sOut[0]"
   ]
  },
  {
   "cell_type": "code",
   "execution_count": 36,
   "id": "1a35e5e7",
   "metadata": {},
   "outputs": [
    {
     "name": "stdout",
     "output_type": "stream",
     "text": [
      "{1.0} <music21.note.Note F#>\n",
      "{2.0} <music21.note.Note B->\n"
     ]
    }
   ],
   "source": [
    "sOut = stream1.getElementsByOffset(1, 2).stream()\n",
    "sOut.show('text')"
   ]
  },
  {
   "cell_type": "markdown",
   "id": "f49207af",
   "metadata": {},
   "source": [
    "## More Stream Features "
   ]
  },
  {
   "cell_type": "markdown",
   "id": "07bc7ad7",
   "metadata": {},
   "source": [
    " **ambitus** - the range from the lowest note to the highest note"
   ]
  },
  {
   "cell_type": "code",
   "execution_count": 38,
   "id": "b018257a",
   "metadata": {},
   "outputs": [
    {
     "data": {
      "text/plain": [
       "<music21.interval.Interval A12>"
      ]
     },
     "execution_count": 38,
     "metadata": {},
     "output_type": "execute_result"
    }
   ],
   "source": [
    "# From B-flat to the F-sharp above it, is an augmented fifth增五度（跨越8个半音）. \n",
    "# An augmented fifth plus an octave is an augmented twelfth\n",
    "stream1.analyze('ambitus')"
   ]
  },
  {
   "cell_type": "markdown",
   "id": "f7792f13",
   "metadata": {},
   "source": [
    "**offset** - describes their position from the beginning of the stream"
   ]
  },
  {
   "cell_type": "code",
   "execution_count": 39,
   "id": "806d7e2a",
   "metadata": {},
   "outputs": [
    {
     "name": "stdout",
     "output_type": "stream",
     "text": [
      "0.0 C\n",
      "1.0 F#\n",
      "2.0 B-\n"
     ]
    }
   ],
   "source": [
    "for thisNote in stream1:\n",
    "    print(thisNote.offset, thisNote.name)"
   ]
  },
  {
   "cell_type": "code",
   "execution_count": 40,
   "id": "84685970",
   "metadata": {},
   "outputs": [
    {
     "data": {
      "text/plain": [
       "0.0"
      ]
     },
     "execution_count": 40,
     "metadata": {},
     "output_type": "execute_result"
    }
   ],
   "source": [
    "stream1.lowestOffset\n",
    "# returns the minimum of all offsets for all elements on the Stream"
   ]
  },
  {
   "cell_type": "code",
   "execution_count": 41,
   "id": "fb932fd6",
   "metadata": {},
   "outputs": [
    {
     "data": {
      "text/html": [
       "\n",
       "                <div id=\"midiPlayerDiv187\"></div>\n",
       "                <link rel=\"stylesheet\" href=\"//cuthbertLab.github.io/music21j/css/m21.css\"\n",
       "                    type=\"text/css\" />\n",
       "                \n",
       "                <script>\n",
       "                require.config({\n",
       "                    paths: {'music21': '//cuthbertLab.github.io/music21j/src/music21'}\n",
       "                });\n",
       "                require(['music21'], function() {\n",
       "                               mp = new music21.miditools.MidiPlayer();\n",
       "                               mp.addPlayer(\"#midiPlayerDiv187\");\n",
       "                               mp.base64Load(\"data:audio/midi;base64,TVRoZAAAAAYAAQACBABNVHJrAAAAFAD/UQMHoSAA/1gEBAIYCIgA/y8ATVRyawAAACkA/wMAAOAAQIgAkDxaiACQQlqIAIA8AACAQgAAkC5aiACALgCIAP8vAA==\");\n",
       "                        });\n",
       "                </script>"
      ],
      "text/plain": [
       "<IPython.core.display.HTML object>"
      ]
     },
     "metadata": {},
     "output_type": "display_data"
    }
   ],
   "source": [
    "stream1.show('midi')"
   ]
  },
  {
   "cell_type": "code",
   "execution_count": 42,
   "id": "ffc69d3e",
   "metadata": {},
   "outputs": [
    {
     "data": {
      "text/plain": [
       "<music21.stream.Stream 0x1a1112d9cd0>"
      ]
     },
     "execution_count": 42,
     "metadata": {},
     "output_type": "execute_result"
    }
   ],
   "source": [
    "stream1"
   ]
  },
  {
   "cell_type": "markdown",
   "id": "66c74739",
   "metadata": {},
   "source": [
    " change the *.id* of a Stream"
   ]
  },
  {
   "cell_type": "code",
   "execution_count": 43,
   "id": "4a6e96dd",
   "metadata": {},
   "outputs": [
    {
     "data": {
      "text/plain": [
       "<music21.stream.Stream some_notes>"
      ]
     },
     "execution_count": 43,
     "metadata": {},
     "output_type": "execute_result"
    }
   ],
   "source": [
    "stream1.id = 'some_notes'\n",
    "stream1"
   ]
  },
  {
   "cell_type": "markdown",
   "id": "c4576869",
   "metadata": {},
   "source": [
    "**Duration** attributes"
   ]
  },
  {
   "cell_type": "code",
   "execution_count": 45,
   "id": "a0edfc75",
   "metadata": {},
   "outputs": [
    {
     "data": {
      "text/plain": [
       "<music21.duration.Duration 3.0>"
      ]
     },
     "execution_count": 45,
     "metadata": {},
     "output_type": "execute_result"
    }
   ],
   "source": [
    "stream1.duration"
   ]
  },
  {
   "cell_type": "code",
   "execution_count": 46,
   "id": "8a25de28",
   "metadata": {},
   "outputs": [
    {
     "data": {
      "text/plain": [
       "3.0"
      ]
     },
     "execution_count": 46,
     "metadata": {},
     "output_type": "execute_result"
    }
   ],
   "source": [
    "stream1.duration.quarterLength"
   ]
  },
  {
   "cell_type": "code",
   "execution_count": 47,
   "id": "126cbb1e",
   "metadata": {},
   "outputs": [
    {
     "data": {
      "text/plain": [
       "3.0"
      ]
     },
     "execution_count": 47,
     "metadata": {},
     "output_type": "execute_result"
    }
   ],
   "source": [
    "stream1.highestTime\n",
    "# the time at which the latest element in the end\n",
    "# the last element of the stream’s .offset plus its .quarterLength"
   ]
  },
  {
   "cell_type": "markdown",
   "id": "be38d505",
   "metadata": {},
   "source": [
    "## Streams within Streams"
   ]
  },
  {
   "cell_type": "code",
   "execution_count": 49,
   "id": "a522cb29",
   "metadata": {},
   "outputs": [
    {
     "name": "stdout",
     "output_type": "stream",
     "text": [
      "{0.0} <music21.note.Note D#>\n"
     ]
    }
   ],
   "source": [
    "biggerStream = stream.Stream()\n",
    "note2 = note.Note(\"D#5\")\n",
    "biggerStream.insert(0, note2)\n",
    "biggerStream.show('text')"
   ]
  },
  {
   "cell_type": "code",
   "execution_count": 50,
   "id": "a5a506bd",
   "metadata": {},
   "outputs": [
    {
     "name": "stdout",
     "output_type": "stream",
     "text": [
      "{0.0} <music21.note.Note D#>\n",
      "{1.0} <music21.stream.Stream some_notes>\n",
      "    {0.0} <music21.note.Note C>\n",
      "    {1.0} <music21.note.Note F#>\n",
      "    {2.0} <music21.note.Note B->\n"
     ]
    }
   ],
   "source": [
    "biggerStream.append(stream1)\n",
    "biggerStream.show('text')"
   ]
  },
  {
   "cell_type": "markdown",
   "id": "6945cf98",
   "metadata": {},
   "source": [
    "each *Music21Object* knows its offset only in relation to its containing *Stream*"
   ]
  },
  {
   "cell_type": "code",
   "execution_count": 51,
   "id": "8166e6ce",
   "metadata": {},
   "outputs": [
    {
     "data": {
      "text/plain": [
       "True"
      ]
     },
     "execution_count": 51,
     "metadata": {},
     "output_type": "execute_result"
    }
   ],
   "source": [
    "note1 in stream1"
   ]
  },
  {
   "cell_type": "code",
   "execution_count": 52,
   "id": "e69481ca",
   "metadata": {},
   "outputs": [
    {
     "data": {
      "text/plain": [
       "False"
      ]
     },
     "execution_count": 52,
     "metadata": {},
     "output_type": "execute_result"
    }
   ],
   "source": [
    "note1 in biggerStream"
   ]
  },
  {
   "cell_type": "markdown",
   "id": "567c4d79",
   "metadata": {},
   "source": [
    "*note1* knows that it is in *stream1* but doesn’t know that it is somewhere inside *biggerStream*"
   ]
  },
  {
   "cell_type": "markdown",
   "id": "b68bec15",
   "metadata": {},
   "source": [
    "in music21, ***Scores*** are made up of ***Streams*** within ***Streams*** within ***Streams***."
   ]
  }
 ],
 "metadata": {
  "kernelspec": {
   "display_name": "music21_doc",
   "language": "python",
   "name": "music21_doc"
  },
  "language_info": {
   "codemirror_mode": {
    "name": "ipython",
    "version": 3
   },
   "file_extension": ".py",
   "mimetype": "text/x-python",
   "name": "python",
   "nbconvert_exporter": "python",
   "pygments_lexer": "ipython3",
   "version": "3.8.16"
  }
 },
 "nbformat": 4,
 "nbformat_minor": 5
}
