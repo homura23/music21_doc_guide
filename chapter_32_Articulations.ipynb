{
 "cells": [
  {
   "cell_type": "markdown",
   "id": "d168923d",
   "metadata": {},
   "source": [
    "# Chapter 32: Articulations"
   ]
  },
  {
   "cell_type": "markdown",
   "id": "64217c37",
   "metadata": {},
   "source": [
    "Articulations are elements attached usually to Notes that specify how the **note should be played**. \n",
    "\n",
    "And also to refer to indications that are specific to **instruments**, such as bowing or fingering information."
   ]
  },
  {
   "cell_type": "code",
   "execution_count": 1,
   "id": "ff18e31d",
   "metadata": {},
   "outputs": [],
   "source": [
    "from music21 import *"
   ]
  },
  {
   "cell_type": "code",
   "execution_count": 2,
   "id": "a747eb03",
   "metadata": {},
   "outputs": [
    {
     "data": {
      "text/plain": [
       "<music21.articulations.Articulation>"
      ]
     },
     "execution_count": 2,
     "metadata": {},
     "output_type": "execute_result"
    }
   ],
   "source": [
    "art = articulations.Articulation()\n",
    "art"
   ]
  },
  {
   "cell_type": "markdown",
   "id": "2d5059a5",
   "metadata": {},
   "source": [
    "All articulations have a *.placement* attribute which can be ‘above’, ‘below’, or None"
   ]
  },
  {
   "cell_type": "code",
   "execution_count": 3,
   "id": "fcc441b6",
   "metadata": {},
   "outputs": [
    {
     "name": "stdout",
     "output_type": "stream",
     "text": [
      "None\n"
     ]
    }
   ],
   "source": [
    "print(art.placement)"
   ]
  },
  {
   "cell_type": "code",
   "execution_count": 4,
   "id": "558a00af",
   "metadata": {},
   "outputs": [
    {
     "data": {
      "text/plain": [
       "'above'"
      ]
     },
     "execution_count": 4,
     "metadata": {},
     "output_type": "execute_result"
    }
   ],
   "source": [
    "art.placement = 'above'\n",
    "art.placement"
   ]
  },
  {
   "cell_type": "markdown",
   "id": "e729fc42",
   "metadata": {},
   "source": [
    "All articulations have additional *.style* information"
   ]
  },
  {
   "cell_type": "code",
   "execution_count": 6,
   "id": "2e52f907",
   "metadata": {},
   "outputs": [],
   "source": [
    "# we will talk about it later\n",
    "art.style.absoluteX = 20"
   ]
  },
  {
   "cell_type": "markdown",
   "id": "f6d8c6e8",
   "metadata": {},
   "source": [
    "you will want the specific articulation such as ***Staccato(断奏), Accent(重音)***, etc."
   ]
  },
  {
   "cell_type": "code",
   "execution_count": 7,
   "id": "130f7905",
   "metadata": {},
   "outputs": [],
   "source": [
    "stac = articulations.Staccato()\n",
    "acc = articulations.Accent()"
   ]
  },
  {
   "cell_type": "markdown",
   "id": "51625520",
   "metadata": {},
   "source": [
    "To make an articulation display, attach it to the notes"
   ]
  },
  {
   "cell_type": "code",
   "execution_count": 8,
   "id": "a39ab752",
   "metadata": {},
   "outputs": [
    {
     "data": {
      "text/plain": [
       "[]"
      ]
     },
     "execution_count": 8,
     "metadata": {},
     "output_type": "execute_result"
    }
   ],
   "source": [
    "n1 = note.Note('A4')\n",
    "n1.articulations"
   ]
  },
  {
   "cell_type": "code",
   "execution_count": 9,
   "id": "2b2a0352",
   "metadata": {},
   "outputs": [
    {
     "data": {
      "text/plain": [
       "[<music21.articulations.Staccato>]"
      ]
     },
     "execution_count": 9,
     "metadata": {},
     "output_type": "execute_result"
    }
   ],
   "source": [
    "n1.articulations.append(stac)\n",
    "n1.articulations"
   ]
  },
  {
   "cell_type": "code",
   "execution_count": 10,
   "id": "1bc18a96",
   "metadata": {},
   "outputs": [],
   "source": [
    "n1.show('xml')"
   ]
  },
  {
   "attachments": {
    "image.png": {
     "image/png": "[encoded data removed]"
    }
   },
   "cell_type": "markdown",
   "id": "0df58fca",
   "metadata": {},
   "source": [
    "![image.png](attachment:image.png)"
   ]
  },
  {
   "cell_type": "markdown",
   "id": "814c706f",
   "metadata": {},
   "source": [
    "A note may have multiple articulations:"
   ]
  },
  {
   "cell_type": "code",
   "execution_count": 11,
   "id": "fb40e893",
   "metadata": {},
   "outputs": [],
   "source": [
    "n1.articulations.append(acc)\n",
    "n1.show('xml')"
   ]
  },
  {
   "attachments": {
    "image.png": {
     "image/png": "[encoded data removed]"
    }
   },
   "cell_type": "markdown",
   "id": "f782c90f",
   "metadata": {},
   "source": [
    "![image.png](attachment:image.png)"
   ]
  },
  {
   "cell_type": "markdown",
   "id": "1853714c",
   "metadata": {},
   "source": [
    "Some articulations affect the length of the note:"
   ]
  },
  {
   "cell_type": "code",
   "execution_count": 12,
   "id": "88aeea61",
   "metadata": {},
   "outputs": [
    {
     "data": {
      "text/plain": [
       "0.7"
      ]
     },
     "execution_count": 12,
     "metadata": {},
     "output_type": "execute_result"
    }
   ],
   "source": [
    "stac.lengthShift"
   ]
  },
  {
   "cell_type": "markdown",
   "id": "53aacda0",
   "metadata": {},
   "source": [
    "***StrongAccent*** can point up or down"
   ]
  },
  {
   "cell_type": "code",
   "execution_count": 13,
   "id": "2a7840ff",
   "metadata": {},
   "outputs": [
    {
     "data": {
      "text/plain": [
       "'up'"
      ]
     },
     "execution_count": 13,
     "metadata": {},
     "output_type": "execute_result"
    }
   ],
   "source": [
    "sacc = articulations.StrongAccent()\n",
    "sacc.pointDirection"
   ]
  },
  {
   "cell_type": "code",
   "execution_count": 14,
   "id": "6984c80f",
   "metadata": {},
   "outputs": [],
   "source": [
    "sacc.placement = 'above'\n",
    "\n",
    "n2 = note.Note('A4')\n",
    "n2.articulations.append(sacc)\n",
    "\n",
    "sacc2 = articulations.StrongAccent()\n",
    "sacc2.pointDirection = 'down'\n",
    "sacc2.placement = 'below'\n",
    "\n",
    "n3 = note.Note('A4')\n",
    "n3.articulations.append(sacc2)\n",
    "\n",
    "m = stream.Measure()\n",
    "m.append([n2, n3])\n",
    "m.show('xml')"
   ]
  },
  {
   "attachments": {
    "image.png": {
     "image/png": "[encoded data removed]"
    }
   },
   "cell_type": "markdown",
   "id": "a0d1ff2a",
   "metadata": {},
   "source": [
    "![image.png](attachment:image.png)"
   ]
  },
  {
   "cell_type": "markdown",
   "id": "0f5f9b4c",
   "metadata": {},
   "source": [
    "When a note is **split**, its articulations go either on the first note of the split, the last, or all the notes"
   ]
  },
  {
   "cell_type": "code",
   "execution_count": 15,
   "id": "8c2c2473",
   "metadata": {},
   "outputs": [],
   "source": [
    "n12, n22 = n1.splitAtQuarterLength(0.5)\n",
    "m2 = stream.Measure()\n",
    "m2.append([n12, n22])\n",
    "m2.show('xml')"
   ]
  },
  {
   "attachments": {
    "image.png": {
     "image/png": "[encoded data removed]"
    }
   },
   "cell_type": "markdown",
   "id": "dce49155",
   "metadata": {},
   "source": [
    "![image.png](attachment:image.png)"
   ]
  },
  {
   "cell_type": "markdown",
   "id": "df35d797",
   "metadata": {},
   "source": [
    "**Breath marks(呼吸标记)** can have a *.symbol* of ‘comma’ or ‘tick’:"
   ]
  },
  {
   "cell_type": "code",
   "execution_count": 16,
   "id": "bd42fdd4",
   "metadata": {},
   "outputs": [],
   "source": [
    "bm2 = articulations.BreathMark()\n",
    "bm2.symbol = 'comma'\n",
    "n2.articulations.append(bm2)\n",
    "\n",
    "bm3 = articulations.BreathMark()\n",
    "bm3.symbol = 'tick'\n",
    "n3.articulations.append(bm3)\n",
    "\n",
    "m.show('xml')"
   ]
  },
  {
   "attachments": {
    "image.png": {
     "image/png": "[encoded data removed]"
    }
   },
   "cell_type": "markdown",
   "id": "418ea8b7",
   "metadata": {},
   "source": [
    "![image.png](attachment:image.png)"
   ]
  },
  {
   "cell_type": "markdown",
   "id": "46754b6b",
   "metadata": {},
   "source": [
    "A **Fingering** is something that MusicXML considers a TechnicalIndication"
   ]
  },
  {
   "cell_type": "code",
   "execution_count": 17,
   "id": "8ec6752c",
   "metadata": {},
   "outputs": [],
   "source": [
    "f = articulations.Fingering(5)"
   ]
  },
  {
   "cell_type": "code",
   "execution_count": 18,
   "id": "529749ca",
   "metadata": {},
   "outputs": [
    {
     "data": {
      "text/plain": [
       "5"
      ]
     },
     "execution_count": 18,
     "metadata": {},
     "output_type": "execute_result"
    }
   ],
   "source": [
    "f.fingerNumber"
   ]
  },
  {
   "cell_type": "code",
   "execution_count": 19,
   "id": "4ed8ffca",
   "metadata": {},
   "outputs": [],
   "source": [
    "n3.articulations = []\n",
    "n3.articulations.append(f)\n",
    "m.show('xml')"
   ]
  },
  {
   "attachments": {
    "image.png": {
     "image/png": "[encoded data removed]"
    }
   },
   "cell_type": "markdown",
   "id": "8f9713a2",
   "metadata": {},
   "source": [
    "![image.png](attachment:image.png)"
   ]
  }
 ],
 "metadata": {
  "kernelspec": {
   "display_name": "music21_doc",
   "language": "python",
   "name": "music21_doc"
  },
  "language_info": {
   "codemirror_mode": {
    "name": "ipython",
    "version": 3
   },
   "file_extension": ".py",
   "mimetype": "text/x-python",
   "name": "python",
   "nbconvert_exporter": "python",
   "pygments_lexer": "ipython3",
   "version": "3.8.16"
  }
 },
 "nbformat": 4,
 "nbformat_minor": 5
}
