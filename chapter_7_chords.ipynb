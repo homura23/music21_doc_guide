{
 "cells": [
  {
   "cell_type": "markdown",
   "id": "c9c594f2",
   "metadata": {},
   "source": [
    "# Chapter 7: Chords"
   ]
  },
  {
   "cell_type": "code",
   "execution_count": 1,
   "id": "bd03ba25",
   "metadata": {},
   "outputs": [],
   "source": [
    "from music21 import*"
   ]
  },
  {
   "cell_type": "code",
   "execution_count": 3,
   "id": "8efa176e",
   "metadata": {},
   "outputs": [
    {
     "data": {
      "text/plain": [
       "<music21.chord.Chord C4 G4 E-5>"
      ]
     },
     "execution_count": 3,
     "metadata": {},
     "output_type": "execute_result"
    }
   ],
   "source": [
    "cMinor = chord.Chord([\"C4\",\"G4\",\"E-5\"])\n",
    "cMinor"
   ]
  },
  {
   "cell_type": "code",
   "execution_count": 4,
   "id": "69abbb5f",
   "metadata": {},
   "outputs": [
    {
     "data": {
      "text/plain": [
       "2.0"
      ]
     },
     "execution_count": 4,
     "metadata": {},
     "output_type": "execute_result"
    }
   ],
   "source": [
    "cMinor.duration.type = 'half'\n",
    "cMinor.quarterLength"
   ]
  },
  {
   "cell_type": "markdown",
   "id": "0614ea6e",
   "metadata": {},
   "source": [
    "a *.pitches* attribute which returns a Tuple of pitches in the Chord"
   ]
  },
  {
   "cell_type": "code",
   "execution_count": 5,
   "id": "a2b72f85",
   "metadata": {},
   "outputs": [
    {
     "data": {
      "text/plain": [
       "(<music21.pitch.Pitch C4>, <music21.pitch.Pitch G4>, <music21.pitch.Pitch E-5>)"
      ]
     },
     "execution_count": 5,
     "metadata": {},
     "output_type": "execute_result"
    }
   ],
   "source": [
    "cMinor.pitches"
   ]
  },
  {
   "cell_type": "code",
   "execution_count": 6,
   "id": "b5de87a2",
   "metadata": {},
   "outputs": [
    {
     "data": {
      "text/plain": [
       "False"
      ]
     },
     "execution_count": 6,
     "metadata": {},
     "output_type": "execute_result"
    }
   ],
   "source": [
    "cMinor.isMajorTriad()"
   ]
  },
  {
   "cell_type": "code",
   "execution_count": 7,
   "id": "351601e0",
   "metadata": {},
   "outputs": [
    {
     "data": {
      "text/plain": [
       "True"
      ]
     },
     "execution_count": 7,
     "metadata": {},
     "output_type": "execute_result"
    }
   ],
   "source": [
    "cMinor.isMinorTriad()"
   ]
  },
  {
   "cell_type": "markdown",
   "id": "c9c69dd7",
   "metadata": {},
   "source": [
    "**inversion(转位)**：rearrangement of the top-to-bottom elements in an interval, a chord, a melody, or a group of contrapuntal lines of music"
   ]
  },
  {
   "cell_type": "code",
   "execution_count": 8,
   "id": "834c9967",
   "metadata": {},
   "outputs": [
    {
     "data": {
      "text/plain": [
       "0"
      ]
     },
     "execution_count": 8,
     "metadata": {},
     "output_type": "execute_result"
    }
   ],
   "source": [
    "cMinor.inversion()"
   ]
  },
  {
   "cell_type": "code",
   "execution_count": 9,
   "id": "262e5527",
   "metadata": {},
   "outputs": [
    {
     "data": {
      "text/plain": [
       "1"
      ]
     },
     "execution_count": 9,
     "metadata": {},
     "output_type": "execute_result"
    }
   ],
   "source": [
    "cMajor = chord.Chord([\"E3\",\"C4\",\"G4\"])\n",
    "cMajor.inversion()"
   ]
  },
  {
   "cell_type": "markdown",
   "id": "faba1ee9",
   "metadata": {},
   "source": [
    "**root(根音)** gives the chord its name and establishes the relationship between all other notes in the chord"
   ]
  },
  {
   "cell_type": "code",
   "execution_count": 10,
   "id": "f448b179",
   "metadata": {},
   "outputs": [
    {
     "data": {
      "text/plain": [
       "<music21.pitch.Pitch C4>"
      ]
     },
     "execution_count": 10,
     "metadata": {},
     "output_type": "execute_result"
    }
   ],
   "source": [
    "cMajor.root()"
   ]
  },
  {
   "cell_type": "markdown",
   "id": "3a2065f2",
   "metadata": {},
   "source": [
    "the **bass** note of a chord or sonority is the lowest note played or notated"
   ]
  },
  {
   "cell_type": "code",
   "execution_count": 11,
   "id": "c339fe7f",
   "metadata": {},
   "outputs": [
    {
     "data": {
      "text/plain": [
       "<music21.pitch.Pitch E3>"
      ]
     },
     "execution_count": 11,
     "metadata": {},
     "output_type": "execute_result"
    }
   ],
   "source": [
    "cMajor.bass()"
   ]
  },
  {
   "cell_type": "code",
   "execution_count": 14,
   "id": "c18fea70",
   "metadata": {},
   "outputs": [
    {
     "data": {
      "text/plain": [
       "<music21.pitch.Pitch E3>"
      ]
     },
     "execution_count": 14,
     "metadata": {},
     "output_type": "execute_result"
    }
   ],
   "source": [
    "cMajor.third\n",
    "# the third factor(三音) of a chord is the note or pitch two scale degrees above the root or tonal center"
   ]
  },
  {
   "cell_type": "code",
   "execution_count": 13,
   "id": "c5733550",
   "metadata": {},
   "outputs": [
    {
     "data": {
      "text/plain": [
       "<music21.pitch.Pitch G4>"
      ]
     },
     "execution_count": 13,
     "metadata": {},
     "output_type": "execute_result"
    }
   ],
   "source": [
    "cMajor.fifth\n",
    "# the fifth factor(五音) of a chord is the note or pitch that is the fifth scale degree, counting the root or tonal center"
   ]
  },
  {
   "cell_type": "markdown",
   "id": "bdb4fb41",
   "metadata": {},
   "source": [
    "**append** or **remove** notes from a chord"
   ]
  },
  {
   "cell_type": "code",
   "execution_count": 15,
   "id": "51f3c2aa",
   "metadata": {},
   "outputs": [
    {
     "data": {
      "text/plain": [
       "<music21.chord.Chord D4 F#4 A5>"
      ]
     },
     "execution_count": 15,
     "metadata": {},
     "output_type": "execute_result"
    }
   ],
   "source": [
    "dMaj = chord.Chord('D4 F#4')\n",
    "dMaj.add('A5')\n",
    "dMaj"
   ]
  },
  {
   "cell_type": "code",
   "execution_count": 16,
   "id": "0f85bc0b",
   "metadata": {},
   "outputs": [
    {
     "data": {
      "text/plain": [
       "<music21.chord.Chord F#4 A5>"
      ]
     },
     "execution_count": 16,
     "metadata": {},
     "output_type": "execute_result"
    }
   ],
   "source": [
    "dMaj.remove('D4')\n",
    "dMaj"
   ]
  },
  {
   "cell_type": "code",
   "execution_count": 17,
   "id": "69479088",
   "metadata": {},
   "outputs": [
    {
     "data": {
      "text/plain": [
       "<music21.chord.Chord D3 F#4 F#5 A5>"
      ]
     },
     "execution_count": 17,
     "metadata": {},
     "output_type": "execute_result"
    }
   ],
   "source": [
    "dMaj.add(pitch.Pitch('D3'))\n",
    "dMaj.add(note.Note('F#5'))\n",
    "dMaj"
   ]
  },
  {
   "cell_type": "markdown",
   "id": "1e2d421b",
   "metadata": {},
   "source": [
    "## Displaying Chords"
   ]
  },
  {
   "cell_type": "code",
   "execution_count": 18,
   "id": "323c9577",
   "metadata": {},
   "outputs": [],
   "source": [
    "cMinor.show('musicxml')"
   ]
  },
  {
   "attachments": {
    "image.png": {
     "image/png": "[encoded data removed]"
    }
   },
   "cell_type": "markdown",
   "id": "52dec8f7",
   "metadata": {},
   "source": [
    "![image.png](attachment:image.png)"
   ]
  },
  {
   "cell_type": "code",
   "execution_count": 19,
   "id": "fa552535",
   "metadata": {},
   "outputs": [],
   "source": [
    "cMajor.show('musicxml')"
   ]
  },
  {
   "attachments": {
    "image.png": {
     "image/png": "[encoded data removed]"
    }
   },
   "cell_type": "markdown",
   "id": "45c645ad",
   "metadata": {},
   "source": [
    "![image.png](attachment:image.png)"
   ]
  },
  {
   "cell_type": "markdown",
   "id": "1242aea1",
   "metadata": {},
   "source": [
    "A chord is in close harmony (also called **close position** or close structure) if its notes are arranged within a narrow range"
   ]
  },
  {
   "cell_type": "code",
   "execution_count": 20,
   "id": "ae5af175",
   "metadata": {},
   "outputs": [],
   "source": [
    "cClosed = cMinor.closedPosition()\n",
    "# cMinor itself is unchanged\n",
    "cClosed.show('musicxml')"
   ]
  },
  {
   "attachments": {
    "image.png": {
     "image/png": "[encoded data removed]"
    }
   },
   "cell_type": "markdown",
   "id": "2c59964c",
   "metadata": {},
   "source": [
    "![image.png](attachment:image.png)"
   ]
  },
  {
   "cell_type": "markdown",
   "id": "6079681f",
   "metadata": {},
   "source": [
    "If change the Chord object itself, we call ***.closedPosition(inPlace=True)***"
   ]
  },
  {
   "cell_type": "code",
   "execution_count": 22,
   "id": "df9ca290",
   "metadata": {},
   "outputs": [],
   "source": [
    "cMajor.closedPosition(inPlace=True)\n",
    "cMajor.show('musicxml')"
   ]
  },
  {
   "attachments": {
    "image.png": {
     "image/png": "[encoded data removed]"
    }
   },
   "cell_type": "markdown",
   "id": "097e54a5",
   "metadata": {},
   "source": [
    "![image.png](attachment:image.png)"
   ]
  },
  {
   "cell_type": "markdown",
   "id": "ff741af8",
   "metadata": {},
   "source": [
    "get the **common name** of each of these Chords"
   ]
  },
  {
   "cell_type": "code",
   "execution_count": 23,
   "id": "a08172a5",
   "metadata": {},
   "outputs": [
    {
     "name": "stdout",
     "output_type": "stream",
     "text": [
      "minor triad\n"
     ]
    }
   ],
   "source": [
    "cn1 = cMinor.commonName\n",
    "print(cn1)"
   ]
  },
  {
   "cell_type": "code",
   "execution_count": 24,
   "id": "dc1f07d9",
   "metadata": {},
   "outputs": [
    {
     "name": "stdout",
     "output_type": "stream",
     "text": [
      "major triad\n"
     ]
    }
   ],
   "source": [
    "print(cMajor.commonName)"
   ]
  },
  {
   "cell_type": "markdown",
   "id": "7c69f86f",
   "metadata": {},
   "source": [
    "## More ways of creating chords; Chords and Streams|"
   ]
  },
  {
   "cell_type": "code",
   "execution_count": 26,
   "id": "3645336e",
   "metadata": {},
   "outputs": [],
   "source": [
    "d = note.Note('D4')\n",
    "fSharp = note.Note('F#4')\n",
    "a = note.Note('A5')\n",
    "dMajor = chord.Chord([d, fSharp, a])\n",
    "\n",
    "dMajor.show('musicxml')"
   ]
  },
  {
   "attachments": {
    "image.png": {
     "image/png": "[encoded data removed]"
    }
   },
   "cell_type": "markdown",
   "id": "e39a8406",
   "metadata": {},
   "source": [
    "![image.png](attachment:image.png)"
   ]
  },
  {
   "cell_type": "code",
   "execution_count": 27,
   "id": "9b160ab7",
   "metadata": {},
   "outputs": [],
   "source": [
    "e7 = chord.Chord(\"E4 G#4 B4 D5\")\n",
    "# we can pass a string with note names separated by spaces"
   ]
  },
  {
   "cell_type": "code",
   "execution_count": 28,
   "id": "b8956a38",
   "metadata": {},
   "outputs": [
    {
     "data": {
      "text/plain": [
       "'Chord {E in octave 4 | G-sharp in octave 4 | B in octave 4 | D in octave 5} Quarter'"
      ]
     },
     "execution_count": 28,
     "metadata": {},
     "output_type": "execute_result"
    }
   ],
   "source": [
    "e7.fullName"
   ]
  },
  {
   "cell_type": "code",
   "execution_count": 29,
   "id": "b5405ccb",
   "metadata": {},
   "outputs": [
    {
     "data": {
      "text/plain": [
       "'E-dominant seventh chord'"
      ]
     },
     "execution_count": 29,
     "metadata": {},
     "output_type": "execute_result"
    }
   ],
   "source": [
    "e7.pitchedCommonName"
   ]
  },
  {
   "cell_type": "markdown",
   "id": "93e867ea",
   "metadata": {},
   "source": [
    "Like *Note* objects, we can put *Chord* objects inside a **Stream**"
   ]
  },
  {
   "cell_type": "code",
   "execution_count": 30,
   "id": "f01e403a",
   "metadata": {},
   "outputs": [],
   "source": [
    "stream1 = stream.Stream()\n",
    "stream1.append(cMinor)\n",
    "stream1.append(cMajor)\n",
    "# this is a close position of cMajor chord\n",
    "stream1.append(dMajor)\n",
    "stream1.show('musicxml')"
   ]
  },
  {
   "attachments": {
    "image.png": {
     "image/png": "[encoded data removed]"
    }
   },
   "cell_type": "markdown",
   "id": "7c9d1a72",
   "metadata": {},
   "source": [
    "![image.png](attachment:image.png)"
   ]
  },
  {
   "cell_type": "code",
   "execution_count": 31,
   "id": "4c6bb024",
   "metadata": {},
   "outputs": [],
   "source": [
    "rest1 = note.Rest()\n",
    "rest1.quarterLength = 0.5\n",
    "noteASharp = note.Note('A#5')\n",
    "noteASharp.quarterLength = 1.5\n",
    "\n",
    "stream2 = stream.Stream()\n",
    "stream2.append(cMinor)\n",
    "stream2.append(rest1)\n",
    "stream2.append(noteASharp)\n",
    "stream2.show('musicxml')"
   ]
  },
  {
   "attachments": {
    "image.png": {
     "image/png": "[encoded data removed]"
    }
   },
   "cell_type": "markdown",
   "id": "4b29cb34",
   "metadata": {},
   "source": [
    "![image.png](attachment:image.png)"
   ]
  }
 ],
 "metadata": {
  "kernelspec": {
   "display_name": "music21_doc",
   "language": "python",
   "name": "music21_doc"
  },
  "language_info": {
   "codemirror_mode": {
    "name": "ipython",
    "version": 3
   },
   "file_extension": ".py",
   "mimetype": "text/x-python",
   "name": "python",
   "nbconvert_exporter": "python",
   "pygments_lexer": "ipython3",
   "version": "3.8.16"
  }
 },
 "nbformat": 4,
 "nbformat_minor": 5
}
