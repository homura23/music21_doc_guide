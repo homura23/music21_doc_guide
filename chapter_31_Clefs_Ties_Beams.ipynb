{
 "cells": [
  {
   "cell_type": "markdown",
   "id": "ce016d9c",
   "metadata": {},
   "source": [
    "# Chapter 31: Clefs, Ties, and Beams"
   ]
  },
  {
   "cell_type": "markdown",
   "id": "415f219f",
   "metadata": {},
   "source": [
    "Throughout the first thirty chapters, we have repeatedly been using fundamental music notation principles, such as clefs, ties, and beams.\n",
    "\n",
    "Now we talk about them directly."
   ]
  },
  {
   "cell_type": "code",
   "execution_count": 1,
   "id": "142f5dc8",
   "metadata": {},
   "outputs": [],
   "source": [
    "from music21 import *"
   ]
  },
  {
   "cell_type": "markdown",
   "id": "d13d83f2",
   "metadata": {},
   "source": [
    "Let’s first look at **clefs**."
   ]
  },
  {
   "cell_type": "code",
   "execution_count": 3,
   "id": "643623bb",
   "metadata": {},
   "outputs": [],
   "source": [
    "alto = clef.AltoClef()\n",
    "m = stream.Measure([alto])\n",
    "m.show('xml')"
   ]
  },
  {
   "attachments": {
    "image.png": {
     "image/png": "[encoded data removed]"
    }
   },
   "cell_type": "markdown",
   "id": "adba76f3",
   "metadata": {},
   "source": [
    "![image.png](attachment:image.png)"
   ]
  },
  {
   "cell_type": "code",
   "execution_count": 4,
   "id": "32767898",
   "metadata": {},
   "outputs": [
    {
     "data": {
      "text/plain": [
       "0.0"
      ]
     },
     "execution_count": 4,
     "metadata": {},
     "output_type": "execute_result"
    }
   ],
   "source": [
    "# they generally have a Duration of zero\n",
    "alto.offset"
   ]
  },
  {
   "cell_type": "code",
   "execution_count": 5,
   "id": "04a97ba5",
   "metadata": {},
   "outputs": [
    {
     "data": {
      "text/plain": [
       "<music21.duration.Duration 0.0>"
      ]
     },
     "execution_count": 5,
     "metadata": {},
     "output_type": "execute_result"
    }
   ],
   "source": [
    "alto.duration"
   ]
  },
  {
   "cell_type": "markdown",
   "id": "f12f66f8",
   "metadata": {},
   "source": [
    "Most of the clefs in common use are *PitchClefs* and they know what line they are on"
   ]
  },
  {
   "cell_type": "code",
   "execution_count": 6,
   "id": "4141a0c2",
   "metadata": {},
   "outputs": [
    {
     "data": {
      "text/plain": [
       "3"
      ]
     },
     "execution_count": 6,
     "metadata": {},
     "output_type": "execute_result"
    }
   ],
   "source": [
    "alto.line"
   ]
  },
  {
   "cell_type": "code",
   "execution_count": 7,
   "id": "0c55efd2",
   "metadata": {},
   "outputs": [],
   "source": [
    "tenor = clef.TenorClef()\n",
    "tenor.show('xml')"
   ]
  },
  {
   "attachments": {
    "image.png": {
     "image/png": "[encoded data removed]"
    }
   },
   "cell_type": "markdown",
   "id": "f0aa8f25",
   "metadata": {},
   "source": [
    "![image.png](attachment:image.png)"
   ]
  },
  {
   "cell_type": "code",
   "execution_count": 8,
   "id": "c225e81a",
   "metadata": {},
   "outputs": [
    {
     "data": {
      "text/plain": [
       "4"
      ]
     },
     "execution_count": 8,
     "metadata": {},
     "output_type": "execute_result"
    }
   ],
   "source": [
    "tenor.line"
   ]
  },
  {
   "cell_type": "markdown",
   "id": "ae946b94",
   "metadata": {},
   "source": [
    "In this case, the line refers to the pitch that it’s “sign” can be found on."
   ]
  },
  {
   "cell_type": "code",
   "execution_count": 9,
   "id": "affb6e1e",
   "metadata": {},
   "outputs": [
    {
     "data": {
      "text/plain": [
       "'C'"
      ]
     },
     "execution_count": 9,
     "metadata": {},
     "output_type": "execute_result"
    }
   ],
   "source": [
    "tenor.sign"
   ]
  },
  {
   "cell_type": "code",
   "execution_count": 10,
   "id": "fadb6857",
   "metadata": {},
   "outputs": [
    {
     "data": {
      "text/plain": [
       "'G'"
      ]
     },
     "execution_count": 10,
     "metadata": {},
     "output_type": "execute_result"
    }
   ],
   "source": [
    "treble = clef.TrebleClef()\n",
    "treble.sign"
   ]
  },
  {
   "cell_type": "markdown",
   "id": "e6ebcfef",
   "metadata": {},
   "source": [
    "you can also create your own clef"
   ]
  },
  {
   "cell_type": "code",
   "execution_count": 11,
   "id": "3b90674b",
   "metadata": {},
   "outputs": [],
   "source": [
    "pc = clef.PitchClef()\n",
    "pc.sign = 'F'\n",
    "pc.line = 4\n",
    "pc.octaveChange = -1\n",
    "pc.show('xml')"
   ]
  },
  {
   "attachments": {
    "image.png": {
     "image/png": "[encoded data removed]"
    }
   },
   "cell_type": "markdown",
   "id": "fb893818",
   "metadata": {},
   "source": [
    "![image.png](attachment:image.png)"
   ]
  },
  {
   "cell_type": "markdown",
   "id": "b07ab73b",
   "metadata": {},
   "source": [
    "And you can get a clef from a string by using the ***clefFromString()*** function"
   ]
  },
  {
   "cell_type": "code",
   "execution_count": 12,
   "id": "b200035f",
   "metadata": {},
   "outputs": [
    {
     "data": {
      "text/plain": [
       "<music21.clef.TrebleClef>"
      ]
     },
     "execution_count": 12,
     "metadata": {},
     "output_type": "execute_result"
    }
   ],
   "source": [
    "clef.clefFromString('treble')"
   ]
  },
  {
   "cell_type": "code",
   "execution_count": 13,
   "id": "dbfd5acd",
   "metadata": {},
   "outputs": [],
   "source": [
    "# Or from a sign and a number of the line\n",
    "c = clef.clefFromString('C4')\n",
    "c.show('xml')"
   ]
  },
  {
   "attachments": {
    "image.png": {
     "image/png": "[encoded data removed]"
    }
   },
   "cell_type": "markdown",
   "id": "c4aeac20",
   "metadata": {},
   "source": [
    "![image.png](attachment:image.png)"
   ]
  },
  {
   "cell_type": "markdown",
   "id": "99594b0d",
   "metadata": {},
   "source": [
    "## Automatic Clef Generation"
   ]
  },
  {
   "cell_type": "markdown",
   "id": "cf3ecc44",
   "metadata": {},
   "source": [
    "Look at this quick Stream"
   ]
  },
  {
   "cell_type": "code",
   "execution_count": 17,
   "id": "db316405",
   "metadata": {},
   "outputs": [],
   "source": [
    "n = note.Note('B2')\n",
    "s = stream.Stream([n])\n",
    "s.show('xml')"
   ]
  },
  {
   "attachments": {
    "image.png": {
     "image/png": "[encoded data removed]"
    }
   },
   "cell_type": "markdown",
   "id": "75ee09a1",
   "metadata": {},
   "source": [
    "![image.png](attachment:image.png)"
   ]
  },
  {
   "cell_type": "markdown",
   "id": "fec82d37",
   "metadata": {},
   "source": [
    "How did *music21* know to make the clef be bass clef? \n",
    "\n",
    "there’s a function called ***bestClef()*** which can return the best clef given the contents of the stream:"
   ]
  },
  {
   "cell_type": "code",
   "execution_count": 18,
   "id": "de2f633b",
   "metadata": {},
   "outputs": [
    {
     "data": {
      "text/plain": [
       "<music21.clef.BassClef>"
      ]
     },
     "execution_count": 18,
     "metadata": {},
     "output_type": "execute_result"
    }
   ],
   "source": [
    "clef.bestClef(s)"
   ]
  },
  {
   "cell_type": "code",
   "execution_count": 19,
   "id": "6f270705",
   "metadata": {},
   "outputs": [
    {
     "data": {
      "text/plain": [
       "<music21.clef.TrebleClef>"
      ]
     },
     "execution_count": 19,
     "metadata": {},
     "output_type": "execute_result"
    }
   ],
   "source": [
    "s.append(note.Note('C6'))\n",
    "clef.bestClef(s)"
   ]
  },
  {
   "cell_type": "code",
   "execution_count": 20,
   "id": "ce619517",
   "metadata": {},
   "outputs": [],
   "source": [
    "s.show('xml')"
   ]
  },
  {
   "attachments": {
    "image.png": {
     "image/png": "[encoded data removed]"
    }
   },
   "cell_type": "markdown",
   "id": "805adf0e",
   "metadata": {},
   "source": [
    "![image.png](attachment:image.png)"
   ]
  },
  {
   "cell_type": "code",
   "execution_count": 21,
   "id": "632a8312",
   "metadata": {},
   "outputs": [
    {
     "data": {
      "text/plain": [
       "<music21.clef.Treble8vbClef>"
      ]
     },
     "execution_count": 21,
     "metadata": {},
     "output_type": "execute_result"
    }
   ],
   "source": [
    "#  \"allowTreble8vb\" if set to True, gives the very useful \"Treble8vb\" clef:\n",
    "n = note.Note('B3')\n",
    "s = stream.Stream([n])\n",
    "clef.bestClef(s, allowTreble8vb=True)"
   ]
  },
  {
   "cell_type": "markdown",
   "id": "fd803b5d",
   "metadata": {},
   "source": [
    "## Ties"
   ]
  },
  {
   "cell_type": "markdown",
   "id": "dc5bfdf4",
   "metadata": {},
   "source": [
    "Ties connect **two pitches at the same pitch** level attached to different notes or chords."
   ]
  },
  {
   "cell_type": "code",
   "execution_count": 22,
   "id": "69bbae10",
   "metadata": {},
   "outputs": [],
   "source": [
    "# Let’s look at the top voice of an Agnus Dei by Palestrina:\n",
    "agnus = corpus.parse('palestrina/Agnus_01')\n",
    "agnusSop = agnus.parts[0]\n",
    "agnusSop.measures(1, 7).show('xml')"
   ]
  },
  {
   "attachments": {
    "image.png": {
     "image/png": "[encoded data removed]"
    }
   },
   "cell_type": "markdown",
   "id": "338c5c41",
   "metadata": {},
   "source": [
    "![image.png](attachment:image.png)"
   ]
  },
  {
   "cell_type": "markdown",
   "id": "7d7fc851",
   "metadata": {},
   "source": [
    "The second note of the first measure is tied, so let’s find it:"
   ]
  },
  {
   "cell_type": "code",
   "execution_count": 23,
   "id": "cd58b90d",
   "metadata": {},
   "outputs": [
    {
     "data": {
      "text/plain": [
       "<music21.note.Note D>"
      ]
     },
     "execution_count": 23,
     "metadata": {},
     "output_type": "execute_result"
    }
   ],
   "source": [
    "n1 = agnusSop.recurse().notes[1]\n",
    "n1"
   ]
  },
  {
   "cell_type": "markdown",
   "id": "17e2e185",
   "metadata": {},
   "source": [
    "let’s look at the *.tie* attribute:"
   ]
  },
  {
   "cell_type": "code",
   "execution_count": 24,
   "id": "a5740452",
   "metadata": {},
   "outputs": [
    {
     "data": {
      "text/plain": [
       "<music21.tie.Tie start>"
      ]
     },
     "execution_count": 24,
     "metadata": {},
     "output_type": "execute_result"
    }
   ],
   "source": [
    "n1.tie"
   ]
  },
  {
   "cell_type": "code",
   "execution_count": 25,
   "id": "63e31ed7",
   "metadata": {},
   "outputs": [
    {
     "data": {
      "text/plain": [
       "<music21.tie.Tie stop>"
      ]
     },
     "execution_count": 25,
     "metadata": {},
     "output_type": "execute_result"
    }
   ],
   "source": [
    "n1.next('Note').tie"
   ]
  },
  {
   "cell_type": "code",
   "execution_count": 26,
   "id": "fb72e3fb",
   "metadata": {},
   "outputs": [
    {
     "name": "stdout",
     "output_type": "stream",
     "text": [
      "None\n"
     ]
    }
   ],
   "source": [
    "# The previous Note though, has a .tie of None\n",
    "print(n1.previous('Note').tie)"
   ]
  },
  {
   "cell_type": "markdown",
   "id": "9a279d0a",
   "metadata": {},
   "source": [
    "We can find the value of ‘start’ or ‘stop’ in the *.type* attribute"
   ]
  },
  {
   "cell_type": "code",
   "execution_count": 27,
   "id": "53ade87c",
   "metadata": {},
   "outputs": [
    {
     "data": {
      "text/plain": [
       "'start'"
      ]
     },
     "execution_count": 27,
     "metadata": {},
     "output_type": "execute_result"
    }
   ],
   "source": [
    "n1.tie.type"
   ]
  },
  {
   "cell_type": "code",
   "execution_count": 28,
   "id": "e7c3821d",
   "metadata": {},
   "outputs": [
    {
     "data": {
      "text/plain": [
       "'stop'"
      ]
     },
     "execution_count": 28,
     "metadata": {},
     "output_type": "execute_result"
    }
   ],
   "source": [
    "n1.next('Note').tie.type"
   ]
  },
  {
   "cell_type": "markdown",
   "id": "7e48e59c",
   "metadata": {},
   "source": [
    "There is a third tie type,‘continue’ if a the note is tied from before and tied to the next note."
   ]
  },
  {
   "cell_type": "code",
   "execution_count": 29,
   "id": "d433ac8d",
   "metadata": {},
   "outputs": [],
   "source": [
    "c0 = note.Note('C4')\n",
    "c0.tie = tie.Tie('start')\n",
    "c1 = note.Note('C4')\n",
    "c1.tie = tie.Tie('continue')\n",
    "c2 = note.Note('C4')\n",
    "c2.tie = tie.Tie('stop')\n",
    "s = stream.Measure()\n",
    "s.append([c0, c1, c2])\n",
    "s.show('xml')"
   ]
  },
  {
   "attachments": {
    "image.png": {
     "image/png": "[encoded data removed]"
    }
   },
   "cell_type": "markdown",
   "id": "0bda4f7d",
   "metadata": {},
   "source": [
    "![image.png](attachment:image.png)"
   ]
  },
  {
   "cell_type": "markdown",
   "id": "3c98bcb2",
   "metadata": {},
   "source": [
    "Ties also have a *.placement* attribute which can be ‘above’, ‘below’, or None"
   ]
  },
  {
   "cell_type": "code",
   "execution_count": 30,
   "id": "e42584a7",
   "metadata": {},
   "outputs": [],
   "source": [
    "c0.tie.placement = 'above'\n",
    "s.show('xml')"
   ]
  },
  {
   "attachments": {
    "image.png": {
     "image/png": "[encoded data removed]"
    }
   },
   "cell_type": "markdown",
   "id": "e0d42530",
   "metadata": {},
   "source": [
    "![image.png](attachment:image.png)"
   ]
  },
  {
   "cell_type": "markdown",
   "id": "44a8717e",
   "metadata": {},
   "source": [
    "Ties also have a style attribute that represents how the tie should be displayed."
   ]
  },
  {
   "cell_type": "code",
   "execution_count": 31,
   "id": "c6da4381",
   "metadata": {},
   "outputs": [],
   "source": [
    "# It can be one of ‘normal’, ‘dotted’, ‘dashed’, or ‘hidden’\n",
    "s = stream.Stream()\n",
    "for tie_style in ('normal', 'dotted', 'dashed', 'hidden'):\n",
    "    nStart = note.Note('E4')\n",
    "    tStart = tie.Tie('start')\n",
    "    tStart.style = tie_style\n",
    "    nStart.tie = tStart\n",
    "    nStop = note.Note('E4')\n",
    "    tStop = tie.Tie('stop')\n",
    "    tStop.style = tie_style # optional\n",
    "    nStop.tie = tStop\n",
    "    s.append([nStart, nStop])\n",
    "s.show('xml')"
   ]
  },
  {
   "attachments": {
    "image.png": {
     "image/png": "[encoded data removed]"
    }
   },
   "cell_type": "markdown",
   "id": "fe729253",
   "metadata": {},
   "source": [
    "![image.png](attachment:image.png)|"
   ]
  },
  {
   "cell_type": "markdown",
   "id": "2e7c301d",
   "metadata": {},
   "source": [
    "## Ties and chords"
   ]
  },
  {
   "cell_type": "markdown",
   "id": "215422dd",
   "metadata": {},
   "source": [
    "Chords also have a *.tie* attribute:"
   ]
  },
  {
   "cell_type": "code",
   "execution_count": 32,
   "id": "ff476ee7",
   "metadata": {},
   "outputs": [],
   "source": [
    "ch0 = chord.Chord('C4 G4 B4')\n",
    "ch0.tie = tie.Tie('start')\n",
    "ch1 = chord.Chord('C4 G4 B4')\n",
    "ch1.tie = tie.Tie('stop')\n",
    "s = stream.Measure()\n",
    "s.append([ch0, ch1])\n",
    "s.show('xml')"
   ]
  },
  {
   "attachments": {
    "image.png": {
     "image/png": "[encoded data removed]"
    }
   },
   "cell_type": "markdown",
   "id": "c5699272",
   "metadata": {},
   "source": [
    "![image.png](attachment:image.png)"
   ]
  },
  {
   "cell_type": "markdown",
   "id": "cefde84b",
   "metadata": {},
   "source": [
    "what if there are two chords where some notes should be tied and some should not be"
   ]
  },
  {
   "cell_type": "code",
   "execution_count": 33,
   "id": "f84a5e76",
   "metadata": {},
   "outputs": [],
   "source": [
    "ch2 = chord.Chord('D4 G4 A4')\n",
    "ch3 = chord.Chord('D4 F#4 A4')\n",
    "s = stream.Measure()\n",
    "s.append([ch2, ch3])\n",
    "s.show('xml')"
   ]
  },
  {
   "attachments": {
    "image.png": {
     "image/png": "[encoded data removed]"
    }
   },
   "cell_type": "markdown",
   "id": "8fe3eced",
   "metadata": {},
   "source": [
    "![image.png](attachment:image.png)"
   ]
  },
  {
   "cell_type": "markdown",
   "id": "84d63316",
   "metadata": {},
   "source": [
    " looks for the *.tie* attribute on **Notes** or **Chords**, not Pitches"
   ]
  },
  {
   "cell_type": "code",
   "execution_count": 35,
   "id": "f298584f",
   "metadata": {},
   "outputs": [
    {
     "name": "stdout",
     "output_type": "stream",
     "text": [
      "<music21.note.Note D>\n",
      "<music21.note.Note G>\n",
      "<music21.note.Note A>\n"
     ]
    }
   ],
   "source": [
    "# Chords store not just pitch objects, but also Note objects\n",
    "for n in ch2:\n",
    "    print(n)"
   ]
  },
  {
   "cell_type": "code",
   "execution_count": 36,
   "id": "28215667",
   "metadata": {},
   "outputs": [
    {
     "data": {
      "text/plain": [
       "<music21.note.Note D>"
      ]
     },
     "execution_count": 36,
     "metadata": {},
     "output_type": "execute_result"
    }
   ],
   "source": [
    "ch2[0]"
   ]
  },
  {
   "cell_type": "code",
   "execution_count": 37,
   "id": "9e3c01a7",
   "metadata": {},
   "outputs": [],
   "source": [
    "ch2[0].tie = tie.Tie('start')"
   ]
  },
  {
   "cell_type": "code",
   "execution_count": 38,
   "id": "5bf99a59",
   "metadata": {},
   "outputs": [
    {
     "data": {
      "text/plain": [
       "<music21.note.Note A>"
      ]
     },
     "execution_count": 38,
     "metadata": {},
     "output_type": "execute_result"
    }
   ],
   "source": [
    "# passing in the pitch name of the Note to the chord\n",
    "ch2['A4']"
   ]
  },
  {
   "cell_type": "code",
   "execution_count": 39,
   "id": "9ab21d64",
   "metadata": {},
   "outputs": [
    {
     "data": {
      "text/plain": [
       "<music21.tie.Tie start>"
      ]
     },
     "execution_count": 39,
     "metadata": {},
     "output_type": "execute_result"
    }
   ],
   "source": [
    "# We can also retrieve directly in the chord from the index\n",
    "ch2['D4.tie']"
   ]
  },
  {
   "cell_type": "code",
   "execution_count": 40,
   "id": "446b468c",
   "metadata": {},
   "outputs": [
    {
     "data": {
      "text/plain": [
       "<music21.tie.Tie start>"
      ]
     },
     "execution_count": 40,
     "metadata": {},
     "output_type": "execute_result"
    }
   ],
   "source": [
    "# or\n",
    "ch2['0.tie']"
   ]
  },
  {
   "cell_type": "markdown",
   "id": "ee8deafe",
   "metadata": {},
   "source": [
    "And we can set the information this way too"
   ]
  },
  {
   "cell_type": "code",
   "execution_count": 41,
   "id": "d438d191",
   "metadata": {},
   "outputs": [],
   "source": [
    "ch2['A4.tie'] = tie.Tie('start')"
   ]
  },
  {
   "cell_type": "code",
   "execution_count": 42,
   "id": "a1a011e6",
   "metadata": {},
   "outputs": [],
   "source": [
    "ch3['D4.tie'] = tie.Tie('start')\n",
    "ch3['A4.tie'] = tie.Tie('start')\n",
    "\n",
    "s.show('xml')"
   ]
  },
  {
   "attachments": {
    "image.png": {
     "image/png": "[encoded data removed]"
    }
   },
   "cell_type": "markdown",
   "id": "cc708f63",
   "metadata": {},
   "source": [
    "![image.png](attachment:image.png)"
   ]
  },
  {
   "cell_type": "markdown",
   "id": "fd6f306b",
   "metadata": {},
   "source": [
    "Here is an example of a case where we might want to set the *.placement* attribute of a tie manually"
   ]
  },
  {
   "cell_type": "code",
   "execution_count": 43,
   "id": "296d9278",
   "metadata": {},
   "outputs": [],
   "source": [
    "c1 = chord.Chord('C#4 E4 G4')\n",
    "c2 = chord.Chord('C4 E4 G4')\n",
    "c1[1].tie = tie.Tie('start')\n",
    "c2[1].tie = tie.Tie('stop')\n",
    "c1[2].tie = tie.Tie('start')\n",
    "c2[2].tie = tie.Tie('stop')\n",
    "s = stream.Stream()\n",
    "s.append([c1, c2])\n",
    "s.show('xml')"
   ]
  },
  {
   "attachments": {
    "image.png": {
     "image/png": "[encoded data removed]"
    }
   },
   "cell_type": "markdown",
   "id": "a9a7e208",
   "metadata": {},
   "source": [
    "![image.png](attachment:image.png)"
   ]
  },
  {
   "cell_type": "markdown",
   "id": "24827d79",
   "metadata": {},
   "source": [
    "Hmm… the E tie intersects with the accidental and looks too confusing with a tie on the C# to C"
   ]
  },
  {
   "cell_type": "code",
   "execution_count": 44,
   "id": "f09bb0da",
   "metadata": {},
   "outputs": [],
   "source": [
    "c1[1].tie.placement = 'above'\n",
    "s.show('xml')"
   ]
  },
  {
   "attachments": {
    "image.png": {
     "image/png": "[encoded data removed]"
    }
   },
   "cell_type": "markdown",
   "id": "0f118cb5",
   "metadata": {},
   "source": [
    "![image.png](attachment:image.png)"
   ]
  },
  {
   "cell_type": "markdown",
   "id": "45446808",
   "metadata": {},
   "source": [
    "## Making and Stripping Ties from a Stream|"
   ]
  },
  {
   "cell_type": "markdown",
   "id": "98f4c6a8",
   "metadata": {},
   "source": [
    "Sometimes ties get in the way of analysis.|"
   ]
  },
  {
   "cell_type": "code",
   "execution_count": 58,
   "id": "ef3dfd33",
   "metadata": {},
   "outputs": [],
   "source": [
    "littlePiece = converter.parse('tinyNotation: 2/4 d4. e8~ e4 d4~ d8 f4.')\n",
    "littlePiece.show('xml')"
   ]
  },
  {
   "attachments": {
    "image.png": {
     "image/png": "[encoded data removed]"
    }
   },
   "cell_type": "markdown",
   "id": "a28b6a70",
   "metadata": {},
   "source": [
    "![image.png](attachment:image.png)"
   ]
  },
  {
   "cell_type": "markdown",
   "id": "814a1484",
   "metadata": {},
   "source": [
    "Suppose we wanted to know how many D’s are in this melody. This, unfortunately, isn’t the right approach:"
   ]
  },
  {
   "cell_type": "code",
   "execution_count": 46,
   "id": "d2e86326",
   "metadata": {},
   "outputs": [
    {
     "data": {
      "text/plain": [
       "3"
      ]
     },
     "execution_count": 46,
     "metadata": {},
     "output_type": "execute_result"
    }
   ],
   "source": [
    "numDs = 0\n",
    "for n in littlePiece.recurse().notes:\n",
    "    if n.pitch.name == 'D':\n",
    "        numDs += 1\n",
    "numDs"
   ]
  },
  {
   "cell_type": "markdown",
   "id": "af00942a",
   "metadata": {},
   "source": [
    "The first D is found properly, but the second D, being spanned across a barline, is counted twice. We need to fix it:"
   ]
  },
  {
   "cell_type": "code",
   "execution_count": 47,
   "id": "7028181b",
   "metadata": {},
   "outputs": [
    {
     "data": {
      "text/plain": [
       "2"
      ]
     },
     "execution_count": 47,
     "metadata": {},
     "output_type": "execute_result"
    }
   ],
   "source": [
    "numDs = 0\n",
    "for n in littlePiece.recurse().notes:\n",
    "    if (n.pitch.name == 'D'\n",
    "            and (n.tie is None\n",
    "                 or n.tie.type == 'start')):\n",
    "        numDs += 1\n",
    "numDs"
   ]
  },
  {
   "cell_type": "markdown",
   "id": "b5165725",
   "metadata": {},
   "source": [
    "But this code will get very tedious if you also want to do something more complex, so it would be better if **the Stream had no tied notes in it**.\n",
    "\n",
    "To take a Stream with tied notes and change it into a Stream with tied notes **represented by a single note**, call ***stripTies()*** on the Stream"
   ]
  },
  {
   "cell_type": "code",
   "execution_count": 48,
   "id": "85401f8d",
   "metadata": {},
   "outputs": [],
   "source": [
    "c = chord.Chord('C#4 E4 G4')\n",
    "c.tie = tie.Tie('start')\n",
    "c2 = chord.Chord('C#4 E4 G4')\n",
    "c2.tie = tie.Tie('stop')\n",
    "s = stream.Measure()\n",
    "s.append([c, c2])\n",
    "s.show('xml')"
   ]
  },
  {
   "attachments": {
    "image.png": {
     "image/png": "[encoded data removed]"
    }
   },
   "cell_type": "markdown",
   "id": "97f3f37d",
   "metadata": {},
   "source": [
    "![image.png](attachment:image.png)"
   ]
  },
  {
   "cell_type": "code",
   "execution_count": 49,
   "id": "2d4cfaee",
   "metadata": {},
   "outputs": [],
   "source": [
    "s2 = s.stripTies()\n",
    "s2.show('xml')"
   ]
  },
  {
   "attachments": {
    "image.png": {
     "image/png": "[encoded data removed]"
    }
   },
   "cell_type": "markdown",
   "id": "1a4f5777",
   "metadata": {},
   "source": [
    "![image.png](attachment:image.png)"
   ]
  },
  {
   "cell_type": "markdown",
   "id": "b4aa92a8",
   "metadata": {},
   "source": [
    "So, getting back to our little piece"
   ]
  },
  {
   "cell_type": "code",
   "execution_count": 59,
   "id": "a2ad3d59",
   "metadata": {},
   "outputs": [],
   "source": [
    "# let’s get a score where the ties are stripped, but we’ll retain the measures\n",
    "littleStripped = littlePiece.stripTies()"
   ]
  },
  {
   "cell_type": "markdown",
   "id": "4ece1552",
   "metadata": {},
   "source": [
    "Now we’ll count the D’s again:"
   ]
  },
  {
   "cell_type": "code",
   "execution_count": 60,
   "id": "126797bd",
   "metadata": {},
   "outputs": [
    {
     "data": {
      "text/plain": [
       "2"
      ]
     },
     "execution_count": 60,
     "metadata": {},
     "output_type": "execute_result"
    }
   ],
   "source": [
    "numDs = 0\n",
    "for n in littleStripped.recurse().notes:\n",
    "    if n.pitch.name == 'D':\n",
    "        numDs += 1\n",
    "numDs"
   ]
  },
  {
   "cell_type": "markdown",
   "id": "892602b5",
   "metadata": {},
   "source": [
    "Let’s look at *littleStripped* in a bit more detail"
   ]
  },
  {
   "cell_type": "code",
   "execution_count": 61,
   "id": "f2e6915b",
   "metadata": {},
   "outputs": [
    {
     "name": "stdout",
     "output_type": "stream",
     "text": [
      "{0.0 - 3.0} <music21.stream.Measure 1 offset=0.0>\n",
      "    {0.0 - 0.0} <music21.clef.TrebleClef>\n",
      "    {0.0 - 0.0} <music21.meter.TimeSignature 2/4>\n",
      "    {0.0 - 1.5} <music21.note.Note D>\n",
      "    {1.5 - 3.0} <music21.note.Note E>\n",
      "{2.0 - 4.5} <music21.stream.Measure 2 offset=2.0>\n",
      "    {1.0 - 2.5} <music21.note.Note D>\n",
      "{4.0 - 6.0} <music21.stream.Measure 3 offset=4.0>\n",
      "    {0.5 - 2.0} <music21.note.Note F>\n",
      "    {2.0 - 2.0} <music21.bar.Barline type=final>\n"
     ]
    }
   ],
   "source": [
    "# showing it as a text output with end times of each object added\n",
    "littleStripped.show('text', addEndTimes=True)"
   ]
  },
  {
   "cell_type": "markdown",
   "id": "6941a396",
   "metadata": {},
   "source": [
    "One thing to notice is that the **note E** extends now beyond the end of the first 2/4 measure. \n",
    "\n",
    "The **second D**, in measure 2, by contrast, does not begin at the beginning of the measure, but instead halfway through the first measure.\n",
    "\n",
    "This is why it’s sometimes most helpful to follow *stripTies()* with a *.flatten()*:"
   ]
  },
  {
   "cell_type": "code",
   "execution_count": 62,
   "id": "008af728",
   "metadata": {},
   "outputs": [
    {
     "name": "stdout",
     "output_type": "stream",
     "text": [
      "{0.0 - 0.0} <music21.clef.TrebleClef>\n",
      "{0.0 - 0.0} <music21.meter.TimeSignature 2/4>\n",
      "{0.0 - 1.5} <music21.note.Note D>\n",
      "{1.5 - 3.0} <music21.note.Note E>\n",
      "{3.0 - 4.5} <music21.note.Note D>\n",
      "{4.5 - 6.0} <music21.note.Note F>\n",
      "{6.0 - 6.0} <music21.bar.Barline type=final>\n"
     ]
    }
   ],
   "source": [
    "stripped2 = littlePiece.stripTies().flatten()\n",
    "stripped2.show('text', addEndTimes=True)"
   ]
  },
  {
   "cell_type": "code",
   "execution_count": 63,
   "id": "d0c4cf49",
   "metadata": {},
   "outputs": [],
   "source": [
    "littleStripped.show('xml')"
   ]
  },
  {
   "attachments": {
    "image.png": {
     "image/png": "[encoded data removed]"
    }
   },
   "cell_type": "markdown",
   "id": "bb9c5bd8",
   "metadata": {},
   "source": [
    "![image.png](attachment:image.png)"
   ]
  },
  {
   "cell_type": "markdown",
   "id": "19a3e383",
   "metadata": {},
   "source": [
    "## Beams"
   ]
  },
  {
   "cell_type": "markdown",
   "id": "5d01e4a9",
   "metadata": {},
   "source": [
    "Beams make it easier to read groups of eighth, sixteenth, and smaller notes by grouping them together."
   ]
  },
  {
   "cell_type": "code",
   "execution_count": 64,
   "id": "9a8bb455",
   "metadata": {},
   "outputs": [
    {
     "name": "stdout",
     "output_type": "stream",
     "text": [
      "{0.0} <music21.note.Note C>\n",
      "{1.0} <music21.note.Note D>\n",
      "{1.5} <music21.note.Note D>\n",
      "{2.0} <music21.note.Note E>\n",
      "{2.25} <music21.note.Note E>\n",
      "{2.5} <music21.note.Note E>\n",
      "{2.75} <music21.note.Note E>\n"
     ]
    }
   ],
   "source": [
    "m = stream.Measure()\n",
    "c = note.Note('C4', type='quarter')\n",
    "m.append(c)\n",
    "d1 = note.Note('D4', type='eighth')\n",
    "d2 = note.Note('D4', type='eighth')\n",
    "m.append([d1, d2])\n",
    "e = note.Note('E4', type='16th')\n",
    "m.repeatAppend(e, 4)\n",
    "m.show('text')"
   ]
  },
  {
   "cell_type": "markdown",
   "id": "306a20d9",
   "metadata": {},
   "source": [
    "Every note and chord has a *.beams* attribute"
   ]
  },
  {
   "cell_type": "code",
   "execution_count": 65,
   "id": "39378aee",
   "metadata": {},
   "outputs": [
    {
     "data": {
      "text/plain": [
       "<music21.beam.Beams>"
      ]
     },
     "execution_count": 65,
     "metadata": {},
     "output_type": "execute_result"
    }
   ],
   "source": [
    "c.beams"
   ]
  },
  {
   "cell_type": "markdown",
   "id": "c7324987",
   "metadata": {},
   "source": [
    "but d1 and d2 being eighth notes, should probably be beamed.\n",
    "\n",
    "So we will create a *Beam* object for **d1** "
   ]
  },
  {
   "cell_type": "code",
   "execution_count": 66,
   "id": "ab066de2",
   "metadata": {},
   "outputs": [],
   "source": [
    "beam1 = beam.Beam(type='start', number=1)"
   ]
  },
  {
   "cell_type": "code",
   "execution_count": 67,
   "id": "d78a257f",
   "metadata": {},
   "outputs": [
    {
     "data": {
      "text/plain": [
       "<music21.beam.Beams <music21.beam.Beam 1/start>>"
      ]
     },
     "execution_count": 67,
     "metadata": {},
     "output_type": "execute_result"
    }
   ],
   "source": [
    "d1Beams = d1.beams\n",
    "d1Beams.append(beam1)\n",
    "d1.beams"
   ]
  },
  {
   "cell_type": "code",
   "execution_count": 68,
   "id": "d3c37bc9",
   "metadata": {},
   "outputs": [
    {
     "data": {
      "text/plain": [
       "<music21.beam.Beams <music21.beam.Beam 1/start>>"
      ]
     },
     "execution_count": 68,
     "metadata": {},
     "output_type": "execute_result"
    }
   ],
   "source": [
    "d1Beams"
   ]
  },
  {
   "cell_type": "markdown",
   "id": "431d3db0",
   "metadata": {},
   "source": [
    "But this way is tedious, let's do it easier"
   ]
  },
  {
   "cell_type": "code",
   "execution_count": 69,
   "id": "396001d3",
   "metadata": {},
   "outputs": [
    {
     "data": {
      "text/plain": [
       "<music21.beam.Beams <music21.beam.Beam 1/stop>>"
      ]
     },
     "execution_count": 69,
     "metadata": {},
     "output_type": "execute_result"
    }
   ],
   "source": [
    "d2.beams.append('stop')\n",
    "d2.beams"
   ]
  },
  {
   "cell_type": "markdown",
   "id": "ec4a8cf3",
   "metadata": {},
   "source": [
    "Now when we show the score we’ll see it with some beams:"
   ]
  },
  {
   "cell_type": "code",
   "execution_count": 70,
   "id": "472409d5",
   "metadata": {},
   "outputs": [],
   "source": [
    "m.show('xml')"
   ]
  },
  {
   "attachments": {
    "image.png": {
     "image/png": "[encoded data removed]"
    }
   },
   "cell_type": "markdown",
   "id": "7a6764ce",
   "metadata": {},
   "source": [
    "![image.png](attachment:image.png)"
   ]
  },
  {
   "cell_type": "markdown",
   "id": "068b08a2",
   "metadata": {},
   "source": [
    "here’s an even easier way to **add multiple beams** by *.beams.fill()*"
   ]
  },
  {
   "cell_type": "code",
   "execution_count": 71,
   "id": "3e0db0c3",
   "metadata": {},
   "outputs": [],
   "source": [
    "m.notes[3].beams.fill(2, 'start')\n",
    "m.notes[4].beams.fill(2, 'continue')\n",
    "m.notes[5].beams.fill(2, 'continue')\n",
    "m.notes[6].beams.fill(2, 'stop')\n",
    "m.show('xml')"
   ]
  },
  {
   "attachments": {
    "image.png": {
     "image/png": "[encoded data removed]"
    }
   },
   "cell_type": "markdown",
   "id": "37a6e831",
   "metadata": {},
   "source": [
    "![image.png](attachment:image.png)"
   ]
  },
  {
   "cell_type": "markdown",
   "id": "14a1c4bd",
   "metadata": {},
   "source": [
    "There are cases, such as dotted eighths followed by sixteenths, where **partial beams** are needed:"
   ]
  },
  {
   "cell_type": "code",
   "execution_count": 76,
   "id": "11f15562",
   "metadata": {},
   "outputs": [],
   "source": [
    "m2 = stream.Measure()\n",
    "m2.append(meter.TimeSignature('6/8'))\n",
    "c4 = note.Note('C4')\n",
    "d8 = note.Note('D4', type='eighth')\n",
    "e8 = note.Note('E4', type='eighth')\n",
    "e8.beams.append('start')\n",
    "f16 = note.Note('F4', type='16th')\n",
    "f16.beams.append('continue')\n",
    "m2.append([c4, d8, e8, f16])"
   ]
  },
  {
   "cell_type": "code",
   "execution_count": 77,
   "id": "f16a791e",
   "metadata": {},
   "outputs": [],
   "source": [
    "m2.show('xml')"
   ]
  },
  {
   "attachments": {
    "image.png": {
     "image/png": "[encoded data removed]"
    }
   },
   "cell_type": "markdown",
   "id": "50e16804",
   "metadata": {},
   "source": [
    "![image.png](attachment:image.png)"
   ]
  },
  {
   "cell_type": "markdown",
   "id": "a70ee09b",
   "metadata": {},
   "source": [
    "Now comes the second, partial beam, which we’ll make go right:"
   ]
  },
  {
   "cell_type": "code",
   "execution_count": 78,
   "id": "d4b00032",
   "metadata": {},
   "outputs": [],
   "source": [
    "f16.beams.append('partial', 'right')\n",
    "g8 = note.Note('G4', type='eighth')\n",
    "g8.beams.append('continue')\n",
    "a16 = note.Note('A4', type='16th')\n",
    "a16.beams.append('stop')\n",
    "a16.beams.append('partial', 'left')\n",
    "m2.append([ g8, a16])\n",
    "m2.show('xml')"
   ]
  },
  {
   "attachments": {
    "image.png": {
     "image/png": "[encoded data removed]"
    }
   },
   "cell_type": "markdown",
   "id": "0d759fcc",
   "metadata": {},
   "source": [
    "![image.png](attachment:image.png)"
   ]
  },
  {
   "cell_type": "markdown",
   "id": "b67930fb",
   "metadata": {},
   "source": [
    "## Beams the easy way"
   ]
  },
  {
   "cell_type": "markdown",
   "id": "b7bf0417",
   "metadata": {},
   "source": [
    "Sometimes you don't need to worry about  beams, music21 will help you to handle it automatically."
   ]
  },
  {
   "cell_type": "code",
   "execution_count": 2,
   "id": "3bbd4eaa",
   "metadata": {},
   "outputs": [],
   "source": [
    "m = stream.Measure()\n",
    "ts34 = meter.TimeSignature('3/4')\n",
    "m.append(ts34)\n",
    "c = note.Note('C4', type='quarter')\n",
    "m.append(c)\n",
    "d1 = note.Note('D4', type='eighth')\n",
    "d2 = note.Note('D4', type='eighth')\n",
    "m.append([d1, d2])\n",
    "e = note.Note('E4', type='16th')\n",
    "m.repeatAppend(e, 4)\n",
    "m.show('xml')"
   ]
  },
  {
   "attachments": {
    "image.png": {
     "image/png": "[encoded data removed]"
    }
   },
   "cell_type": "markdown",
   "id": "f40b6635",
   "metadata": {},
   "source": [
    "![image.png](attachment:image.png)"
   ]
  },
  {
   "cell_type": "markdown",
   "id": "1b0881cd",
   "metadata": {},
   "source": [
    "If the TimeSignature changes, *music21* will rebeam it differently:"
   ]
  },
  {
   "cell_type": "code",
   "execution_count": 3,
   "id": "08910516",
   "metadata": {},
   "outputs": [],
   "source": [
    "ts68 = meter.TimeSignature('6/8')\n",
    "m.replace(ts34, ts68)\n",
    "m.show('xml')"
   ]
  },
  {
   "attachments": {
    "image.png": {
     "image/png": "[encoded data removed]"
    }
   },
   "cell_type": "markdown",
   "id": "7260012b",
   "metadata": {},
   "source": [
    "![image.png](attachment:image.png)"
   ]
  }
 ],
 "metadata": {
  "kernelspec": {
   "display_name": "music21_doc",
   "language": "python",
   "name": "music21_doc"
  },
  "language_info": {
   "codemirror_mode": {
    "name": "ipython",
    "version": 3
   },
   "file_extension": ".py",
   "mimetype": "text/x-python",
   "name": "python",
   "nbconvert_exporter": "python",
   "pygments_lexer": "ipython3",
   "version": "3.8.16"
  }
 },
 "nbformat": 4,
 "nbformat_minor": 5
}
